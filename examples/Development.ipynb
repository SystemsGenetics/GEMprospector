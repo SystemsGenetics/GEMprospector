{
 "cells": [
  {
   "cell_type": "markdown",
   "metadata": {
    "pycharm": {
     "name": "#%% md\n"
    }
   },
   "source": [
    "### Overview\n",
    "\n",
    "Maintaining GSForge involves:\n",
    "\n",
    "+ PyPi package index.\n",
    "+ Documentation website \n",
    "    + hosted by github pages\n",
    "    + Built with [`nbsite`](https://nbsite.holoviz.org/), a version of `sphinx` which is used by Readthedocs.\n",
    "+ Docker images\n",
    "    + Interactive image, this is likely to be the source for a future 'SciAPP' as well.\n",
    "    + Workflow images.\n",
    "    \n",
    "The above repositories and websites are all kept up-to-date using travis ci.\n",
    "    \n",
    "\n",
    "### Travis CI\n",
    "\n",
    "Travis integration is setup through the `.travis.yml` file.\n",
    "\n",
    "\n",
    "### Generating the Documentation\n",
    "\n",
    "**Prerequisites:**\n",
    "\n",
    "+ [`nbsite`](https://github.com/pyviz-dev/nbsite) *This is a requirement for the classes defined based upon `param.Parameterized` to render nicely.*\n",
    "    `nbsite` is essentially a wrapper for a call to `sphinx-build`,\n",
    "    with some additional tools to handle jupyter notebooks.\n",
    "    This means that [sphinx](https://www.sphinx-doc.org/en/master/usage/configuration.html) can be used as normal, \n",
    "    including being configured via `doc/conf.py`.\n",
    "+ [`nbsmoke`](https://github.com/pyviz-dev/nbsmoke)\n",
    "    For basic notebook checks.\n",
    " \n",
    "\n",
    "**Initial setup notes:**\n",
    " \n",
    "The documentation is generated per the [usage docs](https://nbsite.holoviz.org/Usage.html) of `nbsite`.\n",
    "See the `.travis.yml` file to see how `nbsite` is called to build the docs.\n",
    "\n",
    "### Maintaining the Docs\n",
    "\n",
    "1. Ensure that all `.rst` files have their table of contents (toc) updated.\n",
    "2. **Notebooks**\n",
    "    + If a notebook is removed, ensure the corresponding `.rst` file is no longer in the repository.\n",
    "    + Notebooks are evaluated upon each update to the documentation, \n",
    "      unless the evaluated notebook is found locally, or an `.rst` directive declares `:skip_execute: True`.\n",
    "      Therefor `.rst` files that must have non-default directives must be added to the repository.\n",
    "3. **API**\n",
    "    + The docstrings within `GSForge` are written with [RestructuredText](https://docutils.sourceforge.io/rst.html).\n",
    "    + The core classes are built upon `param.Parameterized`, ensure parameters are documented.\n",
    "\n",
    "\n",
    "#### More on Notebooks\n",
    "\n",
    "Normally notebooks are viewed by an restructured text directive.\n",
    "These container files are constructed automatically during the travis build via:\n",
    "\n",
    "```bash\n",
    "nbsite generate-rst --org SystemsGenetics --project-name GSForge\n",
    "```\n",
    "\n",
    "If a notebook should not be run by travis for whatever reason, \n",
    "the containing .rst file should be generated using the above command.\n",
    "Then the directive can be modified by setting the skip_execute option to `True`.\n",
    "\n",
    "```\n",
    ".. notebook:: GSForge ../relative/path/to/notebook.ipynb\n",
    "    :offset: 0\n",
    "    :skip_execute: True\n",
    "```\n",
    "\n",
    "The `offset` option controls how many cells are to be skipped.\n",
    "This is there since the default uses the notebook name as the displayed title.\n",
    "\n",
    "\n",
    "**Testing Notebooks** *(optional)*\n",
    "    \n",
    "You can test if all of the example notebooks run with `nbsmoke` (this is what the travis ci will do) to check if they all run.\n",
    "\n",
    "```bash\n",
    "pytest --nbsmoke-run examples/**/*.ipynb\n",
    "```\n",
    "\n",
    "\n",
    "### Maintaining Docker Images\n",
    "\n",
    "The docker images used by `GSForge` are based on the [Jupyter Docker Stacks](https://jupyter-docker-stacks.readthedocs.io/en/latest/index.html).\n"
   ]
  }
 ],
 "metadata": {
  "kernelspec": {
   "display_name": "Python (base)",
   "language": "python",
   "name": "python3"
  },
  "language_info": {
   "codemirror_mode": {
    "name": "ipython",
    "version": 3
   },
   "file_extension": ".py",
   "mimetype": "text/x-python",
   "name": "python",
   "nbconvert_exporter": "python",
   "pygments_lexer": "ipython3",
   "version": "3.7.3"
  },
  "pycharm": {
   "stem_cell": {
    "cell_type": "raw",
    "source": [],
    "metadata": {
     "collapsed": false
    }
   }
  }
 },
 "nbformat": 4,
 "nbformat_minor": 4
}