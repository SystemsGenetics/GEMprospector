{
 "cells": [
  {
   "cell_type": "markdown",
   "metadata": {},
   "source": [
    "This notebook covers the basics of loading and saving `.netcdf` files from R.\n",
    "\n",
    "`GSForge` has no utility functions to help within R."
   ]
  },
  {
   "cell_type": "code",
   "execution_count": 3,
   "metadata": {},
   "outputs": [],
   "source": [
    "AGEM_PATH = \"~/GSForge_demo_data/osfstorage/rice.nc\"\n",
    "DEG_COLL_PATH = \"~/GSForge_demo_data/osfstorage/DEG_gene_sets\""
   ]
  },
  {
   "cell_type": "code",
   "execution_count": 2,
   "metadata": {},
   "outputs": [],
   "source": [
    "library(ncdf4)"
   ]
  },
  {
   "cell_type": "code",
   "execution_count": 5,
   "metadata": {},
   "outputs": [],
   "source": [
    "agem_nc = nc_open(AGEM_PATH)"
   ]
  },
  {
   "cell_type": "code",
   "execution_count": 6,
   "metadata": {},
   "outputs": [
    {
     "data": {
      "text/plain": [
       "File ~/GSForge_demo_data/osfstorage/rice.nc (NC_FORMAT_NETCDF4):\n",
       "\n",
       "     9 variables (excluding dimension variables):\n",
       "        string SampleSRR[Sample]   (Contiguous storage)  \n",
       "        string Treatment[Sample]   (Contiguous storage)  \n",
       "        8 byte int Time[Sample]   (Contiguous storage)  \n",
       "        string Tissue[Sample]   (Contiguous storage)  \n",
       "        string Genotype[Sample]   (Contiguous storage)  \n",
       "        string Subspecies[Sample]   (Contiguous storage)  \n",
       "        8 byte int counts[Gene,Sample]   (Contiguous storage)  \n",
       "        double lengths[Gene]   (Contiguous storage)  \n",
       "            _FillValue: NaN\n",
       "        double uq_counts[Gene,Sample]   (Contiguous storage)  \n",
       "            _FillValue: NaN\n",
       "\n",
       "     2 dimensions:\n",
       "        Gene  Size:55986\n",
       "        Sample  Size:475\n",
       "\n",
       "    1 global attributes:\n",
       "        __GSForge.AnnotatedGEM.params: {\"count_array_name\": \"counts\", \"gene_index_name\": \"Gene\", \"name\": \"Rice\", \"sample_index_name\": \"Sample\"}"
      ]
     },
     "metadata": {},
     "output_type": "display_data"
    }
   ],
   "source": [
    "agem_nc"
   ]
  },
  {
   "cell_type": "markdown",
   "metadata": {},
   "source": [
    "See the [netcdf4 R package](https://cran.r-project.org/web/packages/ncdf4/index.html) for using netcdf in R.\n",
    "\n",
    "---"
   ]
  }
 ],
 "metadata": {
  "kernelspec": {
   "display_name": "R",
   "language": "R",
   "name": "ir"
  },
  "language_info": {
   "codemirror_mode": "r",
   "file_extension": ".r",
   "mimetype": "text/x-r-source",
   "name": "R",
   "pygments_lexer": "r",
   "version": "3.6.2"
  }
 },
 "nbformat": 4,
 "nbformat_minor": 4
}
