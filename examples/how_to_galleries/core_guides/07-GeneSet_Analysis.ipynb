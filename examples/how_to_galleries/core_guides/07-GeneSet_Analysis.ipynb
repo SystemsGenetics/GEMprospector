{
 "cells": [
  {
   "cell_type": "markdown",
   "metadata": {},
   "source": [
    "This notebook gives some simple examples for:\n",
    "+ Comparing GeneSets to eachother via some machine-learning model score.\n",
    "+ Ranking genes within a geneset based on some machine-learning model.\n",
    "\n",
    "The iterations / generations trained in this notebook are low so that the notebook executes in a reasonable amount of time."
   ]
  },
  {
   "cell_type": "markdown",
   "metadata": {},
   "source": [
    "***Setting up the notebook***"
   ]
  },
  {
   "cell_type": "code",
   "execution_count": null,
   "metadata": {
    "pycharm": {
     "is_executing": false
    }
   },
   "outputs": [],
   "source": [
    "import os\n",
    "import numpy as np\n",
    "from sklearn.ensemble import RandomForestClassifier\n",
    "import pandas as pd\n",
    "import GSForge as gsf\n",
    "import scipy\n",
    "\n",
    "import holoviews as hv\n",
    "hv.extension(\"bokeh\")"
   ]
  },
  {
   "cell_type": "markdown",
   "metadata": {},
   "source": [
    "***Declare paths used***"
   ]
  },
  {
   "cell_type": "code",
   "execution_count": null,
   "metadata": {
    "jupyter": {
     "outputs_hidden": false
    },
    "pycharm": {
     "is_executing": false,
     "name": "#%%\n"
    }
   },
   "outputs": [],
   "source": [
    "# OS-independent path management.\n",
    "from os import fspath, environ\n",
    "from pathlib import Path"
   ]
  },
  {
   "cell_type": "code",
   "execution_count": null,
   "metadata": {},
   "outputs": [],
   "source": [
    "OSF_PATH = Path(environ.get(\"GSFORGE_DEMO_DATA\", default=\"~/GSForge_demo_data/osfstorage\")).expanduser()\n",
    "HYDRO_GEM_PATH = OSF_PATH.joinpath(\"AnnotatedGEMs\", \"oryza_sativa_hydro_raw.nc\")\n",
    "LIT_DGE_GSC_PATH = OSF_PATH.joinpath(\"Collections\", \"literature\", \"DGE\")\n",
    "LIT_TF_PATH = OSF_PATH.joinpath(\"Collections\", \"literature\", \"TF\")\n",
    "BORUTA_GSC_PATH = OSF_PATH.joinpath(\"Collections\", \"boruta\")\n",
    "assert HYDRO_GEM_PATH.exists()"
   ]
  },
  {
   "cell_type": "markdown",
   "metadata": {},
   "source": [
    "***Load an AnnotatedGEM***"
   ]
  },
  {
   "cell_type": "code",
   "execution_count": null,
   "metadata": {},
   "outputs": [],
   "source": [
    "agem = gsf.AnnotatedGEM(HYDRO_GEM_PATH)\n",
    "agem"
   ]
  },
  {
   "cell_type": "markdown",
   "metadata": {},
   "source": [
    "***Load GeneSetCollections***"
   ]
  },
  {
   "cell_type": "code",
   "execution_count": null,
   "metadata": {},
   "outputs": [],
   "source": [
    "%%time\n",
    "# lit_dge_coll = gsf.GeneSetCollection.from_folder(gem=agem, target_dir=LIT_DGE_GSC_PATH, name=\"Literature DGE\")\n",
    "# lit_tf_coll = gsf.GeneSetCollection.from_folder(gem=agem, target_dir=LIT_TF_PATH, name=\"Literature TF\")\n",
    "boruta_gsc = gsf.GeneSetCollection.from_folder(gem=agem, target_dir=BORUTA_GSC_PATH, name=\"Boruta Results\")\n",
    "# tf_geneset = gsf.GeneSet.from_GeneSets(*list(lit_tf_coll.gene_sets.values()), name='transcription factors')\n",
    "# combined_gsc = gsf.GeneSetCollection(gem=agem, gene_sets={**boruta_gsc.gene_sets, \n",
    "#                                                           **lit_dge_coll.gene_sets,\n",
    "#                                                           'transcription factors': tf_geneset})"
   ]
  },
  {
   "cell_type": "code",
   "execution_count": null,
   "metadata": {},
   "outputs": [],
   "source": [
    "# combined_gsc"
   ]
  },
  {
   "cell_type": "markdown",
   "metadata": {},
   "source": [
    "---\n",
    "\n",
    "## Scoring and Judging GeneSets"
   ]
  },
  {
   "cell_type": "code",
   "execution_count": null,
   "metadata": {},
   "outputs": [],
   "source": [
    "boruta_gsc[\"Boruta_treatment\"]"
   ]
  },
  {
   "cell_type": "code",
   "execution_count": null,
   "metadata": {},
   "outputs": [],
   "source": [
    "gene_rank_mdl = RandomForestClassifier(class_weight='balanced', n_estimators=1000, n_jobs=-2)"
   ]
  },
  {
   "cell_type": "markdown",
   "metadata": {},
   "source": [
    "***By feature importance***"
   ]
  },
  {
   "cell_type": "code",
   "execution_count": null,
   "metadata": {},
   "outputs": [],
   "source": [
    "%%time\n",
    "treatment_feature_importance = gsf.operations.RankGenesByModel(\n",
    "    boruta_gsc,\n",
    "    selected_gene_sets=[\"Boruta_treatment\"],\n",
    "    annotation_variables=[\"treatment\"],\n",
    "    model=gene_rank_mdl,\n",
    "    n_iterations=5\n",
    ")"
   ]
  },
  {
   "cell_type": "markdown",
   "metadata": {},
   "source": [
    "**nFDR**"
   ]
  },
  {
   "cell_type": "code",
   "execution_count": null,
   "metadata": {},
   "outputs": [],
   "source": [
    "%%time\n",
    "treatment_nFDR = gsf.operations.nFDR(\n",
    "    boruta_gsc,\n",
    "    selected_gene_sets=[\"Boruta_treatment\"],\n",
    "    annotation_variables=[\"treatment\"],\n",
    "    model=gene_rank_mdl,\n",
    "    n_iterations=5\n",
    ")"
   ]
  },
  {
   "cell_type": "markdown",
   "metadata": {},
   "source": [
    "**mProbes**"
   ]
  },
  {
   "cell_type": "code",
   "execution_count": null,
   "metadata": {},
   "outputs": [],
   "source": [
    "%%time\n",
    "treatment_mProbes = gsf.operations.analytics.mProbes(\n",
    "    boruta_gsc,\n",
    "    selected_gene_sets=[\"Boruta_treatment\"],\n",
    "    annotation_variables=[\"treatment\"],\n",
    "    model=gene_rank_mdl,\n",
    "    n_iterations=5\n",
    ")"
   ]
  },
  {
   "cell_type": "markdown",
   "metadata": {},
   "source": [
    "Then you can optionally store such results to a GeneSet using `xarray.DataSet.update()`."
   ]
  },
  {
   "cell_type": "code",
   "execution_count": null,
   "metadata": {},
   "outputs": [],
   "source": [
    "boruta_gsc[\"Boruta_treatment\"].data.update(treatment_feature_importance)\n",
    "boruta_gsc[\"Boruta_treatment\"].data.update(treatment_nFDR)\n",
    "boruta_gsc[\"Boruta_treatment\"].data.update(treatment_mProbes)\n",
    "# boruta_gsc[\"Boruta_treatment\"].data "
   ]
  },
  {
   "cell_type": "markdown",
   "metadata": {},
   "source": [
    "***Subset by supported genes***"
   ]
  },
  {
   "cell_type": "code",
   "execution_count": null,
   "metadata": {},
   "outputs": [],
   "source": [
    "ds = boruta_gsc[\"Boruta_treatment\"].data.sel(Gene=boruta_gsc[\"Boruta_treatment\"].gene_support())\n",
    "ds"
   ]
  },
  {
   "cell_type": "code",
   "execution_count": null,
   "metadata": {},
   "outputs": [],
   "source": [
    "# class GeneSetVariableScatter():\n",
    "    # gene_set, x_var, y_var, vdims=None"
   ]
  },
  {
   "cell_type": "code",
   "execution_count": null,
   "metadata": {},
   "outputs": [],
   "source": [
    "def scatter_variables(dataset, x_var, y_var):\n",
    "    \"\"\"\n",
    "    Directly plotting two variables (non-coordinates) against each other is not allowed from the holoviews.Dataset.to() interface.\n",
    "    \"\"\"\n",
    "    df = pd.DataFrame({\n",
    "        x_var: dataset[x_var].values,\n",
    "        y_var: dataset[y_var].values,\n",
    "        'Gene': dataset['Gene'].values\n",
    "    })\n",
    "    scatter = hv.Scatter(\n",
    "        data=df,\n",
    "        kdims=[x_var], \n",
    "        vdims=[y_var, 'Gene']\n",
    "    )\n",
    "    return scatter\n",
    "\n",
    "\n",
    "opts = hv.opts.Scatter(xlabel='Feature Importance Score', ylabel='Estimated FDR', logx=True, size=1.5, height=300, width=300, bgcolor='lightgray', show_grid=True)\n",
    "\n",
    "plot = scatter_variables(ds, 'feature_importance_mean', 'nFDR_mean').opts(opts)\n",
    "plot\n",
    "\n",
    "hv.save(plot, filename='figures/feature_importance_vs_FDR.png', fmt='png')"
   ]
  },
  {
   "cell_type": "code",
   "execution_count": null,
   "metadata": {},
   "outputs": [],
   "source": [
    "plot"
   ]
  },
  {
   "cell_type": "markdown",
   "metadata": {},
   "source": [
    "## Receiver Operating Characteristic (ROC)\n",
    "\n",
    "Another way to evaluate a classification model is the [ROC](https://scikit-learn.org/stable/auto_examples/model_selection/plot_roc.html#sphx-glr-auto-examples-model-selection-plot-roc-py).\n",
    "\n",
    "Viewing ROC curves for multi-label models is a bit indirect as we have to use a binary classifier for each unique target label, so we provide this walkthrough.\n",
    "Also examine the [sklearn demo](https://scikit-learn.org/stable/auto_examples/model_selection/plot_roc.html)."
   ]
  },
  {
   "cell_type": "code",
   "execution_count": null,
   "metadata": {},
   "outputs": [],
   "source": [
    "from sklearn.multiclass import OneVsRestClassifier\n",
    "from sklearn.metrics import roc_curve, auc, roc_auc_score, plot_roc_curve\n",
    "from sklearn import preprocessing, model_selection"
   ]
  },
  {
   "cell_type": "markdown",
   "metadata": {},
   "source": [
    "Get the count and annotation data from GSForge."
   ]
  },
  {
   "cell_type": "code",
   "execution_count": null,
   "metadata": {},
   "outputs": [],
   "source": [
    "counts, treatment = gsf.get_gem_data(boruta_gsc, annotation_variables=[\"treatment\"], selected_gene_sets=[\"Boruta_treatment\"])\n",
    "classes = treatment.to_series().unique()\n",
    "classes"
   ]
  },
  {
   "cell_type": "markdown",
   "metadata": {},
   "source": [
    "Encode the annotation labels with a [one hot encoder](https://scikit-learn.org/stable/modules/generated/sklearn.preprocessing.OneHotEncoder.html#sklearn.preprocessing.OneHotEncoder)."
   ]
  },
  {
   "cell_type": "code",
   "execution_count": null,
   "metadata": {},
   "outputs": [],
   "source": [
    "enc = preprocessing.OneHotEncoder().fit(treatment.values.reshape(-1, 1))\n",
    "treatment_onehot = enc.transform(treatment.values.reshape(-1, 1)).toarray()\n",
    "treatment_onehot"
   ]
  },
  {
   "cell_type": "markdown",
   "metadata": {},
   "source": [
    "Split the data and encoded annotations into a train and test set."
   ]
  },
  {
   "cell_type": "code",
   "execution_count": null,
   "metadata": {},
   "outputs": [],
   "source": [
    "x_train, x_test, y_train, y_test = model_selection.train_test_split(counts, treatment_onehot)"
   ]
  },
  {
   "cell_type": "markdown",
   "metadata": {},
   "source": [
    "Fit the model with the training data."
   ]
  },
  {
   "cell_type": "code",
   "execution_count": null,
   "metadata": {},
   "outputs": [],
   "source": [
    "%%time\n",
    "roc_rf_model = OneVsRestClassifier(RandomForestClassifier(class_weight='balanced', max_depth=3,\n",
    "                                   n_estimators=1000, n_jobs=-1))\n",
    "roc_rf_model = roc_rf_model.fit(x_train, y_train)"
   ]
  },
  {
   "cell_type": "markdown",
   "metadata": {},
   "source": [
    "Now predict class probabilities for the test count data."
   ]
  },
  {
   "cell_type": "code",
   "execution_count": null,
   "metadata": {},
   "outputs": [],
   "source": [
    "y_score = roc_rf_model.predict_proba(x_test)\n",
    "y_score[:5]"
   ]
  },
  {
   "cell_type": "code",
   "execution_count": null,
   "metadata": {},
   "outputs": [],
   "source": [
    "fpr = dict()\n",
    "tpr = dict()\n",
    "roc_auc = dict()\n",
    "for i, class_ in enumerate(classes):\n",
    "    fpr[class_], tpr[class_], _ = roc_curve(y_test[:, i], y_score[:, i])\n",
    "    roc_auc[class_] = auc(fpr[class_], tpr[class_])"
   ]
  },
  {
   "cell_type": "code",
   "execution_count": null,
   "metadata": {},
   "outputs": [],
   "source": [
    "roc_curves = {class_: hv.Curve((fpr[class_], tpr[class_]), ['False positive rate','True positive rate'])\n",
    "              for class_ in classes}"
   ]
  },
  {
   "cell_type": "code",
   "execution_count": null,
   "metadata": {},
   "outputs": [],
   "source": [
    "plot = hv.NdOverlay(roc_curves, kdims=['Treatment']).opts(padding=0.05, legend_position=\"bottom_right\", width=300, height=300, show_grid=True, bgcolor='lightgray')\n",
    "hv.save(plot, 'figures/ROC.png', 'png')\n",
    "plot"
   ]
  },
  {
   "cell_type": "markdown",
   "metadata": {},
   "source": [
    "## View a Decision Tree"
   ]
  },
  {
   "cell_type": "code",
   "execution_count": null,
   "metadata": {},
   "outputs": [],
   "source": [
    "from sklearn import tree\n",
    "import graphviz"
   ]
  },
  {
   "cell_type": "markdown",
   "metadata": {},
   "source": [
    "Extract a single tree from a list of estimators."
   ]
  },
  {
   "cell_type": "code",
   "execution_count": null,
   "metadata": {},
   "outputs": [],
   "source": [
    "control_rfc = roc_rf_model.estimators_[0]\n",
    "print(f\"There are {len(control_rfc.estimators_)} trees.\")"
   ]
  },
  {
   "cell_type": "code",
   "execution_count": null,
   "metadata": {},
   "outputs": [],
   "source": [
    "selected_tree = control_rfc.estimators_[0]\n",
    "graph = graphviz.Source(tree.export_graphviz(\n",
    "    selected_tree, \n",
    "    feature_names=x_train.Gene.values,  \n",
    "    class_names=[\"Not CONTROL\", \"CONTROL\"],\n",
    "    filled=True, \n",
    "    rounded=True,  \n",
    "    special_characters=True))\n",
    "\n",
    "graph\n",
    "# graph.render('decision_tree', format=\"svg\")  "
   ]
  },
  {
   "cell_type": "code",
   "execution_count": null,
   "metadata": {},
   "outputs": [],
   "source": []
  }
 ],
 "metadata": {
  "kernelspec": {
   "display_name": "Python 3",
   "language": "python",
   "name": "python3"
  },
  "language_info": {
   "codemirror_mode": {
    "name": "ipython",
    "version": 3
   },
   "file_extension": ".py",
   "mimetype": "text/x-python",
   "name": "python",
   "nbconvert_exporter": "python",
   "pygments_lexer": "ipython3",
   "version": "3.7.7"
  }
 },
 "nbformat": 4,
 "nbformat_minor": 4
}
