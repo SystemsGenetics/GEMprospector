{
 "cells": [
  {
   "cell_type": "code",
   "execution_count": null,
   "metadata": {},
   "outputs": [],
   "source": []
  },
  {
   "cell_type": "markdown",
   "metadata": {},
   "source": [
    "***Setting up the notebook***"
   ]
  },
  {
   "cell_type": "code",
   "execution_count": null,
   "metadata": {
    "pycharm": {
     "is_executing": false
    }
   },
   "outputs": [],
   "source": [
    "import os\n",
    "import numpy as np\n",
    "from sklearn.ensemble import RandomForestClassifier\n",
    "import upsetplot\n",
    "import panel as pn\n",
    "\n",
    "import GSForge as gsf\n",
    "\n",
    "import holoviews as hv\n",
    "hv.extension(\"bokeh\")\n",
    "pn.extension()"
   ]
  },
  {
   "cell_type": "markdown",
   "metadata": {},
   "source": [
    "***Declare paths used***"
   ]
  },
  {
   "cell_type": "code",
   "execution_count": null,
   "metadata": {
    "jupyter": {
     "outputs_hidden": false
    },
    "pycharm": {
     "is_executing": false,
     "name": "#%%\n"
    }
   },
   "outputs": [],
   "source": [
    "# OS-independent path management.\n",
    "from os import fspath, environ\n",
    "from pathlib import Path"
   ]
  },
  {
   "cell_type": "code",
   "execution_count": null,
   "metadata": {},
   "outputs": [],
   "source": [
    "OSF_PATH = Path(environ.get(\"GSFORGE_DEMO_DATA\", default=\"~/GSForge_demo_data/osfstorage\")).expanduser()\n",
    "HYDRO_NORMED_GEM_PATH = OSF_PATH.joinpath(\"AnnotatedGEMs\", \"oryza_sativa_hydro_normed_raw.nc\")\n",
    "LIT_DGE_GSC_PATH = OSF_PATH.joinpath(\"Collections\", \"literature\", \"DGE\")\n",
    "LIT_TF_PATH = OSF_PATH.joinpath(\"Collections\", \"literature\", \"TF\")\n",
    "BORUTA_GSC_PATH = OSF_PATH.joinpath(\"Collections\", \"boruta\")\n",
    "assert HYDRO_NORMED_GEM_PATH.exists()"
   ]
  },
  {
   "cell_type": "markdown",
   "metadata": {},
   "source": [
    "***Load an AnnotatedGEM***"
   ]
  },
  {
   "cell_type": "code",
   "execution_count": null,
   "metadata": {},
   "outputs": [],
   "source": [
    "agem = gsf.AnnotatedGEM(HYDRO_NORMED_GEM_PATH)\n",
    "agem"
   ]
  },
  {
   "cell_type": "code",
   "execution_count": null,
   "metadata": {},
   "outputs": [],
   "source": [
    "agem.count_array_names"
   ]
  },
  {
   "cell_type": "code",
   "execution_count": null,
   "metadata": {},
   "outputs": [],
   "source": [
    "# upsetplot.from_contents(lit_dge_coll.as_dict())"
   ]
  },
  {
   "cell_type": "code",
   "execution_count": null,
   "metadata": {},
   "outputs": [],
   "source": []
  },
  {
   "cell_type": "markdown",
   "metadata": {},
   "source": [
    "***Load GeneSetCollections***"
   ]
  },
  {
   "cell_type": "code",
   "execution_count": null,
   "metadata": {},
   "outputs": [],
   "source": []
  },
  {
   "cell_type": "code",
   "execution_count": null,
   "metadata": {},
   "outputs": [],
   "source": [
    "# %%time\n",
    "lit_dge_coll = gsf.GeneSetCollection.from_folder(gem=agem, target_dir=LIT_DGE_GSC_PATH, name=\"Literature DGE\")\n",
    "# lit_tf_coll = gsf.GeneSetCollection.from_folder(gem=agem, target_dir=LIT_TF_PATH, name=\"Literature TF\")\n",
    "# boruta_gsc = gsf.GeneSetCollection.from_folder(gem=agem, target_dir=BORUTA_GSC_PATH, name=\"Boruta Results\")\n",
    "# tf_geneset = gsf.GeneSet.from_GeneSets(*list(lit_tf_coll.gene_sets.values()), name='transcription factors')\n",
    "# combined_gsc = gsf.GeneSetCollection(gem=agem, gene_sets={**boruta_gsc.gene_sets, \n",
    "#                                                           **lit_dge_coll.gene_sets,\n",
    "#                                                           'transcription factors': tf_geneset})"
   ]
  },
  {
   "cell_type": "code",
   "execution_count": null,
   "metadata": {},
   "outputs": [],
   "source": []
  },
  {
   "cell_type": "code",
   "execution_count": null,
   "metadata": {},
   "outputs": [],
   "source": [
    "gene_list = list(lit_dge_coll.union())\n",
    "print(*gene_list[:5])"
   ]
  },
  {
   "cell_type": "code",
   "execution_count": null,
   "metadata": {},
   "outputs": [],
   "source": [
    "len(gene_list)"
   ]
  },
  {
   "cell_type": "code",
   "execution_count": null,
   "metadata": {},
   "outputs": [],
   "source": [
    "import gseapy as gp"
   ]
  },
  {
   "cell_type": "code",
   "execution_count": null,
   "metadata": {},
   "outputs": [],
   "source": []
  },
  {
   "cell_type": "code",
   "execution_count": null,
   "metadata": {},
   "outputs": [],
   "source": [
    "enr = gp.enrichr(gene_list=gene_list,\n",
    "                 gene_sets=['KEGG_2016','KEGG_2013'],\n",
    "                 organism='Human', # don't forget to set organism to the one you desired! e.g. Yeast\n",
    "                 description='test_name',\n",
    "                 outdir='test/enrichr_kegg',\n",
    "                 # no_plot=True,\n",
    "                 cutoff=0.5 # test dataset, use lower value from range(0,1)\n",
    "                )"
   ]
  }
 ],
 "metadata": {
  "kernelspec": {
   "display_name": "Python 3",
   "language": "python",
   "name": "python3"
  },
  "language_info": {
   "codemirror_mode": {
    "name": "ipython",
    "version": 3
   },
   "file_extension": ".py",
   "mimetype": "text/x-python",
   "name": "python",
   "nbconvert_exporter": "python",
   "pygments_lexer": "ipython3",
   "version": "3.7.7"
  }
 },
 "nbformat": 4,
 "nbformat_minor": 4
}
