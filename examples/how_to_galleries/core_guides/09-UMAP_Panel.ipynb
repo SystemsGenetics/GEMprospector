{
 "cells": [
  {
   "cell_type": "markdown",
   "metadata": {},
   "source": [
    "# UMAP Panel and Views"
   ]
  },
  {
   "cell_type": "markdown",
   "metadata": {},
   "source": [
    "Here the use of the UMAP panel interface."
   ]
  },
  {
   "cell_type": "markdown",
   "metadata": {},
   "source": [
    "***Setting up the notebook***"
   ]
  },
  {
   "cell_type": "code",
   "execution_count": null,
   "metadata": {
    "pycharm": {
     "is_executing": false
    }
   },
   "outputs": [],
   "source": [
    "import os\n",
    "import numpy as np\n",
    "from sklearn.ensemble import RandomForestClassifier\n",
    "import upsetplot\n",
    "import itertools\n",
    "\n",
    "import GSForge as gsf\n",
    "\n",
    "import holoviews as hv\n",
    "hv.extension(\"bokeh\")"
   ]
  },
  {
   "cell_type": "markdown",
   "metadata": {},
   "source": [
    "***Declare paths used***"
   ]
  },
  {
   "cell_type": "code",
   "execution_count": null,
   "metadata": {
    "jupyter": {
     "outputs_hidden": false
    },
    "pycharm": {
     "is_executing": false,
     "name": "#%%\n"
    }
   },
   "outputs": [],
   "source": [
    "# OS-independent path management.\n",
    "from os import fspath, environ\n",
    "from pathlib import Path"
   ]
  },
  {
   "cell_type": "code",
   "execution_count": null,
   "metadata": {},
   "outputs": [],
   "source": [
    "OSF_PATH = Path(environ.get(\"GSFORGE_DEMO_DATA\", default=\"~/GSForge_demo_data/osfstorage\")).expanduser()\n",
    "HYDRO_NORMED_GEM_PATH = OSF_PATH.joinpath(\"AnnotatedGEMs\", \"oryza_sativa_hydro_normed.nc\")\n",
    "LIT_DGE_GSC_PATH = OSF_PATH.joinpath(\"Collections\", \"literature\", \"DGE\")\n",
    "LIT_TF_PATH = OSF_PATH.joinpath(\"Collections\", \"literature\", \"TF\")\n",
    "BORUTA_GSC_PATH = OSF_PATH.joinpath(\"Collections\", \"boruta\")\n",
    "assert HYDRO_NORMED_GEM_PATH.exists()"
   ]
  },
  {
   "cell_type": "markdown",
   "metadata": {},
   "source": [
    "***Load an AnnotatedGEM***"
   ]
  },
  {
   "cell_type": "code",
   "execution_count": null,
   "metadata": {},
   "outputs": [],
   "source": [
    "agem = gsf.AnnotatedGEM(HYDRO_NORMED_GEM_PATH)\n",
    "agem"
   ]
  },
  {
   "cell_type": "code",
   "execution_count": null,
   "metadata": {},
   "outputs": [],
   "source": [
    "agem.count_array_names"
   ]
  },
  {
   "cell_type": "markdown",
   "metadata": {},
   "source": [
    "***Load GeneSetCollections***"
   ]
  },
  {
   "cell_type": "code",
   "execution_count": null,
   "metadata": {},
   "outputs": [],
   "source": [
    "%%time\n",
    "lit_dge_coll = gsf.GeneSetCollection.from_folder(gem=agem, target_dir=LIT_DGE_GSC_PATH, name=\"Literature DGE\")\n",
    "lit_tf_coll = gsf.GeneSetCollection.from_folder(gem=agem, target_dir=LIT_TF_PATH, name=\"Literature TF\")\n",
    "boruta_gsc = gsf.GeneSetCollection.from_folder(gem=agem, target_dir=BORUTA_GSC_PATH, name=\"Boruta Results\")\n",
    "tf_geneset = gsf.GeneSet.from_GeneSets(*list(lit_tf_coll.gene_sets.values()), name='transcription factors')\n",
    "combined_gsc = gsf.GeneSetCollection(gem=agem, gene_sets={**boruta_gsc.gene_sets, \n",
    "                                                          **lit_dge_coll.gene_sets,\n",
    "                                                          'transcription factors': tf_geneset})"
   ]
  },
  {
   "cell_type": "code",
   "execution_count": null,
   "metadata": {},
   "outputs": [],
   "source": [
    "combined_gsc"
   ]
  },
  {
   "cell_type": "markdown",
   "metadata": {},
   "source": [
    "## Create and Explore the Panel"
   ]
  },
  {
   "cell_type": "markdown",
   "metadata": {},
   "source": [
    "Setting the random state to some value is important for reproducibility. You should not pick an especially 'unique' random state -- you should instead notice rotations of the same basic layout."
   ]
  },
  {
   "cell_type": "code",
   "execution_count": null,
   "metadata": {},
   "outputs": [],
   "source": [
    "umap_panel = gsf.panels.UMAP_Interface(combined_gsc, random_state=400, n_neighbors=421)\n",
    "# umap_panel.panel()"
   ]
  },
  {
   "cell_type": "markdown",
   "metadata": {},
   "source": [
    "## Generate and Save Views"
   ]
  },
  {
   "cell_type": "markdown",
   "metadata": {},
   "source": [
    "Often times I explore settings using the application above, then write script to generaet the plots I am interested in quickly."
   ]
  },
  {
   "cell_type": "code",
   "execution_count": null,
   "metadata": {},
   "outputs": [],
   "source": [
    "sets_of_interest = {\n",
    "    'all_genes': [None],\n",
    "    'all_selections': list(combined_gsc.gene_sets.keys()),\n",
    "    'all_sans_genotype': [x for x in list(combined_gsc.gene_sets.keys()) if x != 'Boruta_genotype'],\n",
    "    'lit_dge': list(lit_dge_coll.gene_sets.keys()),\n",
    "    'lit_tf': ['transcription factors'],\n",
    "    'boruta': list(boruta_gsc.gene_sets.keys()),\n",
    "    'boruta_treatment': ['Boruta_treatment'],\n",
    "    'treatment_sel': ['Boruta_treatment'] + list(lit_dge_coll.gene_sets.keys()),\n",
    "}"
   ]
  },
  {
   "cell_type": "markdown",
   "metadata": {},
   "source": [
    "And we are surely interested in viewing the colors mapped to treatment and genotype."
   ]
  },
  {
   "cell_type": "code",
   "execution_count": null,
   "metadata": {},
   "outputs": [],
   "source": [
    "hues = ['treatment', 'genotype']"
   ]
  },
  {
   "cell_type": "code",
   "execution_count": null,
   "metadata": {},
   "outputs": [],
   "source": [
    "for (key, gene_selection), hue, count_var in itertools.product(sets_of_interest.items(), hues, agem.count_array_names):\n",
    "    plot = umap_panel.view(gene_set_mode='union', selected_gene_sets=gene_selection, hue=hue).opts(\n",
    "        legend_position='bottom_left', width=500, height=500)\n",
    "    hv.save(plot, f'figures/UMAP_{key}_of_{count_var}_hue_{hue}.png', dpi=300, toolbar=None)"
   ]
  },
  {
   "cell_type": "code",
   "execution_count": null,
   "metadata": {},
   "outputs": [],
   "source": [
    "# %load_ext watermark\n",
    "# %watermark -v -p numpy,scipy,pandas,bokeh,holoviews,datashader,jupyterlab"
   ]
  },
  {
   "cell_type": "code",
   "execution_count": null,
   "metadata": {},
   "outputs": [],
   "source": []
  }
 ],
 "metadata": {
  "kernelspec": {
   "display_name": "Python 3",
   "language": "python",
   "name": "python3"
  },
  "language_info": {
   "codemirror_mode": {
    "name": "ipython",
    "version": 3
   },
   "file_extension": ".py",
   "mimetype": "text/x-python",
   "name": "python",
   "nbconvert_exporter": "python",
   "pygments_lexer": "ipython3",
   "version": "3.7.7"
  }
 },
 "nbformat": 4,
 "nbformat_minor": 4
}
