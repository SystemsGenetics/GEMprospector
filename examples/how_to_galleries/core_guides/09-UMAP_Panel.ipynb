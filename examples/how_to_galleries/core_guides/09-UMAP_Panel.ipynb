{
 "cells": [
  {
   "cell_type": "markdown",
   "metadata": {},
   "source": [
    "# UMAP Panel and Views"
   ]
  },
  {
   "cell_type": "markdown",
   "metadata": {},
   "source": [
    "Here the use of the UMAP panel interface."
   ]
  },
  {
   "cell_type": "markdown",
   "metadata": {},
   "source": [
    "***Setting up the notebook***"
   ]
  },
  {
   "cell_type": "code",
   "execution_count": null,
   "metadata": {
    "pycharm": {
     "is_executing": false
    }
   },
   "outputs": [],
   "source": [
    "import os\n",
    "import numpy as np\n",
    "from sklearn.ensemble import RandomForestClassifier\n",
    "import upsetplot\n",
    "import itertools\n",
    "\n",
    "import GSForge as gsf\n",
    "\n",
    "import holoviews as hv\n",
    "hv.extension(\"bokeh\")"
   ]
  },
  {
   "cell_type": "markdown",
   "metadata": {},
   "source": [
    "***Declare paths used***"
   ]
  },
  {
   "cell_type": "code",
   "execution_count": null,
   "metadata": {
    "collapsed": false,
    "jupyter": {
     "outputs_hidden": false
    },
    "pycharm": {
     "is_executing": false,
     "name": "#%%\n"
    }
   },
   "outputs": [],
   "source": [
    "# OS-independent path management.\n",
    "from os import fspath, environ\n",
    "from pathlib import Path"
   ]
  },
  {
   "cell_type": "code",
   "execution_count": null,
   "metadata": {},
   "outputs": [],
   "source": [
    "OSF_PATH = Path(environ.get(\"GSFORGE_DEMO_DATA\", default=\"~/GSForge_demo_data/osfstorage\")).expanduser()\n",
    "HYDRO_NORMED_GEM_PATH = OSF_PATH.joinpath(\"AnnotatedGEMs\", \"oryza_sativa_hydro_normed.nc\")\n",
    "LIT_DGE_GSC_PATH = OSF_PATH.joinpath(\"Collections\", \"literature\", \"DGE\")\n",
    "LIT_TF_PATH = OSF_PATH.joinpath(\"Collections\", \"literature\", \"TF\")\n",
    "BORUTA_GSC_PATH = OSF_PATH.joinpath(\"Collections\", \"nf_boruta\")\n",
    "assert HYDRO_NORMED_GEM_PATH.exists()"
   ]
  },
  {
   "cell_type": "markdown",
   "metadata": {},
   "source": [
    "***Load an AnnotatedGEM***"
   ]
  },
  {
   "cell_type": "code",
   "execution_count": 4,
   "metadata": {},
   "outputs": [
    {
     "data": {
      "text/plain": [
       "<GSForge.AnnotatedGEM>\n",
       "Name: Oryza Sativa\n",
       "Selected GEM Variable: 'counts'\n",
       "    Gene   66338\n",
       "    Sample 475"
      ]
     },
     "execution_count": 4,
     "metadata": {},
     "output_type": "execute_result"
    }
   ],
   "source": [
    "agem = gsf.AnnotatedGEM(HYDRO_NORMED_GEM_PATH)\n",
    "agem"
   ]
  },
  {
   "cell_type": "code",
   "execution_count": 5,
   "metadata": {},
   "outputs": [
    {
     "data": {
      "text/plain": [
       "['counts', 'TPM_counts', 'uq_raw_counts', 'uq_tpm_counts', 'tmm_counts']"
      ]
     },
     "execution_count": 5,
     "metadata": {},
     "output_type": "execute_result"
    }
   ],
   "source": [
    "agem.count_array_names[:-1]"
   ]
  },
  {
   "cell_type": "markdown",
   "metadata": {},
   "source": [
    "***Load GeneSetCollections***"
   ]
  },
  {
   "cell_type": "code",
   "execution_count": 6,
   "metadata": {},
   "outputs": [
    {
     "name": "stdout",
     "output_type": "stream",
     "text": [
      "CPU times: user 25.6 s, sys: 280 ms, total: 25.9 s\n",
      "Wall time: 25.9 s\n"
     ]
    }
   ],
   "source": [
    "%%time\n",
    "lit_dge_coll = gsf.GeneSetCollection.from_folder(gem=agem, target_dir=LIT_DGE_GSC_PATH, name=\"Literature DGE\")\n",
    "lit_tf_coll = gsf.GeneSetCollection.from_folder(gem=agem, target_dir=LIT_TF_PATH, name=\"Literature TF\")\n",
    "boruta_gsc = gsf.GeneSetCollection.from_folder(gem=agem, target_dir=BORUTA_GSC_PATH, name=\"Boruta Results\")\n",
    "tf_geneset = gsf.GeneSet.from_GeneSets(*list(lit_tf_coll.gene_sets.values()), name='transcription factors')\n",
    "combined_gsc = gsf.GeneSetCollection(gem=agem, gene_sets={**boruta_gsc.gene_sets, \n",
    "                                                          **lit_dge_coll.gene_sets,\n",
    "                                                          'transcription factors': tf_geneset})"
   ]
  },
  {
   "cell_type": "code",
   "execution_count": 7,
   "metadata": {},
   "outputs": [
    {
     "data": {
      "text/plain": [
       "<GSForge.GeneSetCollection>\n",
       "GeneSetCollection01523\n",
       "GeneSets (11 total): Support Count\n",
       "    DROUGHT_UP: 1175\n",
       "    treatment: 1155\n",
       "    genotype: 853\n",
       "    HEAT_UP: 592\n",
       "    RECOV_DROUGHT_UP: 446\n",
       "    ... and 6 more."
      ]
     },
     "execution_count": 7,
     "metadata": {},
     "output_type": "execute_result"
    }
   ],
   "source": [
    "combined_gsc"
   ]
  },
  {
   "cell_type": "markdown",
   "metadata": {},
   "source": [
    "## Create and Explore the Panel"
   ]
  },
  {
   "cell_type": "markdown",
   "metadata": {},
   "source": [
    "Setting the random state to some value is important for reproducibility. You should not pick an especially 'unique' random state -- you should instead notice rotations of the same basic layout."
   ]
  },
  {
   "cell_type": "code",
   "execution_count": 8,
   "metadata": {},
   "outputs": [],
   "source": [
    "umap_panel = gsf.panels.UMAP_Interface(combined_gsc, random_state=400, n_neighbors=421)\n",
    "# umap_panel.panel()"
   ]
  },
  {
   "cell_type": "markdown",
   "metadata": {},
   "source": [
    "## Generate and Save Views"
   ]
  },
  {
   "cell_type": "markdown",
   "metadata": {},
   "source": [
    "Often times I explore settings using the application above, then write script to generaet the plots I am interested in quickly."
   ]
  },
  {
   "cell_type": "code",
   "execution_count": 15,
   "metadata": {},
   "outputs": [],
   "source": [
    "sets_of_interest = {\n",
    "    'all_genes': [None],\n",
    "    'all_selections': list(combined_gsc.gene_sets.keys()),\n",
    "    'all_sans_genotype': [x for x in list(combined_gsc.gene_sets.keys()) if x != 'Boruta_genotype'],\n",
    "    'lit_dge': list(lit_dge_coll.gene_sets.keys()),\n",
    "    'lit_tf': ['transcription factors'],\n",
    "    'boruta': list(boruta_gsc.gene_sets.keys()),\n",
    "    'boruta_treatment': ['treatment'],\n",
    "    'treatment_sel': ['treatment'] + list(lit_dge_coll.gene_sets.keys()),\n",
    "}"
   ]
  },
  {
   "cell_type": "code",
   "execution_count": 16,
   "metadata": {},
   "outputs": [
    {
     "data": {
      "text/plain": [
       "['all_genes',\n",
       " 'all_selections',\n",
       " 'all_sans_genotype',\n",
       " 'lit_dge',\n",
       " 'lit_tf',\n",
       " 'boruta',\n",
       " 'boruta_treatment',\n",
       " 'treatment_sel']"
      ]
     },
     "execution_count": 16,
     "metadata": {},
     "output_type": "execute_result"
    }
   ],
   "source": [
    "list(sets_of_interest.keys())"
   ]
  },
  {
   "cell_type": "markdown",
   "metadata": {},
   "source": [
    "And we are surely interested in viewing the colors mapped to treatment and genotype."
   ]
  },
  {
   "cell_type": "code",
   "execution_count": 13,
   "metadata": {},
   "outputs": [],
   "source": [
    "hues = ['treatment', 'genotype']\n",
    "n_neighbors = [15, 50, 200, 325, 474]\n",
    "count_vars = agem.count_array_names[:-1]"
   ]
  },
  {
   "cell_type": "code",
   "execution_count": 14,
   "metadata": {},
   "outputs": [],
   "source": [
    "for hue, (key, gene_selection), nn, count_var in itertools.product(\n",
    "    hues, \n",
    "    sets_of_interest.items(), \n",
    "    n_neighbors,\n",
    "    count_vars):\n",
    "    plot = umap_panel.view(gene_set_mode='union', \n",
    "                           count_variable=count_var, \n",
    "                           n_neighbors=nn,\n",
    "                           selected_gene_sets=gene_selection, \n",
    "                           hue=hue).opts(show_legend=False,\n",
    "        width=600, height=600)\n",
    "    hv.save(plot, f'figures/umaps/UMAP_{key}_of_{count_var}_hue_{hue}.png', dpi=300, toolbar=None)"
   ]
  },
  {
   "cell_type": "code",
   "execution_count": null,
   "metadata": {},
   "outputs": [],
   "source": [
    "# %load_ext watermark\n",
    "# %watermark -v -p numpy,scipy,pandas,bokeh,holoviews,datashader,jupyterlab"
   ]
  },
  {
   "cell_type": "code",
   "execution_count": null,
   "metadata": {},
   "outputs": [],
   "source": []
  }
 ],
 "metadata": {
  "kernelspec": {
   "display_name": "Python 3",
   "language": "python",
   "name": "python3"
  },
  "language_info": {
   "codemirror_mode": {
    "name": "ipython",
    "version": 3
   },
   "file_extension": ".py",
   "mimetype": "text/x-python",
   "name": "python",
   "nbconvert_exporter": "python",
   "pygments_lexer": "ipython3",
   "version": "3.7.7"
  }
 },
 "nbformat": 4,
 "nbformat_minor": 4
}
