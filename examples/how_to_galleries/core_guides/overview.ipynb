{
 "cells": [
  {
   "cell_type": "markdown",
   "metadata": {},
   "source": [
    "Welcome to the **GSForge** user guide!\n",
    "\n",
    "GSForge is a Python software package that assists researchers in the selection of gene sets with potential association\n",
    "to an experimental condition or phenotypic trait, which offers new potential hypotheses for gene-trait causality.\n",
    "\n",
    "### Getting Started\n",
    "\n",
    "\n",
    "<img src=\"../assets/user_guide.svg\" width=\"600\" />\n",
    "\n",
    "*Links within images do not seem to work within notebook markdown. Click the links below instead.*"
   ]
  },
  {
   "cell_type": "markdown",
   "metadata": {},
   "source": [
    "#### Getting Started\n",
    "\n",
    "+ [**AnnotatedGEM from pandas**](AnnotatedGEM_from_pandas.ipynb)  \n",
    "  How to load your count and label .csv or .txt files into an `xarray.Dataset` using `GSForge`, and save them as a single netcdf (.nc) file for future use.\n",
    "\n",
    "+ [**GEM Normalization**](GEM_Normalization.ipynb)  \n",
    "  How to run and save different normalizations to the same `AnnotatedGEM` object.\n",
    "\n",
    "\n",
    "#### Selecting Genes\n",
    "\n",
    "* [**Selecting Genes with Boruta**](Selecting_Genes_with_Boruta.ipynb)  \n",
    "  How to select genes based on a sample label using random forests via the Boruta algorithm.\n",
    "\n",
    "\n",
    "#### Analyzing Selected Genes\n",
    "\n",
    "* [**GeneSet Analysis**](GeneSet_Analysis.ipynb)  \n",
    "  How to run a basic gene (feature) selection using random forests and the Boruta all-relevant feature selection algorithm.\n",
    "  \n",
    "* [**Workflow Guide**](workflow_guide/index.rst)  \n",
    "  Using nextflow to run many different boruta analyses.\n",
    "\n",
    "\n",
    "#### Vizualizing GEM and GeneSet Results\n",
    "\n",
    "* [**Plotting Guide**](plotting_guide/index.rst)  \n",
    "  Plotting examples by plot type.\n",
    "\n",
    "\n",
    "#### Integration Guides\n",
    "\n",
    "* [**R-Integration Guide**](R_integration_guide/index.rst)  \n",
    "  Integrating results from R packages into GeneSet objects."
   ]
  },
  {
   "cell_type": "markdown",
   "metadata": {},
   "source": [
    "---"
   ]
  }
 ],
 "metadata": {
  "kernelspec": {
   "display_name": "Python 3",
   "language": "python",
   "name": "python3"
  },
  "language_info": {
   "codemirror_mode": {
    "name": "ipython",
    "version": 3
   },
   "file_extension": ".py",
   "mimetype": "text/x-python",
   "name": "python",
   "nbconvert_exporter": "python",
   "pygments_lexer": "ipython3",
   "version": "3.7.6"
  }
 },
 "nbformat": 4,
 "nbformat_minor": 4
}
