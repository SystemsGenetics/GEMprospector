{
 "cells": [
  {
   "cell_type": "markdown",
   "metadata": {},
   "source": [
    "This notebook describes how to create and save an `AnnotatedGEM` object from separate count and label text files.\n",
    "\n",
    "A count matrix and an annotation table are often created as separate text files.\n",
    "The count matrix is often formatted with samples as columns and genes as rows due to the way counts are calculated.\n",
    "An annotation file must have a matching 'sample' index to the count file."
   ]
  },
  {
   "cell_type": "markdown",
   "metadata": {},
   "source": [
    "***Downloading the demo data***\n",
    "\n",
    "A demo gene expression matrix and accompanying annotation text files are stored in a public [OSF]() project.\n",
    "You can download them by:\n",
    "+ Navigating to the [data repository on osf](https://osf.io/t3xpw/) and manually download them.\n",
    "\n",
    "or\n",
    "\n",
    "+ Installing the [OSF CLI utility](https://osfclient.readthedocs.io/en/latest/index.html) and clone to a directory:\n",
    "    ```bash\n",
    "    osf -p rbhfz clone ~/GSForge_demo_data\n",
    "    ```\n",
    "    \n",
    "The paths used in this example assume the second method was used."
   ]
  },
  {
   "cell_type": "markdown",
   "metadata": {},
   "source": [
    "***Declaring used paths***"
   ]
  },
  {
   "cell_type": "code",
   "execution_count": null,
   "metadata": {
    "collapsed": false,
    "jupyter": {
     "outputs_hidden": false
    },
    "pycharm": {
     "is_executing": false,
     "name": "#%%\n"
    }
   },
   "outputs": [],
   "source": [
    "# OS-independent path management.\n",
    "from os import fspath, environ\n",
    "from pathlib import Path"
   ]
  },
  {
   "cell_type": "markdown",
   "metadata": {},
   "source": [
    "Declare the OSF project directory path."
   ]
  },
  {
   "cell_type": "code",
   "execution_count": null,
   "metadata": {},
   "outputs": [],
   "source": [
    "OSF_PATH = Path(environ.get(\"GSFORGE_DEMO_DATA\", default=\"~/GSForge_demo_data\")).expanduser()\n",
    "OSF_PATH"
   ]
  },
  {
   "cell_type": "markdown",
   "metadata": {},
   "source": [
    "View the files within:"
   ]
  },
  {
   "cell_type": "code",
   "execution_count": null,
   "metadata": {},
   "outputs": [],
   "source": [
    "list(OSF_PATH.glob(\"*/*\"))"
   ]
  },
  {
   "cell_type": "markdown",
   "metadata": {},
   "source": [
    "Declare the paths to the count and label files."
   ]
  },
  {
   "cell_type": "code",
   "execution_count": null,
   "metadata": {},
   "outputs": [],
   "source": [
    "COUNT_PATH = OSF_PATH.joinpath(\"osfstorage\", \"rice_heat_drought.GEM.raw.txt\")\n",
    "LABEL_PATH = OSF_PATH.joinpath(\"osfstorage\", \"srx_sample_annots.txt\")\n",
    "GFF3_PATH = OSF_PATH.joinpath(\"osfstorage\", \"all.gff3\")\n",
    "AGEM_PATH = OSF_PATH.joinpath(\"osfstorage\", \"rice.nc\")"
   ]
  },
  {
   "cell_type": "markdown",
   "metadata": {},
   "source": [
    "Ensure these files exsist."
   ]
  },
  {
   "cell_type": "code",
   "execution_count": null,
   "metadata": {},
   "outputs": [],
   "source": [
    "assert COUNT_PATH.exists()\n",
    "assert LABEL_PATH.exists()\n",
    "assert GFF3_PATH.exists()"
   ]
  },
  {
   "cell_type": "markdown",
   "metadata": {},
   "source": [
    "---"
   ]
  },
  {
   "cell_type": "markdown",
   "metadata": {},
   "source": [
    "***Preparing the notebook***"
   ]
  },
  {
   "cell_type": "code",
   "execution_count": null,
   "metadata": {
    "collapsed": false,
    "jupyter": {
     "outputs_hidden": false
    },
    "pycharm": {
     "is_executing": false,
     "name": "#%%\n"
    }
   },
   "outputs": [],
   "source": [
    "import pandas as pd\n",
    "import GSForge as gsf"
   ]
  },
  {
   "cell_type": "markdown",
   "metadata": {},
   "source": [
    "### Loading data with `pandas`"
   ]
  },
  {
   "cell_type": "markdown",
   "metadata": {},
   "source": [
    "***Loading the count matrix***"
   ]
  },
  {
   "cell_type": "code",
   "execution_count": null,
   "metadata": {},
   "outputs": [],
   "source": [
    "%%time\n",
    "count_df = pd.read_csv(COUNT_PATH, sep=\"\\t\", index_col=0)"
   ]
  },
  {
   "cell_type": "code",
   "execution_count": null,
   "metadata": {},
   "outputs": [],
   "source": [
    "count_df.head()"
   ]
  },
  {
   "cell_type": "markdown",
   "metadata": {},
   "source": [
    "***Loading the annotation table***"
   ]
  },
  {
   "cell_type": "code",
   "execution_count": null,
   "metadata": {},
   "outputs": [],
   "source": [
    "%%time\n",
    "label_df = pd.read_csv(LABEL_PATH, index_col=0)"
   ]
  },
  {
   "cell_type": "code",
   "execution_count": null,
   "metadata": {},
   "outputs": [],
   "source": [
    "label_df.head()"
   ]
  },
  {
   "cell_type": "markdown",
   "metadata": {},
   "source": [
    "***Ensure sample indexes overlap***"
   ]
  },
  {
   "cell_type": "markdown",
   "metadata": {},
   "source": [
    "Check that the number of samples is the same in both files, and that their overlap is that same length."
   ]
  },
  {
   "cell_type": "code",
   "execution_count": null,
   "metadata": {},
   "outputs": [],
   "source": [
    "assert len(count_df.columns) == len(label_df.index) == len(label_df.index.intersection(count_df.columns))"
   ]
  },
  {
   "cell_type": "markdown",
   "metadata": {},
   "source": [
    "### Combine the dataframes into an AnnotatedGEM:\n",
    "\n",
    "`AnnotatedGEM.from_pandas` does a bit of data wrangling, and loads the data into a single `xarray.Dataset`."
   ]
  },
  {
   "cell_type": "code",
   "execution_count": null,
   "metadata": {},
   "outputs": [],
   "source": [
    "agem = gsf.AnnotatedGEM.from_pandas(count_df=count_df, label_df=label_df, name=\"Rice\")\n",
    "agem"
   ]
  },
  {
   "cell_type": "markdown",
   "metadata": {},
   "source": [
    "***Examine the data***"
   ]
  },
  {
   "cell_type": "code",
   "execution_count": null,
   "metadata": {},
   "outputs": [],
   "source": [
    "agem.data"
   ]
  },
  {
   "cell_type": "markdown",
   "metadata": {},
   "source": [
    "***Add gene annotations***"
   ]
  },
  {
   "cell_type": "code",
   "execution_count": null,
   "metadata": {},
   "outputs": [],
   "source": [
    "pd.read_csv(GFF3_PATH, sep=\"\\t\", comment=\"#\",\n",
    "             names=['seqname', 'source', 'feature', 'start', 'end',\n",
    "                    'score', 'strand', 'frame', 'attribute']).head(2)"
   ]
  },
  {
   "cell_type": "code",
   "execution_count": null,
   "metadata": {},
   "outputs": [],
   "source": [
    "def extract_gff3_gene_lengths(gff3_file):\n",
    "    \"\"\"A custom function to extract gene lengths.\"\"\"\n",
    "    df = pd.read_csv(gff3_file, sep=\"\\t\", comment=\"#\",\n",
    "                     names=['seqname', 'source', 'feature', 'start', 'end',\n",
    "                            'score', 'strand', 'frame', 'attribute'])\n",
    "    gene_ids = df[\"attribute\"].str.extract(r\"ID=(\\w+)\")\n",
    "    df = df[gene_ids.notna().values]\n",
    "    df['Gene'] = gene_ids\n",
    "    df = df.drop_duplicates(\"Gene\")\n",
    "    df = df.set_index(\"Gene\")\n",
    "    return df[\"end\"] - df[\"start\"]"
   ]
  },
  {
   "cell_type": "markdown",
   "metadata": {},
   "source": [
    "Because gene_lengths is already (hopefully) indexed correctly, it is trivial to incorporate into our AnnotatedGEM."
   ]
  },
  {
   "cell_type": "code",
   "execution_count": null,
   "metadata": {},
   "outputs": [],
   "source": [
    "gene_lengths = extract_gff3_gene_lengths(GFF3_PATH)"
   ]
  },
  {
   "cell_type": "code",
   "execution_count": null,
   "metadata": {},
   "outputs": [],
   "source": [
    "agem.data[\"lengths\"] = gene_lengths"
   ]
  },
  {
   "cell_type": "markdown",
   "metadata": {},
   "source": [
    "### Save the `AnnotatedGEM`"
   ]
  },
  {
   "cell_type": "code",
   "execution_count": null,
   "metadata": {},
   "outputs": [],
   "source": [
    "agem.save(AGEM_PATH)"
   ]
  },
  {
   "cell_type": "markdown",
   "metadata": {},
   "source": [
    "### Creating an AnnotatedGEM from files\n",
    "\n",
    "If you are fortunate enough to have consistenly formatted data (like the above example) you can directly load your data into an AnnotatedGEM.\n",
    "\n",
    "If you do not provide a sep argument in the count_kwargs or label_kwargs dictionaries, GEMprospector will attempt to infer it by reading the first line of each file."
   ]
  },
  {
   "cell_type": "code",
   "execution_count": null,
   "metadata": {},
   "outputs": [],
   "source": [
    "agem = gsf.AnnotatedGEM.from_files(\n",
    "    count_path=COUNT_PATH,\n",
    "    label_path=LABEL_PATH,\n",
    "    # These are the default arguments passed to from_files,\n",
    "    # to the individual calls to `pandas.read_csv`.\n",
    "    count_kwargs=dict(index_col=0),\n",
    "    label_kwargs=dict(index_col=0),\n",
    ")\n",
    "agem"
   ]
  }
 ],
 "metadata": {
  "kernelspec": {
   "display_name": "Python 3",
   "language": "python",
   "name": "python3"
  },
  "language_info": {
   "codemirror_mode": {
    "name": "ipython",
    "version": 3
   },
   "file_extension": ".py",
   "mimetype": "text/x-python",
   "name": "python",
   "nbconvert_exporter": "python",
   "pygments_lexer": "ipython3",
   "version": "3.7.6"
  },
  "pycharm": {
   "stem_cell": {
    "cell_type": "raw",
    "metadata": {
     "collapsed": false
    },
    "source": []
   }
  }
 },
 "nbformat": 4,
 "nbformat_minor": 4
}
