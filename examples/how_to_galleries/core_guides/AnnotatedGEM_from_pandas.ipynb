{
 "cells": [
  {
   "cell_type": "markdown",
   "metadata": {},
   "source": [
    "This notebook describes how to create and save an `AnnotatedGEM` object from separate count and label text files.\n",
    "\n",
    "A count matrix and an annotation table are often created as separate text files.\n",
    "The count matrix is often formatted with samples as columns and genes as rows due to the way counts are calculated.\n",
    "An annotation file must have a matching 'sample' index to the count file."
   ]
  },
  {
   "cell_type": "markdown",
   "metadata": {},
   "source": [
    "***Downloading the demo data***\n",
    "\n",
    "A demo gene expression matrix and accompanying annotation text files are stored in a public [OSF]() project.\n",
    "You can download them by:\n",
    "+ Navigating to the [data repository on osf](https://osf.io/t3xpw/) and manually download them.\n",
    "\n",
    "or\n",
    "\n",
    "+ Installing the [OSF CLI utility](https://osfclient.readthedocs.io/en/latest/index.html) and clone to a directory:\n",
    "    ```bash\n",
    "    osf -p rbhfz clone ~/GSForge_demo_data\n",
    "    ```\n",
    "    \n",
    "The paths used in this example assume the second method was used."
   ]
  },
  {
   "cell_type": "markdown",
   "metadata": {},
   "source": [
    "***Declaring used paths***"
   ]
  },
  {
   "cell_type": "code",
   "execution_count": 1,
   "metadata": {
    "collapsed": false,
    "jupyter": {
     "outputs_hidden": false
    },
    "pycharm": {
     "is_executing": false,
     "name": "#%%\n"
    }
   },
   "outputs": [],
   "source": [
    "# OS-independent path management.\n",
    "from os import fspath, environ\n",
    "from pathlib import Path"
   ]
  },
  {
   "cell_type": "markdown",
   "metadata": {},
   "source": [
    "Declare the OSF project directory path."
   ]
  },
  {
   "cell_type": "code",
   "execution_count": 2,
   "metadata": {},
   "outputs": [
    {
     "data": {
      "text/plain": [
       "PosixPath('/home/tyler/GSForge_demo_data')"
      ]
     },
     "execution_count": 2,
     "metadata": {},
     "output_type": "execute_result"
    }
   ],
   "source": [
    "OSF_PATH = Path(environ.get(\"GSFORGE_DEMO_DATA\", default=\"~/GSForge_demo_data\")).expanduser()\n",
    "OSF_PATH"
   ]
  },
  {
   "cell_type": "markdown",
   "metadata": {},
   "source": [
    "View the files within:"
   ]
  },
  {
   "cell_type": "code",
   "execution_count": 3,
   "metadata": {},
   "outputs": [
    {
     "data": {
      "text/plain": [
       "[PosixPath('/home/tyler/GSForge_demo_data/osfstorage'),\n",
       " PosixPath('/home/tyler/GSForge_demo_data/osfstorage/srx_sample_annots.txt'),\n",
       " PosixPath('/home/tyler/GSForge_demo_data/osfstorage/DEG_gene_sets'),\n",
       " PosixPath('/home/tyler/GSForge_demo_data/osfstorage/rice.nc'),\n",
       " PosixPath('/home/tyler/GSForge_demo_data/osfstorage/all.gff3'),\n",
       " PosixPath('/home/tyler/GSForge_demo_data/osfstorage/rice_heat_drought.GEM.raw.txt'),\n",
       " PosixPath('/home/tyler/GSForge_demo_data/osfstorage/TPC2016-00158-LSBR2_Supplemental_File_1.csv'),\n",
       " PosixPath('/home/tyler/GSForge_demo_data/osfstorage/boruta_gene_sets'),\n",
       " PosixPath('/home/tyler/GSForge_demo_data/osfstorage/osativa.nc'),\n",
       " PosixPath('/home/tyler/GSForge_demo_data/osfstorage/TPC2016-00158-LSBR2_Supplemental_File_5.txt'),\n",
       " PosixPath('/home/tyler/GSForge_demo_data/osfstorage/boruta_workflow_gene_sets'),\n",
       " PosixPath('/home/tyler/GSForge_demo_data/osfstorage/DEG_gene_sets/deseq2_treatment.nc'),\n",
       " PosixPath('/home/tyler/GSForge_demo_data/osfstorage/boruta_gene_sets/Boruta_Genotype.nc'),\n",
       " PosixPath('/home/tyler/GSForge_demo_data/osfstorage/boruta_gene_sets/Boruta_Subspecies.nc'),\n",
       " PosixPath('/home/tyler/GSForge_demo_data/osfstorage/boruta_gene_sets/Boruta_Treatment.nc'),\n",
       " PosixPath('/home/tyler/GSForge_demo_data/osfstorage/boruta_workflow_gene_sets/019524_b48286.nc'),\n",
       " PosixPath('/home/tyler/GSForge_demo_data/osfstorage/boruta_workflow_gene_sets/b8df5c_fcadb6.nc'),\n",
       " PosixPath('/home/tyler/GSForge_demo_data/osfstorage/boruta_workflow_gene_sets/921936_8c7f65.nc'),\n",
       " PosixPath('/home/tyler/GSForge_demo_data/osfstorage/boruta_workflow_gene_sets/921936_7717b7.nc'),\n",
       " PosixPath('/home/tyler/GSForge_demo_data/osfstorage/boruta_workflow_gene_sets/4f9452_26da90.nc'),\n",
       " PosixPath('/home/tyler/GSForge_demo_data/osfstorage/boruta_workflow_gene_sets/f79407_a3f0bf.nc'),\n",
       " PosixPath('/home/tyler/GSForge_demo_data/osfstorage/boruta_workflow_gene_sets/26b197_c7df13.nc'),\n",
       " PosixPath('/home/tyler/GSForge_demo_data/osfstorage/boruta_workflow_gene_sets/9fda5b_009ca3.nc'),\n",
       " PosixPath('/home/tyler/GSForge_demo_data/osfstorage/boruta_workflow_gene_sets/3a6380_737034.nc'),\n",
       " PosixPath('/home/tyler/GSForge_demo_data/osfstorage/boruta_workflow_gene_sets/2e4ade_bf86e6.nc'),\n",
       " PosixPath('/home/tyler/GSForge_demo_data/osfstorage/boruta_workflow_gene_sets/488d45_7dbc79.nc'),\n",
       " PosixPath('/home/tyler/GSForge_demo_data/osfstorage/boruta_workflow_gene_sets/8fa5fc_ad023d.nc'),\n",
       " PosixPath('/home/tyler/GSForge_demo_data/osfstorage/boruta_workflow_gene_sets/e90ecb_ac8755.nc'),\n",
       " PosixPath('/home/tyler/GSForge_demo_data/osfstorage/boruta_workflow_gene_sets/21a38c_c68f41.nc'),\n",
       " PosixPath('/home/tyler/GSForge_demo_data/osfstorage/boruta_workflow_gene_sets/cfa346_946b08.nc'),\n",
       " PosixPath('/home/tyler/GSForge_demo_data/osfstorage/boruta_workflow_gene_sets/75bfe3_5b34f5.nc'),\n",
       " PosixPath('/home/tyler/GSForge_demo_data/osfstorage/boruta_workflow_gene_sets/cfa346_ae0e6c.nc'),\n",
       " PosixPath('/home/tyler/GSForge_demo_data/osfstorage/boruta_workflow_gene_sets/1ec403_b17615.nc'),\n",
       " PosixPath('/home/tyler/GSForge_demo_data/osfstorage/boruta_workflow_gene_sets/a6130e_63b28c.nc'),\n",
       " PosixPath('/home/tyler/GSForge_demo_data/osfstorage/boruta_workflow_gene_sets/f962d6_3da9fb.nc'),\n",
       " PosixPath('/home/tyler/GSForge_demo_data/osfstorage/boruta_workflow_gene_sets/eb6a41_a0e01c.nc'),\n",
       " PosixPath('/home/tyler/GSForge_demo_data/osfstorage/boruta_workflow_gene_sets/8fa5fc_04e12e.nc'),\n",
       " PosixPath('/home/tyler/GSForge_demo_data/osfstorage/boruta_workflow_gene_sets/019524_babd6a.nc'),\n",
       " PosixPath('/home/tyler/GSForge_demo_data/osfstorage/boruta_workflow_gene_sets/488d45_fd0554.nc'),\n",
       " PosixPath('/home/tyler/GSForge_demo_data/osfstorage/boruta_workflow_gene_sets/a45d98_14d7bc.nc'),\n",
       " PosixPath('/home/tyler/GSForge_demo_data/osfstorage/boruta_workflow_gene_sets/36b179_f8be07.nc'),\n",
       " PosixPath('/home/tyler/GSForge_demo_data/osfstorage/boruta_workflow_gene_sets/a45d98_8a0b2f.nc'),\n",
       " PosixPath('/home/tyler/GSForge_demo_data/osfstorage/boruta_workflow_gene_sets/749d0e_498d3d.nc'),\n",
       " PosixPath('/home/tyler/GSForge_demo_data/osfstorage/boruta_workflow_gene_sets/891c83_4b02e6.nc'),\n",
       " PosixPath('/home/tyler/GSForge_demo_data/osfstorage/boruta_workflow_gene_sets/3a6380_38175b.nc'),\n",
       " PosixPath('/home/tyler/GSForge_demo_data/osfstorage/boruta_workflow_gene_sets/0a0991_556f7b.nc'),\n",
       " PosixPath('/home/tyler/GSForge_demo_data/osfstorage/boruta_workflow_gene_sets/b8df5c_4d728d.nc'),\n",
       " PosixPath('/home/tyler/GSForge_demo_data/osfstorage/boruta_workflow_gene_sets/dc6a48_b3abce.nc'),\n",
       " PosixPath('/home/tyler/GSForge_demo_data/osfstorage/boruta_workflow_gene_sets/4d726f_5150af.nc'),\n",
       " PosixPath('/home/tyler/GSForge_demo_data/osfstorage/boruta_workflow_gene_sets/c3e5ee_666b04.nc'),\n",
       " PosixPath('/home/tyler/GSForge_demo_data/osfstorage/boruta_workflow_gene_sets/1ec403_a15667.nc'),\n",
       " PosixPath('/home/tyler/GSForge_demo_data/osfstorage/boruta_workflow_gene_sets/75bfe3_80c26f.nc'),\n",
       " PosixPath('/home/tyler/GSForge_demo_data/osfstorage/boruta_workflow_gene_sets/0a0991_4c7dd4.nc'),\n",
       " PosixPath('/home/tyler/GSForge_demo_data/osfstorage/boruta_workflow_gene_sets/d75652_e7d2d3.nc'),\n",
       " PosixPath('/home/tyler/GSForge_demo_data/osfstorage/boruta_workflow_gene_sets/c3e5ee_14d3cd.nc'),\n",
       " PosixPath('/home/tyler/GSForge_demo_data/osfstorage/boruta_workflow_gene_sets/749d0e_e0cb46.nc'),\n",
       " PosixPath('/home/tyler/GSForge_demo_data/osfstorage/boruta_workflow_gene_sets/a6130e_720599.nc'),\n",
       " PosixPath('/home/tyler/GSForge_demo_data/osfstorage/boruta_workflow_gene_sets/2e4ade_61218e.nc'),\n",
       " PosixPath('/home/tyler/GSForge_demo_data/osfstorage/boruta_workflow_gene_sets/21a38c_bbb811.nc'),\n",
       " PosixPath('/home/tyler/GSForge_demo_data/osfstorage/boruta_workflow_gene_sets/d38fb9_96caf8.nc'),\n",
       " PosixPath('/home/tyler/GSForge_demo_data/osfstorage/boruta_workflow_gene_sets/644cfd_3c8807.nc'),\n",
       " PosixPath('/home/tyler/GSForge_demo_data/osfstorage/boruta_workflow_gene_sets/4d726f_b548d8.nc'),\n",
       " PosixPath('/home/tyler/GSForge_demo_data/osfstorage/boruta_workflow_gene_sets/f962d6_d77341.nc'),\n",
       " PosixPath('/home/tyler/GSForge_demo_data/osfstorage/boruta_workflow_gene_sets/4f9452_d04106.nc'),\n",
       " PosixPath('/home/tyler/GSForge_demo_data/osfstorage/boruta_workflow_gene_sets/e90ecb_599a80.nc'),\n",
       " PosixPath('/home/tyler/GSForge_demo_data/osfstorage/boruta_workflow_gene_sets/644cfd_4554ce.nc'),\n",
       " PosixPath('/home/tyler/GSForge_demo_data/osfstorage/boruta_workflow_gene_sets/891c83_2c969d.nc'),\n",
       " PosixPath('/home/tyler/GSForge_demo_data/osfstorage/boruta_workflow_gene_sets/9fda5b_806573.nc'),\n",
       " PosixPath('/home/tyler/GSForge_demo_data/osfstorage/boruta_workflow_gene_sets/d75652_5babcd.nc'),\n",
       " PosixPath('/home/tyler/GSForge_demo_data/osfstorage/boruta_workflow_gene_sets/f79407_d52253.nc'),\n",
       " PosixPath('/home/tyler/GSForge_demo_data/osfstorage/boruta_workflow_gene_sets/dc6a48_a65673.nc'),\n",
       " PosixPath('/home/tyler/GSForge_demo_data/osfstorage/boruta_workflow_gene_sets/26b197_1a49d0.nc'),\n",
       " PosixPath('/home/tyler/GSForge_demo_data/osfstorage/boruta_workflow_gene_sets/eb6a41_ff5be8.nc'),\n",
       " PosixPath('/home/tyler/GSForge_demo_data/osfstorage/boruta_workflow_gene_sets/d38fb9_de32a5.nc'),\n",
       " PosixPath('/home/tyler/GSForge_demo_data/osfstorage/boruta_workflow_gene_sets/36b179_451cf8.nc')]"
      ]
     },
     "execution_count": 3,
     "metadata": {},
     "output_type": "execute_result"
    }
   ],
   "source": [
    "list(OSF_PATH.glob(\"**/*\"))"
   ]
  },
  {
   "cell_type": "markdown",
   "metadata": {},
   "source": [
    "Declare the paths to the count and label files."
   ]
  },
  {
   "cell_type": "code",
   "execution_count": 4,
   "metadata": {},
   "outputs": [],
   "source": [
    "COUNT_PATH = OSF_PATH.joinpath(\"osfstorage\", \"rice_heat_drought.GEM.raw.txt\")\n",
    "LABEL_PATH = OSF_PATH.joinpath(\"osfstorage\", \"srx_sample_annots.txt\")\n",
    "GFF3_PATH = OSF_PATH.joinpath(\"osfstorage\", \"all.gff3\")\n",
    "AGEM_PATH = OSF_PATH.joinpath(\"osfstorage\", \"rice.nc\")"
   ]
  },
  {
   "cell_type": "markdown",
   "metadata": {},
   "source": [
    "Ensure these files exsist."
   ]
  },
  {
   "cell_type": "code",
   "execution_count": 5,
   "metadata": {},
   "outputs": [],
   "source": [
    "assert COUNT_PATH.exists()\n",
    "assert LABEL_PATH.exists()\n",
    "assert GFF3_PATH.exists()"
   ]
  },
  {
   "cell_type": "markdown",
   "metadata": {},
   "source": [
    "---"
   ]
  },
  {
   "cell_type": "markdown",
   "metadata": {},
   "source": [
    "***Preparing the notebook***"
   ]
  },
  {
   "cell_type": "code",
   "execution_count": 6,
   "metadata": {
    "collapsed": false,
    "jupyter": {
     "outputs_hidden": false
    },
    "pycharm": {
     "is_executing": false,
     "name": "#%%\n"
    }
   },
   "outputs": [],
   "source": [
    "import pandas as pd\n",
    "import GSForge as gsf"
   ]
  },
  {
   "cell_type": "markdown",
   "metadata": {},
   "source": [
    "### Loading data with `pandas`"
   ]
  },
  {
   "cell_type": "markdown",
   "metadata": {},
   "source": [
    "***Loading the count matrix***"
   ]
  },
  {
   "cell_type": "code",
   "execution_count": 7,
   "metadata": {},
   "outputs": [
    {
     "name": "stdout",
     "output_type": "stream",
     "text": [
      "CPU times: user 2.2 s, sys: 330 ms, total: 2.53 s\n",
      "Wall time: 2.68 s\n"
     ]
    }
   ],
   "source": [
    "%%time\n",
    "count_df = pd.read_csv(COUNT_PATH, sep=\"\\t\", index_col=0)"
   ]
  },
  {
   "cell_type": "code",
   "execution_count": 8,
   "metadata": {},
   "outputs": [
    {
     "data": {
      "text/html": [
       "<div>\n",
       "<style scoped>\n",
       "    .dataframe tbody tr th:only-of-type {\n",
       "        vertical-align: middle;\n",
       "    }\n",
       "\n",
       "    .dataframe tbody tr th {\n",
       "        vertical-align: top;\n",
       "    }\n",
       "\n",
       "    .dataframe thead th {\n",
       "        text-align: right;\n",
       "    }\n",
       "</style>\n",
       "<table border=\"1\" class=\"dataframe\">\n",
       "  <thead>\n",
       "    <tr style=\"text-align: right;\">\n",
       "      <th></th>\n",
       "      <th>SRX1423934</th>\n",
       "      <th>SRX1423935</th>\n",
       "      <th>SRX1423936</th>\n",
       "      <th>SRX1423937</th>\n",
       "      <th>SRX1423938</th>\n",
       "      <th>SRX1423939</th>\n",
       "      <th>SRX1423940</th>\n",
       "      <th>SRX1423941</th>\n",
       "      <th>SRX1423942</th>\n",
       "      <th>SRX1423943</th>\n",
       "      <th>...</th>\n",
       "      <th>SRX1424399</th>\n",
       "      <th>SRX1424400</th>\n",
       "      <th>SRX1424401</th>\n",
       "      <th>SRX1424402</th>\n",
       "      <th>SRX1424403</th>\n",
       "      <th>SRX1424404</th>\n",
       "      <th>SRX1424405</th>\n",
       "      <th>SRX1424406</th>\n",
       "      <th>SRX1424407</th>\n",
       "      <th>SRX1424408</th>\n",
       "    </tr>\n",
       "  </thead>\n",
       "  <tbody>\n",
       "    <tr>\n",
       "      <td>LOC_Os06g05820</td>\n",
       "      <td>20</td>\n",
       "      <td>2</td>\n",
       "      <td>22</td>\n",
       "      <td>11</td>\n",
       "      <td>23</td>\n",
       "      <td>39</td>\n",
       "      <td>24</td>\n",
       "      <td>34</td>\n",
       "      <td>33</td>\n",
       "      <td>20</td>\n",
       "      <td>...</td>\n",
       "      <td>5</td>\n",
       "      <td>20</td>\n",
       "      <td>20</td>\n",
       "      <td>38</td>\n",
       "      <td>35</td>\n",
       "      <td>43</td>\n",
       "      <td>25</td>\n",
       "      <td>8</td>\n",
       "      <td>8</td>\n",
       "      <td>21</td>\n",
       "    </tr>\n",
       "    <tr>\n",
       "      <td>LOC_Os10g27460</td>\n",
       "      <td>0</td>\n",
       "      <td>0</td>\n",
       "      <td>0</td>\n",
       "      <td>0</td>\n",
       "      <td>0</td>\n",
       "      <td>0</td>\n",
       "      <td>0</td>\n",
       "      <td>0</td>\n",
       "      <td>0</td>\n",
       "      <td>0</td>\n",
       "      <td>...</td>\n",
       "      <td>0</td>\n",
       "      <td>0</td>\n",
       "      <td>0</td>\n",
       "      <td>0</td>\n",
       "      <td>0</td>\n",
       "      <td>0</td>\n",
       "      <td>0</td>\n",
       "      <td>0</td>\n",
       "      <td>0</td>\n",
       "      <td>0</td>\n",
       "    </tr>\n",
       "    <tr>\n",
       "      <td>LOC_Os02g35980</td>\n",
       "      <td>0</td>\n",
       "      <td>0</td>\n",
       "      <td>0</td>\n",
       "      <td>0</td>\n",
       "      <td>0</td>\n",
       "      <td>0</td>\n",
       "      <td>0</td>\n",
       "      <td>0</td>\n",
       "      <td>0</td>\n",
       "      <td>0</td>\n",
       "      <td>...</td>\n",
       "      <td>0</td>\n",
       "      <td>0</td>\n",
       "      <td>0</td>\n",
       "      <td>0</td>\n",
       "      <td>0</td>\n",
       "      <td>0</td>\n",
       "      <td>0</td>\n",
       "      <td>0</td>\n",
       "      <td>0</td>\n",
       "      <td>0</td>\n",
       "    </tr>\n",
       "    <tr>\n",
       "      <td>LOC_Os09g23260</td>\n",
       "      <td>0</td>\n",
       "      <td>0</td>\n",
       "      <td>0</td>\n",
       "      <td>0</td>\n",
       "      <td>0</td>\n",
       "      <td>0</td>\n",
       "      <td>0</td>\n",
       "      <td>0</td>\n",
       "      <td>0</td>\n",
       "      <td>0</td>\n",
       "      <td>...</td>\n",
       "      <td>0</td>\n",
       "      <td>0</td>\n",
       "      <td>0</td>\n",
       "      <td>0</td>\n",
       "      <td>0</td>\n",
       "      <td>0</td>\n",
       "      <td>0</td>\n",
       "      <td>0</td>\n",
       "      <td>0</td>\n",
       "      <td>0</td>\n",
       "    </tr>\n",
       "    <tr>\n",
       "      <td>LOC_Os01g41670</td>\n",
       "      <td>0</td>\n",
       "      <td>0</td>\n",
       "      <td>0</td>\n",
       "      <td>0</td>\n",
       "      <td>0</td>\n",
       "      <td>0</td>\n",
       "      <td>0</td>\n",
       "      <td>0</td>\n",
       "      <td>0</td>\n",
       "      <td>0</td>\n",
       "      <td>...</td>\n",
       "      <td>0</td>\n",
       "      <td>0</td>\n",
       "      <td>0</td>\n",
       "      <td>2</td>\n",
       "      <td>0</td>\n",
       "      <td>0</td>\n",
       "      <td>0</td>\n",
       "      <td>0</td>\n",
       "      <td>0</td>\n",
       "      <td>0</td>\n",
       "    </tr>\n",
       "  </tbody>\n",
       "</table>\n",
       "<p>5 rows × 475 columns</p>\n",
       "</div>"
      ],
      "text/plain": [
       "                SRX1423934  SRX1423935  SRX1423936  SRX1423937  SRX1423938  \\\n",
       "LOC_Os06g05820          20           2          22          11          23   \n",
       "LOC_Os10g27460           0           0           0           0           0   \n",
       "LOC_Os02g35980           0           0           0           0           0   \n",
       "LOC_Os09g23260           0           0           0           0           0   \n",
       "LOC_Os01g41670           0           0           0           0           0   \n",
       "\n",
       "                SRX1423939  SRX1423940  SRX1423941  SRX1423942  SRX1423943  \\\n",
       "LOC_Os06g05820          39          24          34          33          20   \n",
       "LOC_Os10g27460           0           0           0           0           0   \n",
       "LOC_Os02g35980           0           0           0           0           0   \n",
       "LOC_Os09g23260           0           0           0           0           0   \n",
       "LOC_Os01g41670           0           0           0           0           0   \n",
       "\n",
       "                ...  SRX1424399  SRX1424400  SRX1424401  SRX1424402  \\\n",
       "LOC_Os06g05820  ...           5          20          20          38   \n",
       "LOC_Os10g27460  ...           0           0           0           0   \n",
       "LOC_Os02g35980  ...           0           0           0           0   \n",
       "LOC_Os09g23260  ...           0           0           0           0   \n",
       "LOC_Os01g41670  ...           0           0           0           2   \n",
       "\n",
       "                SRX1424403  SRX1424404  SRX1424405  SRX1424406  SRX1424407  \\\n",
       "LOC_Os06g05820          35          43          25           8           8   \n",
       "LOC_Os10g27460           0           0           0           0           0   \n",
       "LOC_Os02g35980           0           0           0           0           0   \n",
       "LOC_Os09g23260           0           0           0           0           0   \n",
       "LOC_Os01g41670           0           0           0           0           0   \n",
       "\n",
       "                SRX1424408  \n",
       "LOC_Os06g05820          21  \n",
       "LOC_Os10g27460           0  \n",
       "LOC_Os02g35980           0  \n",
       "LOC_Os09g23260           0  \n",
       "LOC_Os01g41670           0  \n",
       "\n",
       "[5 rows x 475 columns]"
      ]
     },
     "execution_count": 8,
     "metadata": {},
     "output_type": "execute_result"
    }
   ],
   "source": [
    "count_df.head()"
   ]
  },
  {
   "cell_type": "markdown",
   "metadata": {},
   "source": [
    "***Loading the annotation table***"
   ]
  },
  {
   "cell_type": "code",
   "execution_count": 9,
   "metadata": {},
   "outputs": [
    {
     "name": "stdout",
     "output_type": "stream",
     "text": [
      "CPU times: user 4.65 ms, sys: 0 ns, total: 4.65 ms\n",
      "Wall time: 4.62 ms\n"
     ]
    }
   ],
   "source": [
    "%%time\n",
    "label_df = pd.read_csv(LABEL_PATH, index_col=0)"
   ]
  },
  {
   "cell_type": "code",
   "execution_count": 10,
   "metadata": {},
   "outputs": [
    {
     "data": {
      "text/html": [
       "<div>\n",
       "<style scoped>\n",
       "    .dataframe tbody tr th:only-of-type {\n",
       "        vertical-align: middle;\n",
       "    }\n",
       "\n",
       "    .dataframe tbody tr th {\n",
       "        vertical-align: top;\n",
       "    }\n",
       "\n",
       "    .dataframe thead th {\n",
       "        text-align: right;\n",
       "    }\n",
       "</style>\n",
       "<table border=\"1\" class=\"dataframe\">\n",
       "  <thead>\n",
       "    <tr style=\"text-align: right;\">\n",
       "      <th></th>\n",
       "      <th>SampleSRR</th>\n",
       "      <th>Treatment</th>\n",
       "      <th>Time</th>\n",
       "      <th>Tissue</th>\n",
       "      <th>Genotype</th>\n",
       "      <th>Subspecies</th>\n",
       "    </tr>\n",
       "    <tr>\n",
       "      <th>Sample</th>\n",
       "      <th></th>\n",
       "      <th></th>\n",
       "      <th></th>\n",
       "      <th></th>\n",
       "      <th></th>\n",
       "      <th></th>\n",
       "    </tr>\n",
       "  </thead>\n",
       "  <tbody>\n",
       "    <tr>\n",
       "      <td>SRX1423934</td>\n",
       "      <td>SRR2931040</td>\n",
       "      <td>CONTROL</td>\n",
       "      <td>15</td>\n",
       "      <td>leaf</td>\n",
       "      <td>AZ</td>\n",
       "      <td>Japonica</td>\n",
       "    </tr>\n",
       "    <tr>\n",
       "      <td>SRX1423935</td>\n",
       "      <td>SRR2931041</td>\n",
       "      <td>CONTROL</td>\n",
       "      <td>15</td>\n",
       "      <td>leaf</td>\n",
       "      <td>AZ</td>\n",
       "      <td>Japonica</td>\n",
       "    </tr>\n",
       "    <tr>\n",
       "      <td>SRX1423936</td>\n",
       "      <td>SRR2931042</td>\n",
       "      <td>CONTROL</td>\n",
       "      <td>30</td>\n",
       "      <td>leaf</td>\n",
       "      <td>AZ</td>\n",
       "      <td>Japonica</td>\n",
       "    </tr>\n",
       "    <tr>\n",
       "      <td>SRX1423937</td>\n",
       "      <td>SRR2931043</td>\n",
       "      <td>CONTROL</td>\n",
       "      <td>30</td>\n",
       "      <td>leaf</td>\n",
       "      <td>AZ</td>\n",
       "      <td>Japonica</td>\n",
       "    </tr>\n",
       "    <tr>\n",
       "      <td>SRX1423938</td>\n",
       "      <td>SRR2931044</td>\n",
       "      <td>CONTROL</td>\n",
       "      <td>45</td>\n",
       "      <td>leaf</td>\n",
       "      <td>AZ</td>\n",
       "      <td>Japonica</td>\n",
       "    </tr>\n",
       "  </tbody>\n",
       "</table>\n",
       "</div>"
      ],
      "text/plain": [
       "             SampleSRR Treatment  Time Tissue Genotype Subspecies\n",
       "Sample                                                           \n",
       "SRX1423934  SRR2931040   CONTROL    15   leaf       AZ   Japonica\n",
       "SRX1423935  SRR2931041   CONTROL    15   leaf       AZ   Japonica\n",
       "SRX1423936  SRR2931042   CONTROL    30   leaf       AZ   Japonica\n",
       "SRX1423937  SRR2931043   CONTROL    30   leaf       AZ   Japonica\n",
       "SRX1423938  SRR2931044   CONTROL    45   leaf       AZ   Japonica"
      ]
     },
     "execution_count": 10,
     "metadata": {},
     "output_type": "execute_result"
    }
   ],
   "source": [
    "label_df.head()"
   ]
  },
  {
   "cell_type": "markdown",
   "metadata": {},
   "source": [
    "***Ensure sample indexes overlap***"
   ]
  },
  {
   "cell_type": "markdown",
   "metadata": {},
   "source": [
    "Check that the number of samples is the same in both files, and that their overlap is that same length."
   ]
  },
  {
   "cell_type": "code",
   "execution_count": 11,
   "metadata": {},
   "outputs": [],
   "source": [
    "assert len(count_df.columns) == len(label_df.index) == len(label_df.index.intersection(count_df.columns))"
   ]
  },
  {
   "cell_type": "markdown",
   "metadata": {},
   "source": [
    "### Combine the dataframes into an AnnotatedGEM:\n",
    "\n",
    "`AnnotatedGEM.from_pandas` does a bit of data wrangling, and loads the data into a single `xarray.Dataset`."
   ]
  },
  {
   "cell_type": "code",
   "execution_count": 12,
   "metadata": {},
   "outputs": [
    {
     "data": {
      "text/plain": [
       "<GSForge.AnnotatedGEM>\n",
       "Name: Rice\n",
       "Selected GEM Variable: 'counts'\n",
       "    Gene   55986\n",
       "    Sample 475"
      ]
     },
     "execution_count": 12,
     "metadata": {},
     "output_type": "execute_result"
    }
   ],
   "source": [
    "agem = gsf.AnnotatedGEM.from_pandas(count_df=count_df, label_df=label_df, name=\"Rice\")\n",
    "agem"
   ]
  },
  {
   "cell_type": "markdown",
   "metadata": {},
   "source": [
    "***Examine the data***"
   ]
  },
  {
   "cell_type": "code",
   "execution_count": 13,
   "metadata": {},
   "outputs": [
    {
     "data": {
      "text/plain": [
       "<xarray.Dataset>\n",
       "Dimensions:     (Gene: 55986, Sample: 475)\n",
       "Coordinates:\n",
       "  * Sample      (Sample) object 'SRX1423934' 'SRX1423935' ... 'SRX1424408'\n",
       "  * Gene        (Gene) object 'LOC_Os06g05820' ... 'LOC_Os07g03418'\n",
       "Data variables:\n",
       "    SampleSRR   (Sample) object 'SRR2931040' 'SRR2931041' ... 'SRR2931514'\n",
       "    Treatment   (Sample) object 'CONTROL' 'CONTROL' ... 'RECOV_DROUGHT'\n",
       "    Time        (Sample) int64 15 15 30 30 45 45 60 ... 240 240 270 270 300 300\n",
       "    Tissue      (Sample) object 'leaf' 'leaf' 'leaf' ... 'leaf' 'leaf' 'leaf'\n",
       "    Genotype    (Sample) object 'AZ' 'AZ' 'AZ' 'AZ' 'AZ' ... 'TD' 'TD' 'TD' 'TD'\n",
       "    Subspecies  (Sample) object 'Japonica' 'Japonica' ... 'Indica' 'Indica'\n",
       "    counts      (Sample, Gene) int64 20 0 0 0 0 0 200 ... 19 0 52 335 0 666 0"
      ]
     },
     "execution_count": 13,
     "metadata": {},
     "output_type": "execute_result"
    }
   ],
   "source": [
    "agem.data"
   ]
  },
  {
   "cell_type": "markdown",
   "metadata": {},
   "source": [
    "***Add gene annotations***"
   ]
  },
  {
   "cell_type": "code",
   "execution_count": 14,
   "metadata": {},
   "outputs": [
    {
     "data": {
      "text/html": [
       "<div>\n",
       "<style scoped>\n",
       "    .dataframe tbody tr th:only-of-type {\n",
       "        vertical-align: middle;\n",
       "    }\n",
       "\n",
       "    .dataframe tbody tr th {\n",
       "        vertical-align: top;\n",
       "    }\n",
       "\n",
       "    .dataframe thead th {\n",
       "        text-align: right;\n",
       "    }\n",
       "</style>\n",
       "<table border=\"1\" class=\"dataframe\">\n",
       "  <thead>\n",
       "    <tr style=\"text-align: right;\">\n",
       "      <th></th>\n",
       "      <th>seqname</th>\n",
       "      <th>source</th>\n",
       "      <th>feature</th>\n",
       "      <th>start</th>\n",
       "      <th>end</th>\n",
       "      <th>score</th>\n",
       "      <th>strand</th>\n",
       "      <th>frame</th>\n",
       "      <th>attribute</th>\n",
       "    </tr>\n",
       "  </thead>\n",
       "  <tbody>\n",
       "    <tr>\n",
       "      <td>0</td>\n",
       "      <td>Chr1</td>\n",
       "      <td>MSU_osa1r7</td>\n",
       "      <td>gene</td>\n",
       "      <td>2903</td>\n",
       "      <td>10817</td>\n",
       "      <td>.</td>\n",
       "      <td>+</td>\n",
       "      <td>.</td>\n",
       "      <td>ID=LOC_Os01g01010;Name=LOC_Os01g01010;Note=TBC...</td>\n",
       "    </tr>\n",
       "    <tr>\n",
       "      <td>1</td>\n",
       "      <td>Chr1</td>\n",
       "      <td>MSU_osa1r7</td>\n",
       "      <td>mRNA</td>\n",
       "      <td>2903</td>\n",
       "      <td>10817</td>\n",
       "      <td>.</td>\n",
       "      <td>+</td>\n",
       "      <td>.</td>\n",
       "      <td>ID=LOC_Os01g01010.1;Name=LOC_Os01g01010.1;Pare...</td>\n",
       "    </tr>\n",
       "  </tbody>\n",
       "</table>\n",
       "</div>"
      ],
      "text/plain": [
       "  seqname      source feature  start    end score strand frame  \\\n",
       "0    Chr1  MSU_osa1r7    gene   2903  10817     .      +     .   \n",
       "1    Chr1  MSU_osa1r7    mRNA   2903  10817     .      +     .   \n",
       "\n",
       "                                           attribute  \n",
       "0  ID=LOC_Os01g01010;Name=LOC_Os01g01010;Note=TBC...  \n",
       "1  ID=LOC_Os01g01010.1;Name=LOC_Os01g01010.1;Pare...  "
      ]
     },
     "execution_count": 14,
     "metadata": {},
     "output_type": "execute_result"
    }
   ],
   "source": [
    "pd.read_csv(GFF3_PATH, sep=\"\\t\", comment=\"#\",\n",
    "             names=['seqname', 'source', 'feature', 'start', 'end',\n",
    "                    'score', 'strand', 'frame', 'attribute']).head(2)"
   ]
  },
  {
   "cell_type": "code",
   "execution_count": 15,
   "metadata": {},
   "outputs": [],
   "source": [
    "def extract_gff3_gene_lengths(gff3_file):\n",
    "    \"\"\"A custom function to extract gene lengths.\"\"\"\n",
    "    df = pd.read_csv(gff3_file, sep=\"\\t\", comment=\"#\",\n",
    "                     names=['seqname', 'source', 'feature', 'start', 'end',\n",
    "                            'score', 'strand', 'frame', 'attribute'])\n",
    "    gene_ids = df[\"attribute\"].str.extract(r\"ID=(\\w+)\")\n",
    "    df = df[gene_ids.notna().values]\n",
    "    df['Gene'] = gene_ids\n",
    "    df = df.drop_duplicates(\"Gene\")\n",
    "    df = df.set_index(\"Gene\")\n",
    "    return df[\"end\"] - df[\"start\"]"
   ]
  },
  {
   "cell_type": "markdown",
   "metadata": {},
   "source": [
    "Because gene_lengths is already (hopefully) indexed correctly, it is trivial to incorporate into our AnnotatedGEM."
   ]
  },
  {
   "cell_type": "code",
   "execution_count": 16,
   "metadata": {},
   "outputs": [],
   "source": [
    "gene_lengths = extract_gff3_gene_lengths(GFF3_PATH)"
   ]
  },
  {
   "cell_type": "code",
   "execution_count": 17,
   "metadata": {},
   "outputs": [],
   "source": [
    "agem.data[\"lengths\"] = gene_lengths"
   ]
  },
  {
   "cell_type": "markdown",
   "metadata": {},
   "source": [
    "### Save the `AnnotatedGEM`"
   ]
  },
  {
   "cell_type": "code",
   "execution_count": 20,
   "metadata": {},
   "outputs": [
    {
     "data": {
      "text/plain": [
       "PosixPath('/home/tyler/GSForge_demo_data/osfstorage/rice.nc')"
      ]
     },
     "execution_count": 20,
     "metadata": {},
     "output_type": "execute_result"
    }
   ],
   "source": [
    "agem.save(AGEM_PATH)"
   ]
  },
  {
   "cell_type": "markdown",
   "metadata": {},
   "source": [
    "### Creating an AnnotatedGEM from files\n",
    "\n",
    "If you are fortunate enough to have consistenly formatted data (like the above example) you can directly load your data into an AnnotatedGEM.\n",
    "\n",
    "If you do not provide a sep argument in the count_kwargs or label_kwargs dictionaries, GEMprospector will attempt to infer it by reading the first line of each file."
   ]
  },
  {
   "cell_type": "code",
   "execution_count": 32,
   "metadata": {},
   "outputs": [
    {
     "data": {
      "text/plain": [
       "<GSForge.AnnotatedGEM>\n",
       "Name: AnnotatedGEM00089\n",
       "Selected GEM Variable: 'counts'\n",
       "    Gene   55986\n",
       "    Sample 475"
      ]
     },
     "execution_count": 32,
     "metadata": {},
     "output_type": "execute_result"
    }
   ],
   "source": [
    "agem = gsf.AnnotatedGEM.from_files(\n",
    "    count_path=COUNT_PATH,\n",
    "    label_path=LABEL_PATH,\n",
    "    # These are the default arguments passed to from_files,\n",
    "    # to the individual calls to `pandas.read_csv`.\n",
    "    count_kwargs=dict(index_col=0),\n",
    "    label_kwargs=dict(index_col=0),\n",
    ")\n",
    "agem"
   ]
  },
  {
   "cell_type": "markdown",
   "metadata": {},
   "source": [
    "---"
   ]
  }
 ],
 "metadata": {
  "kernelspec": {
   "display_name": "Python (base)",
   "language": "python",
   "name": "python3"
  },
  "language_info": {
   "codemirror_mode": {
    "name": "ipython",
    "version": 3
   },
   "file_extension": ".py",
   "mimetype": "text/x-python",
   "name": "python",
   "nbconvert_exporter": "python",
   "pygments_lexer": "ipython3",
   "version": "3.7.3"
  },
  "pycharm": {
   "stem_cell": {
    "cell_type": "raw",
    "metadata": {
     "collapsed": false
    },
    "source": []
   }
  }
 },
 "nbformat": 4,
 "nbformat_minor": 4
}
