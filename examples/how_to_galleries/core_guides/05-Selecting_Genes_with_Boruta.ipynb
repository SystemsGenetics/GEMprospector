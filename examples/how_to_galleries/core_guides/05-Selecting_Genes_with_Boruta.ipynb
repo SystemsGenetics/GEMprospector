{
 "cells": [
  {
   "cell_type": "markdown",
   "metadata": {},
   "source": [
    "*This notebook descbites howo to select genes (features) of importance using Random Forests through the Boruta algorithm.*\n",
    "\n",
    "**Background information**:\n",
    "+ Random Forests\n",
    "    + The [sklearn model used](https://scikit-learn.org/stable/modules/generated/sklearn.ensemble.RandomForestClassifier.html)\n",
    "    + [The excellent sklearn user guide](https://scikit-learn.org/stable/user_guide.html)\n",
    "+ [Python Boruta algorithm](https://github.com/scikit-learn-contrib/boruta_py)\n",
    "\n",
    "---"
   ]
  },
  {
   "cell_type": "markdown",
   "metadata": {},
   "source": [
    "***Setting up the notebook***"
   ]
  },
  {
   "cell_type": "code",
   "execution_count": null,
   "metadata": {},
   "outputs": [],
   "source": [
    "import numpy as np\n",
    "import pandas as pd\n",
    "import xarray as xr\n",
    "\n",
    "import holoviews as hv\n",
    "hv.extension(\"bokeh\")\n",
    "%matplotlib inline\n",
    "\n",
    "import GSForge as gsf"
   ]
  },
  {
   "cell_type": "markdown",
   "metadata": {},
   "source": [
    "***Declaring used paths***"
   ]
  },
  {
   "cell_type": "code",
   "execution_count": null,
   "metadata": {
    "jupyter": {
     "outputs_hidden": false
    },
    "pycharm": {
     "is_executing": false,
     "name": "#%%\n"
    }
   },
   "outputs": [],
   "source": [
    "# OS-independent path management.\n",
    "from os import fspath, environ\n",
    "from pathlib import Path"
   ]
  },
  {
   "cell_type": "code",
   "execution_count": null,
   "metadata": {},
   "outputs": [],
   "source": [
    "OSF_PATH = Path(environ.get(\"GSFORGE_DEMO_DATA\", default=\"~/GSForge_demo_data/osfstorage\")).expanduser()\n",
    "HYDRO_GEM_PATH = OSF_PATH.joinpath(\"AnnotatedGEMs\", \"oryza_sativa_hydro_raw.nc\")\n",
    "assert HYDRO_GEM_PATH.exists()"
   ]
  },
  {
   "cell_type": "code",
   "execution_count": null,
   "metadata": {},
   "outputs": [],
   "source": [
    "OUTPUT_DIR = OSF_PATH.joinpath(\"Collections\", \"boruta\")"
   ]
  },
  {
   "cell_type": "markdown",
   "metadata": {},
   "source": [
    "***Loading a demo AnnotatedGEM***"
   ]
  },
  {
   "cell_type": "code",
   "execution_count": null,
   "metadata": {},
   "outputs": [],
   "source": [
    "agem = gsf.AnnotatedGEM(HYDRO_GEM_PATH)\n",
    "agem"
   ]
  },
  {
   "cell_type": "code",
   "execution_count": null,
   "metadata": {},
   "outputs": [],
   "source": [
    "agem.data"
   ]
  },
  {
   "cell_type": "markdown",
   "metadata": {},
   "source": [
    "## Finding Genes\n",
    "\n",
    "Selecting relevent genes of importance (something that requires further experimentation to confirm) is not simple.\n",
    "But we can make it appear so, by demonstrating the boruta feature selection method to construct a `GSForge.GeneSet`.\n",
    "\n",
    "First we will need a model that, when trained, can rank or infer feature importance:"
   ]
  },
  {
   "cell_type": "code",
   "execution_count": null,
   "metadata": {
    "pycharm": {
     "is_executing": false
    }
   },
   "outputs": [],
   "source": [
    "from sklearn.ensemble import RandomForestClassifier"
   ]
  },
  {
   "cell_type": "code",
   "execution_count": null,
   "metadata": {
    "pycharm": {
     "is_executing": false
    }
   },
   "outputs": [],
   "source": [
    "selecting_model = RandomForestClassifier(\n",
    "    class_weight='balanced',\n",
    "    max_depth=4, \n",
    "    n_estimators=1000, \n",
    "    n_jobs=-1)"
   ]
  },
  {
   "cell_type": "markdown",
   "metadata": {},
   "source": [
    "Now we can run the boruta feature selection method."
   ]
  },
  {
   "cell_type": "code",
   "execution_count": null,
   "metadata": {
    "pycharm": {
     "is_executing": false
    }
   },
   "outputs": [],
   "source": [
    "%%time\n",
    "boruta_result = gsf.operations.BorutaProspector(\n",
    "    agem, \n",
    "    estimator=selecting_model, \n",
    "    annotation_variables=\"treatment\",\n",
    "    max_iter=2,\n",
    "    perc=95)"
   ]
  },
  {
   "cell_type": "markdown",
   "metadata": {},
   "source": [
    "This produces an `xarray.Dataset` object."
   ]
  },
  {
   "cell_type": "code",
   "execution_count": null,
   "metadata": {},
   "outputs": [],
   "source": [
    "boruta_result"
   ]
  },
  {
   "cell_type": "markdown",
   "metadata": {},
   "source": [
    "### Creating a GeneSet from the result\n",
    "\n",
    "Consider any metadata that should be stored, and add that to the `xarray.Dataset` result using `assign_attrs()`\n",
    "\n",
    "```python\n",
    "attrs = {\"selection_model\": str(selecting_model)}\n",
    "boruta_result = boruta_result.assign_attrs(attrs)\n",
    "```"
   ]
  },
  {
   "cell_type": "markdown",
   "metadata": {},
   "source": [
    "You will need to convert nested dictionaries into json strings.\n",
    "\n",
    "After the object is created you can easily see the number and percent of genes selected:"
   ]
  },
  {
   "cell_type": "code",
   "execution_count": null,
   "metadata": {},
   "outputs": [],
   "source": [
    "boruta_treatment_gs = gsf.GeneSet(boruta_result, name=\"Boruta Treatment\")\n",
    "boruta_treatment_gs"
   ]
  },
  {
   "cell_type": "markdown",
   "metadata": {},
   "source": [
    "## Using a `GeneSetCollection`\n",
    "\n",
    "For running more than one boruta model in the notebook, we recommend creating them in a loop, and adding them to a collection, as demonstrated below.\n",
    "\n",
    "Although if you want to run many different models, you should strongly consider using the [nextflow workflows](workflow_guide/workflow_guide.ipynb)."
   ]
  },
  {
   "cell_type": "markdown",
   "metadata": {},
   "source": [
    "```python\n",
    "from tqdm.notebook import tqdm\n",
    "\n",
    "boruta_gsc = gsf.GeneSetCollection(gem=agem)\n",
    "\n",
    "for target in tqdm([\"treatment\", \"genotype\"]):\n",
    "    boruta_treatment_ds = gsf.operations.BorutaProspector(\n",
    "        agem,\n",
    "        estimator=selecting_model,\n",
    "        annotation_variables=target,\n",
    "        max_iter=50)\n",
    "    \n",
    "    boruta_gsc.gene_sets[target] = gsf.GeneSet(boruta_treatment_ds, name=f\"Boruta_{target}\")\n",
    "    \n",
    "```"
   ]
  },
  {
   "cell_type": "code",
   "execution_count": null,
   "metadata": {},
   "outputs": [],
   "source": [
    "from tqdm.notebook import tqdm"
   ]
  },
  {
   "cell_type": "code",
   "execution_count": null,
   "metadata": {},
   "outputs": [],
   "source": [
    "boruta_gsc = gsf.GeneSetCollection(gem=agem)\n",
    "\n",
    "for target in tqdm([\"treatment\", \"genotype\"]):\n",
    "    boruta_treatment_ds = gsf.operations.BorutaProspector(\n",
    "        agem,\n",
    "        estimator=selecting_model,\n",
    "        annotation_variables=target,\n",
    "        perc=95,\n",
    "        max_iter=50)\n",
    "    \n",
    "    boruta_gsc[target] = gsf.GeneSet(boruta_treatment_ds, name=f\"Boruta_{target}\")"
   ]
  },
  {
   "cell_type": "code",
   "execution_count": null,
   "metadata": {},
   "outputs": [],
   "source": [
    "boruta_gsc"
   ]
  },
  {
   "cell_type": "code",
   "execution_count": null,
   "metadata": {},
   "outputs": [],
   "source": [
    "OUTPUT_DIR"
   ]
  },
  {
   "cell_type": "code",
   "execution_count": null,
   "metadata": {},
   "outputs": [],
   "source": [
    "boruta_gsc.save(OUTPUT_DIR)"
   ]
  },
  {
   "cell_type": "code",
   "execution_count": null,
   "metadata": {},
   "outputs": [],
   "source": []
  }
 ],
 "metadata": {
  "kernelspec": {
   "display_name": "Python 3",
   "language": "python",
   "name": "python3"
  },
  "language_info": {
   "codemirror_mode": {
    "name": "ipython",
    "version": 3
   },
   "file_extension": ".py",
   "mimetype": "text/x-python",
   "name": "python",
   "nbconvert_exporter": "python",
   "pygments_lexer": "ipython3",
   "version": "3.7.7"
  },
  "pycharm": {
   "stem_cell": {
    "cell_type": "raw",
    "metadata": {
     "collapsed": false
    },
    "source": []
   }
  }
 },
 "nbformat": 4,
 "nbformat_minor": 4
}
