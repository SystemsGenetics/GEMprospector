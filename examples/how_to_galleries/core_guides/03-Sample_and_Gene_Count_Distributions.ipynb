{
 "cells": [
  {
   "cell_type": "markdown",
   "metadata": {},
   "source": [
    "# Viewing Gene Expression Distributions"
   ]
  },
  {
   "cell_type": "markdown",
   "metadata": {},
   "source": [
    "A great deal of quality-control information comes from the alignment step itself.\n",
    "Here we are concerned with how the data looks as an ensemble.\n",
    "Many methods are particularly concerned with gene-wise expression variance.\n",
    "\n",
    "In this notebook we demonstrate the plotting utilities provided by `gsforge` to examine such distributions."
   ]
  },
  {
   "cell_type": "markdown",
   "metadata": {},
   "source": [
    "***Set up the notebook***"
   ]
  },
  {
   "cell_type": "code",
   "execution_count": null,
   "metadata": {},
   "outputs": [],
   "source": [
    "import os\n",
    "import GSForge as gsf\n",
    "from pathlib import Path\n",
    "import scipy\n",
    "import numpy as np\n",
    "import holoviews as hv\n",
    "\n",
    "hv.extension(\"bokeh\")"
   ]
  },
  {
   "cell_type": "markdown",
   "metadata": {},
   "source": [
    "***Declare used paths***"
   ]
  },
  {
   "cell_type": "code",
   "execution_count": null,
   "metadata": {
    "jupyter": {
     "outputs_hidden": false
    },
    "pycharm": {
     "is_executing": false,
     "name": "#%%\n"
    }
   },
   "outputs": [],
   "source": [
    "# OS-independent path management.\n",
    "from os import fspath, environ\n",
    "from pathlib import Path"
   ]
  },
  {
   "cell_type": "code",
   "execution_count": null,
   "metadata": {},
   "outputs": [],
   "source": [
    "OSF_PATH = Path(environ.get(\"GSFORGE_DEMO_DATA\", default=\"~/GSForge_demo_data/osfstorage\")).expanduser()\n",
    "HYDRO_NORMED_GEM_PATH = OSF_PATH.joinpath(\"AnnotatedGEMs\", \"oryza_sativa_hydro_normed.nc\")\n",
    "assert HYDRO_NORMED_GEM_PATH.exists()"
   ]
  },
  {
   "cell_type": "markdown",
   "metadata": {},
   "source": [
    "Declare an path to which the created `.nc` file will saved."
   ]
  },
  {
   "cell_type": "markdown",
   "metadata": {},
   "source": [
    "***Load an AnnotatedGEM***"
   ]
  },
  {
   "cell_type": "code",
   "execution_count": null,
   "metadata": {},
   "outputs": [],
   "source": [
    "agem = gsf.AnnotatedGEM(HYDRO_NORMED_GEM_PATH)\n",
    "agem"
   ]
  },
  {
   "cell_type": "code",
   "execution_count": null,
   "metadata": {},
   "outputs": [],
   "source": [
    "# vals = list(agem.data.Sample.isel(Sample=[1,2, 25,26, 50, 200, 220, 249]).copy(deep=True).values)\n",
    "# gsf.plots.gem.SamplewiseDistributions(agem, sample_subset=vals, datashade=True, hue_key='treatment')"
   ]
  },
  {
   "cell_type": "code",
   "execution_count": null,
   "metadata": {},
   "outputs": [],
   "source": [
    "gsf.plots.gem.EmpiricalCumulativeDistribution(agem,\n",
    "#                                               sample_subset=vals,\n",
    "                                              datashade=True, \n",
    "                                              hue_key='treatment',\n",
    "                                              count_transform=np.log2\n",
    "                                             )"
   ]
  },
  {
   "cell_type": "code",
   "execution_count": null,
   "metadata": {},
   "outputs": [],
   "source": [
    "# hv.plotting.util.process_cmap(cmap='glasbey', ncolors=475)"
   ]
  },
  {
   "cell_type": "code",
   "execution_count": null,
   "metadata": {},
   "outputs": [],
   "source": [
    "import xarray as xr"
   ]
  },
  {
   "cell_type": "code",
   "execution_count": null,
   "metadata": {},
   "outputs": [],
   "source": [
    "from holoviews.operation.stats import univariate_kde"
   ]
  },
  {
   "cell_type": "code",
   "execution_count": null,
   "metadata": {},
   "outputs": [],
   "source": [
    "from holoviews.operation.datashader import datashade, shade, dynspread, rasterize"
   ]
  },
  {
   "cell_type": "code",
   "execution_count": null,
   "metadata": {},
   "outputs": [],
   "source": [
    "import datashader as ds"
   ]
  },
  {
   "cell_type": "code",
   "execution_count": null,
   "metadata": {},
   "outputs": [],
   "source": [
    "import colorcet as cc"
   ]
  },
  {
   "cell_type": "code",
   "execution_count": null,
   "metadata": {},
   "outputs": [],
   "source": [
    "import pandas as pd"
   ]
  },
  {
   "cell_type": "code",
   "execution_count": null,
   "metadata": {},
   "outputs": [],
   "source": []
  },
  {
   "cell_type": "code",
   "execution_count": null,
   "metadata": {},
   "outputs": [],
   "source": [
    "counts, labels = gsf.get_gem_data(agem, annotation_variables=['treatment'], \n",
    "                                  sample_subset=vals, \n",
    "                                  count_transform=lambda c: np.log2(c+0.25))"
   ]
  },
  {
   "cell_type": "code",
   "execution_count": null,
   "metadata": {},
   "outputs": [],
   "source": [
    "for i, c in enumerate(counts):\n",
    "    print(c)\n",
    "    break"
   ]
  },
  {
   "cell_type": "code",
   "execution_count": null,
   "metadata": {},
   "outputs": [],
   "source": [
    "counts.values.shapea"
   ]
  },
  {
   "cell_type": "markdown",
   "metadata": {},
   "source": [
    "The average squared deviation is normally calculated as x.sum() / N, where N = len(x). If, however, ddof is specified, the divisor N - ddof is used instead. In standard statistical practice, ddof=1 provides an unbiased estimator of the variance of the infinite population. ddof=0 provides a maximum likelihood estimate of the variance for normally distributed variables. The standard deviation computed in this function is the square root of the estimated variance, so even with ddof=1, it will not be an unbiased estimate of the standard deviation per se."
   ]
  },
  {
   "cell_type": "code",
   "execution_count": null,
   "metadata": {},
   "outputs": [],
   "source": [
    "label_series = labels.to_series()\n",
    "unique_keys = label_series.unique()\n",
    "colors = hv.plotting.util.process_cmap(cmap='glasbey', ncolors=len(unique_keys))\n",
    "\n",
    "hue_colors = {label: color for label, color in zip(unique_keys, colors)}\n",
    "color_key = label_series.map(hue_colors)\n",
    "color_key"
   ]
  },
  {
   "cell_type": "code",
   "execution_count": null,
   "metadata": {},
   "outputs": [],
   "source": [
    "def kde_linespace(sample_counts, bin_range, sample_size, cut=3):\n",
    "    \"\"\"\n",
    "    Apply the math behind the univariate_kde as implemented by Holoviews so that\n",
    "    it can be applied with `numpy.apply_along_axis`.\n",
    "    \"\"\"\n",
    "    kde = scipy.stats.gaussian_kde(dataset=counts, bw_method=None, weights=None)\n",
    "    bw = kde.scotts_factor() * sample_counts.std(ddof=1)\n",
    "    \n",
    "    kmin, kmax = bin_range[0] - bw * cut, bin_range[1] + bw * cut\n",
    "    xs = np.linspace(kmin, kmax, sample_size)\n",
    "    return xs\n",
    "\n",
    "def evaluate_kde(values, x_space):\n",
    "    kde_model = scipy.stats.gaussian_kde(dataset=values, bw_method=None, weights=None)\n",
    "    return kde_model.evaluate(x_space)\n",
    "\n",
    "\n",
    "bin_range = (counts.min().values, counts.max().values)\n",
    "\n",
    "\n",
    "kde = scipy.stats.gaussian_kde(dataset=counts, bw_method=None, weights=None)\n",
    "x_space = kde_linespace(counts.values, bin_range=bin_range, sample_size=50)\n",
    "kde_dist_y = np.apply_along_axis(func1d=evaluate_kde, axis=1, arr=counts.values, x_space=x_space)\n",
    "\n",
    "# np.apply_along_axis(func1d=sample_kde, axis=1, arr=counts.values, bin_range=bin_range, sample_size=100)\n",
    "# np.apply_along_axis(func1d=sample_kde, axis=1, arr=counts.values, bin_range=bin_range, sample_size=100)"
   ]
  },
  {
   "cell_type": "code",
   "execution_count": null,
   "metadata": {},
   "outputs": [],
   "source": [
    "# x_space = kde_linespace(counts.values, bin_range=bin_range, sample_size=50)\n",
    "# np.apply_along_axis(func1d=kde_linespace, axis=1, arr=counts.values, bin_range=bin_range, sample_size=100)"
   ]
  },
  {
   "cell_type": "code",
   "execution_count": null,
   "metadata": {},
   "outputs": [],
   "source": []
  },
  {
   "cell_type": "code",
   "execution_count": null,
   "metadata": {},
   "outputs": [],
   "source": [
    "df = pd.DataFrame(kde_dist_y, columns=x_space, index=counts.Sample.values)\n",
    "# df"
   ]
  },
  {
   "cell_type": "code",
   "execution_count": null,
   "metadata": {},
   "outputs": [],
   "source": [
    "df.shape"
   ]
  },
  {
   "cell_type": "code",
   "execution_count": null,
   "metadata": {},
   "outputs": [],
   "source": [
    "colors = hv.plotting.util.process_cmap(cmap='glasbey', ncolors=df.shape[0])\n",
    "# colors"
   ]
  },
  {
   "cell_type": "code",
   "execution_count": null,
   "metadata": {},
   "outputs": [],
   "source": [
    "color_key "
   ]
  },
  {
   "cell_type": "code",
   "execution_count": null,
   "metadata": {},
   "outputs": [],
   "source": [
    "lines = {sample_name: hv.Curve((df.columns.values, row_series.values))\n",
    "         for sample_name, row_series in df.iterrows()}\n",
    "linespread = dynspread(datashade(hv.NdOverlay(lines, kdims='k'), color_key=list(color_key.values),\n",
    "                                 aggregator=ds.count_cat('k')))\n",
    "linespread.opts(hv.opts.RGB(width=600, height=600, show_grid=True, bgcolor=\"lightgrey\", xlabel='Expression', ylabel='Distribution'))"
   ]
  },
  {
   "cell_type": "code",
   "execution_count": null,
   "metadata": {},
   "outputs": [],
   "source": []
  },
  {
   "cell_type": "code",
   "execution_count": null,
   "metadata": {},
   "outputs": [],
   "source": []
  },
  {
   "cell_type": "code",
   "execution_count": null,
   "metadata": {},
   "outputs": [],
   "source": [
    "\n",
    "\n",
    "kmin, kmax = bin_range[0] - bw * cut, bin_range[1] + bw * cut\n",
    "    if isfinite(clip[0]):\n",
    "        kmin = max(kmin, clip[0])\n",
    "    if isfinite(clip[1]):\n",
    "        kmax = min(kmax, clip[1])\n",
    "    return np.linspace(kmin, kmax, gridsize)\n",
    "\n",
    "\n",
    "if self.p.bandwidth:\n",
    "    kde.set_bandwidth(self.p.bandwidth)\n",
    "    \n",
    "bw = kde.scotts_factor() * data.std(ddof=1)\n",
    "\n",
    "if self.p.bin_range:\n",
    "    xs = np.linspace(bin_range[0], bin_range[1], self.p.n_samples)\n",
    "else:\n",
    "    xs = _kde_support(bin_range, bw, self.p.n_samples, self.p.cut, selected_dim.range)\n",
    "\n",
    "\n",
    "ys = kde.evaluate(xs)"
   ]
  },
  {
   "cell_type": "markdown",
   "metadata": {},
   "source": [
    "***View available count arrays***"
   ]
  },
  {
   "cell_type": "code",
   "execution_count": null,
   "metadata": {},
   "outputs": [],
   "source": [
    "agem.count_array_names"
   ]
  },
  {
   "cell_type": "markdown",
   "metadata": {},
   "source": [
    "Recall that all `gsforge` plotting operations allow use of the `Interface` data selection pipeline.\n",
    "\n",
    "In this case we can select another count array and view the normalized distributions."
   ]
  },
  {
   "cell_type": "code",
   "execution_count": null,
   "metadata": {},
   "outputs": [],
   "source": [
    "covariance_control_vs_heat = gsf.plots.gem.GroupedGeneCovariance(agem, group_variable='treatment', x_group_label='CONTROL', y_group_label='HEAT',\n",
    "                                           count_transform=lambda c: np.log(c + 0.25)).opts(size=0.75, width=300, height=300)\n",
    "covariance_control_vs_heat\n",
    "hv.save(covariance_control_vs_heat, 'figures/covariance_control_vs_heat.png', 'png')"
   ]
  },
  {
   "cell_type": "code",
   "execution_count": null,
   "metadata": {},
   "outputs": [],
   "source": []
  },
  {
   "cell_type": "code",
   "execution_count": null,
   "metadata": {},
   "outputs": [],
   "source": [
    "# gsf.plots.gem.EmpiricalCumulativeDistribution(\n",
    "#             agem,\n",
    "#             hue_key='treatment',\n",
    "# #             count_variable=count_var,\n",
    "# #             axis_transform=('log 2', lambda ds: np.log2(ds + 0.25)),\n",
    "#             datashade=True,\n",
    "#         )"
   ]
  },
  {
   "cell_type": "markdown",
   "metadata": {},
   "source": [
    "## Gene-wise Aggregate Distributions\n",
    "\n",
    "The call below shows the default arguments, with the exception of `datashade=True`."
   ]
  },
  {
   "cell_type": "markdown",
   "metadata": {},
   "source": [
    "### Available Aggregates\n",
    "\n",
    "+ frequency\n",
    "+ mean\n",
    "+ variance\n",
    "+ standard_dev\n",
    "+ fano\n",
    "+ mean_rank\n",
    "+ cv_squared"
   ]
  },
  {
   "cell_type": "code",
   "execution_count": null,
   "metadata": {},
   "outputs": [],
   "source": [
    "for count_var in agem.count_array_names:\n",
    "    \n",
    "    for y_axis in ['variance', 'fano', 'cv_squared']:\n",
    "\n",
    "        plot = gsf.plots.gem.GenewiseAggregateScatter(\n",
    "            agem,\n",
    "            count_variable=count_var,\n",
    "            x_axis_selector='mean',\n",
    "            y_axis_selector=y_axis,\n",
    "            axis_transform=('log 2', lambda ds: np.log2(ds.where(ds > 0))),\n",
    "            datashade=True,\n",
    "        )\n",
    "\n",
    "        hv.save(plot, f'figures/{count_var}_gw_agg_log2_mean_vs_log2_{y_axis}.png', dpi=300, toolbar=None)"
   ]
  },
  {
   "cell_type": "code",
   "execution_count": null,
   "metadata": {},
   "outputs": [],
   "source": [
    "# for count_var in agem.count_array_names:\n",
    "#     for hue in [None, 'treatment', 'genotype']:\n",
    "\n",
    "#         plot = gsf.plots.gem.EmpiricalCumulativeDistribution(\n",
    "#             agem,\n",
    "#             hue_key=hue,\n",
    "#             count_variable=count_var,\n",
    "#             axis_transform=('log 2', lambda ds: np.log2(ds.where(ds > 0))),\n",
    "#             datashade=True,\n",
    "#         )\n",
    "\n",
    "#         hv.save(plot, f'figures/ECDF_{count_var}_{hue}.png', dpi=300, toolbar=None)"
   ]
  },
  {
   "cell_type": "markdown",
   "metadata": {},
   "source": [
    "For some reason the adjoint png files produced have extra white space.\n",
    "We can remove that."
   ]
  },
  {
   "cell_type": "code",
   "execution_count": null,
   "metadata": {},
   "outputs": [],
   "source": [
    "from PIL import Image\n",
    "from PIL import ImageOps\n",
    "import numpy as np"
   ]
  },
  {
   "cell_type": "code",
   "execution_count": null,
   "metadata": {},
   "outputs": [],
   "source": [
    "padding = 5\n",
    "padding = np.asarray([-1*padding, -1*padding, padding, padding])\n",
    "\n",
    "\n",
    "for figure in Path('figures').glob('*_gw_*.png'):\n",
    "    print(figure)\n",
    "    \n",
    "    image = Image.open(figure)\n",
    "    image.load()\n",
    "    imageSize = image.size\n",
    "\n",
    "    # remove alpha channel\n",
    "    invert_im = image.convert(\"RGB\")\n",
    "\n",
    "    # invert image (so that white is 0)\n",
    "    invert_im = ImageOps.invert(invert_im)\n",
    "    imageBox = invert_im.getbbox()\n",
    "    imageBox = tuple(np.asarray(imageBox)+padding)\n",
    "\n",
    "    cropped = image.crop(imageBox)\n",
    "    cropped.save(figure)"
   ]
  },
  {
   "cell_type": "markdown",
   "metadata": {},
   "source": [
    "## Sample-wise Distributions\n",
    "\n",
    "These plotting functions can take a few minutes to complete."
   ]
  },
  {
   "cell_type": "code",
   "execution_count": null,
   "metadata": {},
   "outputs": [],
   "source": [
    "%%time\n",
    "for count_var in agem.count_array_names:\n",
    "    for hue in [None, 'treatment', 'genotype']:\n",
    "        plot = gsf.plots.gem.SamplewiseDistributions(agem, count_variable=count_var, hue_key=hue)\n",
    "        hv.save(plot, f'figures/{count_var}_samplewise_kde_hue_{hue}.png', dpi=300, toolbar=None)"
   ]
  },
  {
   "cell_type": "code",
   "execution_count": null,
   "metadata": {},
   "outputs": [],
   "source": []
  }
 ],
 "metadata": {
  "kernelspec": {
   "display_name": "Python 3",
   "language": "python",
   "name": "python3"
  },
  "language_info": {
   "codemirror_mode": {
    "name": "ipython",
    "version": 3
   },
   "file_extension": ".py",
   "mimetype": "text/x-python",
   "name": "python",
   "nbconvert_exporter": "python",
   "pygments_lexer": "ipython3",
   "version": "3.7.7"
  }
 },
 "nbformat": 4,
 "nbformat_minor": 4
}
