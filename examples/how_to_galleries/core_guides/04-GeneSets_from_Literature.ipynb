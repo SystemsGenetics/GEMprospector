{
 "cells": [
  {
   "cell_type": "markdown",
   "metadata": {},
   "source": [
    "# Creating `GeneSet`s from Literature Sources"
   ]
  },
  {
   "cell_type": "markdown",
   "metadata": {},
   "source": [
    "Recall that the minumum requirement for `GeneSet` creation is simply a list of genes."
   ]
  },
  {
   "cell_type": "markdown",
   "metadata": {},
   "source": [
    "***Setting up the notebook***"
   ]
  },
  {
   "cell_type": "code",
   "execution_count": null,
   "metadata": {},
   "outputs": [],
   "source": [
    "import numpy as np\n",
    "import pandas as pd\n",
    "import xarray as xr\n",
    "\n",
    "import holoviews as hv\n",
    "hv.extension(\"bokeh\")\n",
    "%matplotlib inline\n",
    "\n",
    "import GSForge as gsf"
   ]
  },
  {
   "cell_type": "markdown",
   "metadata": {},
   "source": [
    "***Declaring used paths***"
   ]
  },
  {
   "cell_type": "code",
   "execution_count": null,
   "metadata": {
    "jupyter": {
     "outputs_hidden": false
    },
    "pycharm": {
     "is_executing": false,
     "name": "#%%\n"
    }
   },
   "outputs": [],
   "source": [
    "# OS-independent path management.\n",
    "from os import fspath, environ\n",
    "from pathlib import Path"
   ]
  },
  {
   "cell_type": "code",
   "execution_count": null,
   "metadata": {},
   "outputs": [],
   "source": [
    "OSF_PATH = Path(environ.get(\"GSFORGE_DEMO_DATA\", default=\"~/GSForge_demo_data/osfstorage\")).expanduser()\n",
    "SI_FILE_1_PATH = OSF_PATH.joinpath('raw_annotation_data', 'TPC2016-00158-LSBR2_Supplemental_File_1.csv')\n",
    "SI_FILE_5_PATH = OSF_PATH.joinpath('raw_annotation_data', 'TPC2016-00158-LSBR2_Supplemental_File_5.txt')\n",
    "HYDRO_GEM_PATH = OSF_PATH.joinpath(\"AnnotatedGEMs\", \"oryza_sativa_hydro_raw.nc\")\n",
    "\n",
    "LITERATURE_COLL_PATH = OSF_PATH.joinpath('Collections', 'literature')"
   ]
  },
  {
   "cell_type": "markdown",
   "metadata": {},
   "source": [
    "***Load an AnnotatedGEM***"
   ]
  },
  {
   "cell_type": "code",
   "execution_count": null,
   "metadata": {},
   "outputs": [],
   "source": [
    "agem = gsf.AnnotatedGEM(HYDRO_GEM_PATH)\n",
    "agem"
   ]
  },
  {
   "cell_type": "markdown",
   "metadata": {},
   "source": [
    "## Load Data"
   ]
  },
  {
   "cell_type": "code",
   "execution_count": null,
   "metadata": {},
   "outputs": [],
   "source": [
    "with open(SI_FILE_1_PATH) as myfile:\n",
    "    head = ''.join([next(myfile) for x in range(6)])\n",
    "print(head)"
   ]
  },
  {
   "cell_type": "code",
   "execution_count": null,
   "metadata": {},
   "outputs": [],
   "source": [
    "si1_df = pd.read_csv(SI_FILE_1_PATH, skiprows=3, index_col=0)\n",
    "si1_df.head()"
   ]
  },
  {
   "cell_type": "code",
   "execution_count": null,
   "metadata": {},
   "outputs": [],
   "source": [
    "agem.data.Gene"
   ]
  },
  {
   "cell_type": "code",
   "execution_count": null,
   "metadata": {},
   "outputs": [],
   "source": [
    "with open(SI_FILE_5_PATH) as myfile:\n",
    "    head = ''.join([next(myfile) for x in range(6)])\n",
    "print(head)"
   ]
  },
  {
   "cell_type": "code",
   "execution_count": null,
   "metadata": {},
   "outputs": [],
   "source": [
    "si5_df = pd.read_csv(SI_FILE_5_PATH, skiprows=2, index_col=0, sep='\\t')\n",
    "si5_df.head()"
   ]
  },
  {
   "cell_type": "markdown",
   "metadata": {},
   "source": [
    "## Wrangle Data and Create Collections\n",
    "\n",
    "At the very least we need a name and a list of genes."
   ]
  },
  {
   "cell_type": "code",
   "execution_count": null,
   "metadata": {},
   "outputs": [],
   "source": [
    "genes = agem.data.Gene.to_series()\n",
    "genes[genes.str.contains('ChrSy.fgenesh.*.37')]  # ChrSy.fgenesh.gene.37"
   ]
  },
  {
   "cell_type": "code",
   "execution_count": null,
   "metadata": {},
   "outputs": [],
   "source": [
    "mappings = {'ChrSy.fgenesh.gene.37': 'ChrSy.fgenesh.mRNA.37'}\n",
    "\n",
    "\n",
    "def parse_gene_splices(gene, gene_index: pd.Series, replacement_mappings=mappings):\n",
    "    \"\"\"Convert to an existing splice site, if possible.\"\"\"\n",
    "    if gene in gene_index:\n",
    "        return gene\n",
    "    \n",
    "    for splice_site in range(1, 4):\n",
    "        gene_splice = f'{gene}.{splice_site}'\n",
    "        if gene_splice in gene_index:\n",
    "            return gene_splice\n",
    "        \n",
    "    if replacement_mappings is not None:\n",
    "        if replacement_mappings.get(gene):\n",
    "            return replacement_mappings.get(gene)\n",
    "        \n",
    "    return gene"
   ]
  },
  {
   "cell_type": "code",
   "execution_count": null,
   "metadata": {},
   "outputs": [],
   "source": [
    "lit_dge_coll = gsf.GeneSetCollection(gem=agem, name='Literature DGE')\n",
    "\n",
    "for col in si1_df.columns:\n",
    "    genes = si1_df[si1_df[col] > 0].index.values\n",
    "    genes = np.asarray([parse_gene_splices(gene, agem.data.Gene.to_series())\n",
    "                        for gene in genes])\n",
    "    \n",
    "    diff = np.setdiff1d(genes, agem.data.Gene.values)\n",
    "    if diff.shape[0] > 0:\n",
    "        print(diff)\n",
    "    \n",
    "    lit_dge_coll[col] = gsf.GeneSet.from_gene_array(genes, name=col)\n",
    "    \n",
    "lit_dge_coll\n",
    "# genes"
   ]
  },
  {
   "cell_type": "code",
   "execution_count": null,
   "metadata": {},
   "outputs": [],
   "source": [
    "lit_tf_coll = gsf.GeneSetCollection(gem=agem, name='Literature Transcription Factors')\n",
    "\n",
    "for name, values in si5_df.iterrows():\n",
    "    genes = np.asarray(values.values[0].split(','))\n",
    "    genes = np.asarray([parse_gene_splices(gene, agem.data.Gene.to_series())\n",
    "                        for gene in genes])\n",
    "    lit_tf_coll[name] = gsf.GeneSet.from_gene_array(genes, name=name)\n",
    "    \n",
    "    diff = np.setdiff1d(genes, agem.data.Gene.values)\n",
    "    if diff.shape[0] > 0:\n",
    "        print(diff)\n",
    "    \n",
    "lit_tf_coll"
   ]
  },
  {
   "cell_type": "code",
   "execution_count": null,
   "metadata": {},
   "outputs": [],
   "source": []
  },
  {
   "cell_type": "code",
   "execution_count": null,
   "metadata": {},
   "outputs": [],
   "source": []
  },
  {
   "cell_type": "code",
   "execution_count": null,
   "metadata": {},
   "outputs": [],
   "source": []
  },
  {
   "cell_type": "code",
   "execution_count": null,
   "metadata": {},
   "outputs": [],
   "source": [
    "lit_dge_coll.save(LITERATURE_COLL_PATH.joinpath('DGE'))\n",
    "lit_tf_coll.save(LITERATURE_COLL_PATH.joinpath('TF'))"
   ]
  },
  {
   "cell_type": "code",
   "execution_count": null,
   "metadata": {},
   "outputs": [],
   "source": []
  }
 ],
 "metadata": {
  "kernelspec": {
   "display_name": "Python 3",
   "language": "python",
   "name": "python3"
  },
  "language_info": {
   "codemirror_mode": {
    "name": "ipython",
    "version": 3
   },
   "file_extension": ".py",
   "mimetype": "text/x-python",
   "name": "python",
   "nbconvert_exporter": "python",
   "pygments_lexer": "ipython3",
   "version": "3.7.7"
  }
 },
 "nbformat": 4,
 "nbformat_minor": 4
}
