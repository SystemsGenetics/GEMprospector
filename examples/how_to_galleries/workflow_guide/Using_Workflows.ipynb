{
 "cells": [
  {
   "cell_type": "markdown",
   "metadata": {},
   "source": [
    "**Why use a workflow?**\n",
    "\n",
    "Some feature selection methods -- like boruta -- do not produce stable output.\n",
    "Meaning the results for the same parameters can differ to some degree.\n",
    "We could fix the `random_state` to force the same results -- but more of interest is how well a chosen set of parameters performs.\n",
    "We could also increase the number of iterations that boruta is allowed to run, but this becomes memory intensive.\n",
    "A more facile solution is to repeat the same parameters with as many iterations as we can get away with.\n",
    "\n",
    "We then want to explore parameters, with repeats, and do so in a memory intensive way.\n",
    "Enter `nextflow`, a program that will streamline this process."
   ]
  },
  {
   "cell_type": "markdown",
   "metadata": {},
   "source": [
    "## An Example with `boruta_multiclass`\n",
    "\n",
    "The workflows are named based on the organization of the y, or target variable.\n",
    "These workflows essentially manage calls to `boruta_prospector`.\n",
    "\n",
    "The following must be provided to the workflow:\n",
    "+ A saved `AnnotatedGEM` or otherwise compatible netcdf file.\n",
    "+ A ranking model must be selected.\n",
    "+ A target variable must be provided.\n",
    "+ Any required to boruta and the ranking model.\n",
    "\n",
    "### An Example Configuration File\n",
    "\n",
    "Consider this example `nextflow.config` file:\n",
    "\n",
    "```groovy\n",
    "// Singular data input and selection.\n",
    "params.gem_netcdf = \"~/GSForge_demo_data/rice.nc\"\n",
    "params.x_label = \"counts\"\n",
    "params.y_label = [\"Treatment\", \"Genotype\", \"Subspecies\"]\n",
    "\n",
    "// Ranking model options.\n",
    "params.ranking_model = \"RandomForestClassifier\"\n",
    "params.ranking_model_opts.max_depth = [3, 4, 5, 6, 7]\n",
    "params.ranking_model_opts.n_jobs = [-1]\n",
    "\n",
    "// BorutaPy options.\n",
    "params.boruta_opts.perc = [95, 100]\n",
    "params.boruta_opts.max_iter = [200]\n",
    "\n",
    "// How often to repeat each set of arguments.\n",
    "params.repeats = 2\n",
    "\n",
    "// Output directory.\n",
    "params.out_dir = \"~/GSForge_demo_data/boruta_workflow_gene_sets\"\n",
    "```\n",
    "\n",
    "### Running the Workflow\n",
    "\n",
    "Save this file as `nextflow.config` in some directory which you would like `nextflow` to operate in.\n",
    "Navigate to that directory, then the workflow can be run via:\n",
    "\n",
    "```bash\n",
    "NEXTFLOW_SCRIPT=\"<path to installation>/GSForge/workflows/boruta_multiclass/main.nf\"\n",
    "nextflow -C nextflow.config run $NEXTFLOW_SCRIPT -profile standard,docker\n",
    "```\n",
    "\n",
    "And the resulting lineament files should be stored in the `out_dir`.\n",
    "\n",
    "---"
   ]
  },
  {
   "cell_type": "code",
   "execution_count": null,
   "metadata": {
    "pycharm": {
     "is_executing": true
    }
   },
   "outputs": [],
   "source": [
    "import os\n",
    "import GSForge as gsf\n",
    "from pathlib import Path\n",
    "import holoviews as hv\n",
    "hv.extension(\"bokeh\")"
   ]
  },
  {
   "cell_type": "code",
   "execution_count": null,
   "metadata": {},
   "outputs": [],
   "source": [
    "import re\n",
    "import collections"
   ]
  },
  {
   "cell_type": "markdown",
   "metadata": {},
   "source": [
    "***Declare used paths***"
   ]
  },
  {
   "cell_type": "code",
   "execution_count": null,
   "metadata": {
    "jupyter": {
     "outputs_hidden": false
    },
    "pycharm": {
     "is_executing": false,
     "name": "#%%\n"
    }
   },
   "outputs": [],
   "source": [
    "# OS-independent path management.\n",
    "from os import fspath, environ\n",
    "from pathlib import Path"
   ]
  },
  {
   "cell_type": "code",
   "execution_count": null,
   "metadata": {},
   "outputs": [],
   "source": [
    "OSF_PATH = Path(environ.get(\"GSFORGE_DEMO_DATA\", default=\"~/GSForge_demo_data\")).expanduser()\n",
    "AGEM_PATH = OSF_PATH.joinpath(\"osfstorage\", \"rice.nc\")\n",
    "NFWF_PATH = OSF_PATH.joinpath(\"osfstorage\", \"boruta_workflow_gene_sets\")\n",
    "\n",
    "assert AGEM_PATH.exists()\n",
    "assert NFWF_PATH.exists()"
   ]
  },
  {
   "cell_type": "markdown",
   "metadata": {},
   "source": [
    "***Load an AnnotatedGEM***"
   ]
  },
  {
   "cell_type": "code",
   "execution_count": null,
   "metadata": {},
   "outputs": [],
   "source": [
    "agem = gsf.AnnotatedGEM(AGEM_PATH)\n",
    "agem"
   ]
  },
  {
   "cell_type": "markdown",
   "metadata": {},
   "source": [
    "### Examine the workflow output directory"
   ]
  },
  {
   "cell_type": "code",
   "execution_count": null,
   "metadata": {},
   "outputs": [],
   "source": [
    "result_paths = list(NFWF_PATH.expanduser().resolve().glob(\"*.nc\"))\n",
    "result_paths[:5]"
   ]
  },
  {
   "cell_type": "markdown",
   "metadata": {},
   "source": [
    "This workflow names the files:\n",
    "\n",
    "```\n",
    "<argument_hash>_<nextflow_uuid>.nc\n",
    "```"
   ]
  },
  {
   "cell_type": "code",
   "execution_count": null,
   "metadata": {},
   "outputs": [],
   "source": [
    "result_paths[0].name"
   ]
  },
  {
   "cell_type": "markdown",
   "metadata": {},
   "source": [
    "### Load and Examine a Single Result"
   ]
  },
  {
   "cell_type": "code",
   "execution_count": null,
   "metadata": {},
   "outputs": [],
   "source": [
    "demo_result = gsf.GeneSet(result_paths[0])\n",
    "demo_result"
   ]
  },
  {
   "cell_type": "code",
   "execution_count": null,
   "metadata": {},
   "outputs": [],
   "source": [
    "demo_result.data"
   ]
  },
  {
   "cell_type": "markdown",
   "metadata": {},
   "source": [
    "### Combine by Argument Hash"
   ]
  },
  {
   "cell_type": "code",
   "execution_count": null,
   "metadata": {},
   "outputs": [],
   "source": [
    "replicates = set()\n",
    "\n",
    "for path in result_paths:\n",
    "    argument, uuid = path.name.split(\"_\")\n",
    "    replicates = set([argument]).union(replicates)\n",
    "    \n",
    "# replicates"
   ]
  },
  {
   "cell_type": "code",
   "execution_count": null,
   "metadata": {},
   "outputs": [],
   "source": [
    "workflow_collection = gsf.GeneSetCollection.from_folder(agem, NFWF_PATH)\n",
    "workflow_collection"
   ]
  },
  {
   "cell_type": "code",
   "execution_count": null,
   "metadata": {},
   "outputs": [],
   "source": [
    "workflow_collection[\"3a6380_737034\"]"
   ]
  },
  {
   "cell_type": "code",
   "execution_count": null,
   "metadata": {},
   "outputs": [],
   "source": [
    "combined = collections.defaultdict(list)\n",
    "\n",
    "for replicate in replicates:\n",
    "    pattern = re.compile(replicate)\n",
    "    for result in workflow_collection.gene_sets.keys():\n",
    "        \n",
    "        if pattern.match(result):\n",
    "            combined[replicate].append(result)"
   ]
  },
  {
   "cell_type": "code",
   "execution_count": null,
   "metadata": {},
   "outputs": [],
   "source": [
    "label_colls = dict()\n",
    "\n",
    "for label in [\"Treatment\", \"Genotype\", \"Subspecies\"]:\n",
    "    combined = collections.defaultdict(list)\n",
    "\n",
    "    for replicate in replicates:\n",
    "        pattern = re.compile(replicate)\n",
    "        for result, geneset in workflow_collection.gene_sets.items():\n",
    "            if geneset.data.attrs[\"selected_annotation_variables\"] == label:\n",
    "                if pattern.match(result):\n",
    "                    combined[replicate].append(result)\n",
    "    label_colls[label] = combined"
   ]
  },
  {
   "cell_type": "code",
   "execution_count": null,
   "metadata": {},
   "outputs": [],
   "source": [
    "label_colls"
   ]
  },
  {
   "cell_type": "code",
   "execution_count": null,
   "metadata": {},
   "outputs": [],
   "source": [
    "collections = []\n",
    "\n",
    "for label in [\"Treatment\", \"Genotype\", \"Subspecies\"]:\n",
    "    coll = label_colls[label]\n",
    "    \n",
    "    combined_genesets = {}\n",
    "\n",
    "    for argument_hash, keys in coll.items():\n",
    "        gene_sets = [workflow_collection.gene_sets[key] for key in keys]\n",
    "        combined_genesets[argument_hash] = gsf.GeneSet.from_GeneSets(*gene_sets, name=argument_hash, attrs=gene_sets[0].data.attrs)\n",
    "\n",
    "    collections.append(gsf.GeneSetCollection(gem=agem, gene_sets=combined_genesets, name=label))\n",
    "    \n",
    "treatment_coll, genotype_coll, subspecies_coll = collections"
   ]
  },
  {
   "cell_type": "code",
   "execution_count": null,
   "metadata": {},
   "outputs": [],
   "source": [
    "treatment_coll"
   ]
  },
  {
   "cell_type": "code",
   "execution_count": null,
   "metadata": {},
   "outputs": [],
   "source": [
    "treatment_coll.gene_sets[\"3a6380\"].data.attrs"
   ]
  },
  {
   "cell_type": "code",
   "execution_count": null,
   "metadata": {},
   "outputs": [],
   "source": [
    "genotype_coll"
   ]
  },
  {
   "cell_type": "code",
   "execution_count": null,
   "metadata": {},
   "outputs": [],
   "source": [
    "subspecies_coll"
   ]
  }
 ],
 "metadata": {
  "kernelspec": {
   "display_name": "py38",
   "language": "python",
   "name": "py38"
  },
  "language_info": {
   "codemirror_mode": {
    "name": "ipython",
    "version": 3
   },
   "file_extension": ".py",
   "mimetype": "text/x-python",
   "name": "python",
   "nbconvert_exporter": "python",
   "pygments_lexer": "ipython3",
   "version": "3.8.1"
  },
  "nbsphinx": {
   "execute": "never"
  },
  "pycharm": {
   "stem_cell": {
    "cell_type": "raw",
    "metadata": {
     "collapsed": false
    },
    "source": []
   }
  }
 },
 "nbformat": 4,
 "nbformat_minor": 4
}
