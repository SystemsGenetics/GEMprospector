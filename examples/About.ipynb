{
 "cells": [
  {
   "cell_type": "markdown",
   "metadata": {
    "pycharm": {
     "name": "#%% md\n"
    }
   },
   "source": [
    "## About GSForge\n",
    "\n",
    "*GSForge* helps manage and compare gene (feature) selection methods for RNA-Seq data.\n",
    "It provides a framework of tools that assist in the collection, management and comparisson of feature selection results.\n",
    "\n",
    "---"
   ]
  },
  {
   "cell_type": "markdown",
   "metadata": {},
   "source": [
    "### Why use GeneSelector?\n",
    "\n",
    "You should consider using *GeneSelector* when:\n",
    "\n",
    "+ You have more than one feature selection method to use.\n",
    "+ You have more than one normalization to explore.\n",
    "+ You have more than one set of annotation or label files.\n",
    "+ You have a feature selection method that is non-deterministic.\n",
    "\n",
    "And you should seriously consider using *GeneSelector* if you find yourself in more than one of the above categories.\n",
    "\n",
    "![GSForge and GEMmaker in an Experimental Design Cycle](./assets/rna_seq_generation_highlights.svg)\n",
    "\n",
    "---"
   ]
  },
  {
   "cell_type": "markdown",
   "metadata": {
    "pycharm": {
     "name": "#%% md\n"
    }
   },
   "source": [
    "### About the Ficklin Lab\n",
    "\n",
    "The Ficklin Lab in the Dept. of Horticulture at Washington State University is a computational dry lab dedicated to the creation of software tools, computational approaches and systems-level models that address basic and applied hypothesis at the molecular-level of agricultural systems.\n",
    "\n",
    "[Ficklin Laboratory](http://ficklinlab.cahnrs.wsu.edu/)"
   ]
  }
 ],
 "metadata": {
  "kernelspec": {
   "display_name": "Python (base)",
   "language": "python",
   "name": "python3"
  },
  "language_info": {
   "codemirror_mode": {
    "name": "ipython",
    "version": 3
   },
   "file_extension": ".py",
   "mimetype": "text/x-python",
   "name": "python",
   "nbconvert_exporter": "python",
   "pygments_lexer": "ipython3",
   "version": "3.7.3"
  },
  "pycharm": {
   "stem_cell": {
    "cell_type": "raw",
    "source": [],
    "metadata": {
     "collapsed": false
    }
   }
  }
 },
 "nbformat": 4,
 "nbformat_minor": 4
}