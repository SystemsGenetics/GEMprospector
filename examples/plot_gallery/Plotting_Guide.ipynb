{
 "cells": [
  {
   "cell_type": "markdown",
   "metadata": {},
   "source": [
    "This notebook describes the two broad types of plotting functions included with `GSForge`, as well as how to apply customizations to those plots.\n",
    "\n",
    "Plotting functions are delineated by the (primary) data source:\n",
    "\n",
    "+ **gem** the count array from an `AnnotatedGEM` or the same via a `GeneSetCollection`.\n",
    "+ **result** some data arrays from a result stored within a `GeneSet`.\n",
    "+ **collections** based on membership of `GeneSet` objects within a `GeneSetCollection`.\n",
    "\n",
    "This is controlled by the `apply_default_opts` boolean parameter in all plotting functions.\n",
    "Meaning if you require a 'clean' plot to customize yourself, you can do so.\n",
    "\n",
    "`GSForge` uses the `Holoviews` package for creating plots.\n",
    "`Holoviews` is a common API to create plots using two popular backends, `matplotlib` and `bokeh`.\n",
    "\n",
    "---"
   ]
  },
  {
   "cell_type": "markdown",
   "metadata": {},
   "source": [
    "**How to prepare a notebook or script for plotting**\n",
    "\n",
    "At the very least you will need to import the `holoviews` package and load an extension."
   ]
  },
  {
   "cell_type": "code",
   "execution_count": null,
   "metadata": {},
   "outputs": [],
   "source": [
    "import GSForge as gsf\n",
    "\n",
    "import holoviews as hv\n",
    "hv.extension('bokeh', 'matplotlib')"
   ]
  },
  {
   "cell_type": "markdown",
   "metadata": {},
   "source": [
    "***Declare used paths***"
   ]
  },
  {
   "cell_type": "code",
   "execution_count": null,
   "metadata": {
    "collapsed": false,
    "jupyter": {
     "outputs_hidden": false
    },
    "pycharm": {
     "is_executing": false,
     "name": "#%%\n"
    }
   },
   "outputs": [],
   "source": [
    "# OS-independent path management.\n",
    "from os import fspath, environ\n",
    "from pathlib import Path"
   ]
  },
  {
   "cell_type": "code",
   "execution_count": null,
   "metadata": {},
   "outputs": [],
   "source": [
    "OSF_PATH = Path(environ.get(\"GSFORGE_DEMO_DATA\", default=\"~/GSForge_demo_data\")).expanduser()\n",
    "AGEM_PATH = OSF_PATH.joinpath(\"osfstorage\", \"rice.nc\")\n",
    "assert AGEM_PATH.exists()"
   ]
  },
  {
   "cell_type": "markdown",
   "metadata": {},
   "source": [
    "***Load an `AnnotatedGEM`***"
   ]
  },
  {
   "cell_type": "code",
   "execution_count": null,
   "metadata": {},
   "outputs": [],
   "source": [
    "agem = gsf.AnnotatedGEM(AGEM_PATH)\n",
    "agem"
   ]
  },
  {
   "cell_type": "markdown",
   "metadata": {},
   "source": [
    "**How to return a plot with no styling applied**\n",
    "\n",
    "If you want to apply your own styling, plots can be returned with their default settings only. It is then up to you to modify the `holoviews` object, and to apply desired options from your selected backend.\n",
    "\n",
    "All `GSForge` plotting functions have an `apply_default_opts`, which attempts to apply options based on the currently loaded backend extension.\n",
    "\n",
    "Not all functions will have a `datashade` argument."
   ]
  },
  {
   "cell_type": "code",
   "execution_count": null,
   "metadata": {},
   "outputs": [],
   "source": [
    "hv.output(backend=\"matplotlib\")\n",
    "gsf.plots.gem.GenewiseAggregateScatter(agem, datashade=False, apply_default_opts=False)"
   ]
  },
  {
   "cell_type": "markdown",
   "metadata": {},
   "source": [
    "**How to select a backend.**"
   ]
  },
  {
   "cell_type": "code",
   "execution_count": null,
   "metadata": {},
   "outputs": [],
   "source": [
    "hv.output(backend=\"bokeh\")\n",
    "gsf.plots.gem.GenewiseAggregateScatter(agem, datashade=True)"
   ]
  },
  {
   "cell_type": "markdown",
   "metadata": {},
   "source": [
    "**Where to go for more help?**\n",
    "\n",
    "See the excellent [Holoviews documentation](http://holoviews.org/) for more on creating and styling plots."
   ]
  }
 ],
 "metadata": {
  "kernelspec": {
   "display_name": "Python 3",
   "language": "python",
   "name": "python3"
  },
  "language_info": {
   "codemirror_mode": {
    "name": "ipython",
    "version": 3
   },
   "file_extension": ".py",
   "mimetype": "text/x-python",
   "name": "python",
   "nbconvert_exporter": "python",
   "pygments_lexer": "ipython3",
   "version": "3.7.7"
  },
  "pycharm": {
   "stem_cell": {
    "cell_type": "raw",
    "metadata": {
     "collapsed": false
    },
    "source": []
   }
  }
 },
 "nbformat": 4,
 "nbformat_minor": 4
}
