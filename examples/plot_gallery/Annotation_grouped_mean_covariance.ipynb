{
 "cells": [
  {
   "cell_type": "markdown",
   "metadata": {},
   "source": [
    "***Plotting Guide Setup***"
   ]
  },
  {
   "cell_type": "code",
   "execution_count": null,
   "metadata": {},
   "outputs": [],
   "source": [
    "import os\n",
    "import numpy as np\n",
    "\n",
    "import holoviews as hv\n",
    "hv.extension('bokeh')\n",
    "# hv.extension('bokeh', 'matplotlib')\n",
    "\n",
    "import GSForge as gsf"
   ]
  },
  {
   "cell_type": "markdown",
   "metadata": {},
   "source": [
    "***Declare used paths***"
   ]
  },
  {
   "cell_type": "code",
   "execution_count": null,
   "metadata": {
    "jupyter": {
     "outputs_hidden": false
    },
    "pycharm": {
     "is_executing": false,
     "name": "#%%\n"
    }
   },
   "outputs": [],
   "source": [
    "# OS-independent path management.\n",
    "from os import fspath, environ\n",
    "from pathlib import Path"
   ]
  },
  {
   "cell_type": "code",
   "execution_count": null,
   "metadata": {},
   "outputs": [],
   "source": [
    "OSF_PATH = Path(environ.get(\"GSFORGE_DEMO_DATA\", default=\"~/GSForge_demo_data\")).expanduser()\n",
    "AGEM_PATH = OSF_PATH.joinpath(\"osfstorage\", \"rice.nc\")\n",
    "DEG_COLL_PATH = OSF_PATH.joinpath(\"osfstorage\", \"DEG_gene_sets\")\n",
    "assert AGEM_PATH.exists()"
   ]
  },
  {
   "cell_type": "markdown",
   "metadata": {},
   "source": [
    "***Load an `AnnotatedGEM`***"
   ]
  },
  {
   "cell_type": "code",
   "execution_count": null,
   "metadata": {},
   "outputs": [],
   "source": [
    "agem = gsf.AnnotatedGEM(AGEM_PATH)\n",
    "agem"
   ]
  },
  {
   "cell_type": "code",
   "execution_count": null,
   "metadata": {},
   "outputs": [],
   "source": [
    "agem.data"
   ]
  },
  {
   "cell_type": "markdown",
   "metadata": {},
   "source": [
    "### View Annotation Group Covariance"
   ]
  },
  {
   "cell_type": "code",
   "execution_count": null,
   "metadata": {},
   "outputs": [],
   "source": [
    "gsf.plots.gem.GroupedGeneCovariance(\n",
    "    agem, group_variable=\"Treatment\", \n",
    "    x_group_label=\"CONTROL\", y_group_label=\"HEAT\",\n",
    "    count_transform=lambda counts: np.log10(counts.where(counts > 0)))"
   ]
  }
 ],
 "metadata": {
  "kernelspec": {
   "display_name": "py38",
   "language": "python",
   "name": "py38"
  },
  "language_info": {
   "codemirror_mode": {
    "name": "ipython",
    "version": 3
   },
   "file_extension": ".py",
   "mimetype": "text/x-python",
   "name": "python",
   "nbconvert_exporter": "python",
   "pygments_lexer": "ipython3",
   "version": "3.8.1"
  }
 },
 "nbformat": 4,
 "nbformat_minor": 4
}
