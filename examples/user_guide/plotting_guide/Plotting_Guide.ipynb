{
 "cells": [
  {
   "cell_type": "markdown",
   "metadata": {},
   "source": [
    "This notebook describes the two broad types of plotting functions included with `GSForge`, as well as how to apply customizations to those plots.\n",
    "\n",
    "Plotting functions are delineated by the (primary) data source:\n",
    "\n",
    "+ **gem** the count array from an `AnnotatedGEM` or the same via a `GeneSetCollection`.\n",
    "+ **result** some data arrays from a result stored within a `GeneSet`.\n",
    "+ **collections** based on membership of `GeneSet` objects within a `GeneSetCollection`.\n",
    "\n",
    "This is controlled by the `apply_default_opts` boolean parameter in all plotting functions.\n",
    "Meaning if you require a 'clean' plot to customize yourself, you can do so.\n",
    "\n",
    "`GSForge` uses the `Holoviews` package for creating plots.\n",
    "`Holoviews` is a common API to create plots using two popular backends, `matplotlib` and `bokeh`.\n",
    "\n",
    "---"
   ]
  },
  {
   "cell_type": "markdown",
   "metadata": {},
   "source": [
    "**How to return a plot with no styling applied.**\n",
    "\n",
    "**How to clear styling from an existing plot.**\n",
    "\n",
    "**How to select a backend.**\n",
    "\n",
    "**Where to go for more help?**"
   ]
  },
  {
   "cell_type": "markdown",
   "metadata": {},
   "source": [
    "For each plotting guide:\n",
    "\n",
    "What does this guide assume before starting?\n",
    "What does this guide produce?"
   ]
  },
  {
   "cell_type": "code",
   "execution_count": null,
   "metadata": {},
   "outputs": [],
   "source": [
    "# import param\n",
    "# import holoviews as hv\n",
    "# # import pandas as pd\n",
    "# import numpy as np\n",
    "# hv.extension('bokeh')"
   ]
  },
  {
   "cell_type": "code",
   "execution_count": null,
   "metadata": {},
   "outputs": [],
   "source": [
    "# from textwrap import dedent"
   ]
  },
  {
   "cell_type": "code",
   "execution_count": 3,
   "metadata": {},
   "outputs": [],
   "source": [
    "import GSForge as gsf"
   ]
  },
  {
   "cell_type": "markdown",
   "metadata": {},
   "source": [
    "***Declare used paths***"
   ]
  },
  {
   "cell_type": "code",
   "execution_count": 4,
   "metadata": {
    "collapsed": false,
    "jupyter": {
     "outputs_hidden": false
    },
    "pycharm": {
     "is_executing": false,
     "name": "#%%\n"
    }
   },
   "outputs": [],
   "source": [
    "# OS-independent path management.\n",
    "from os import fspath, environ\n",
    "from pathlib import Path"
   ]
  },
  {
   "cell_type": "code",
   "execution_count": 5,
   "metadata": {},
   "outputs": [],
   "source": [
    "OSF_PATH = Path(environ.get(\"GSFORGE_DEMO_DATA\", default=\"~/GSForge_demo_data\")).expanduser()\n",
    "AGEM_PATH = OSF_PATH.joinpath(\"osfstorage\", \"rice.nc\")\n",
    "DEG_COLL_PATH = OSF_PATH.joinpath(\"osfstorage\", \"DEG_gene_sets\")\n",
    "BOR_COLL_PATH = OSF_PATH.joinpath(\"osfstorage\", \"boruta_gene_sets\")\n",
    "assert AGEM_PATH.exists()"
   ]
  },
  {
   "cell_type": "markdown",
   "metadata": {},
   "source": [
    "***Load an `AnnotatedGEM`***"
   ]
  },
  {
   "cell_type": "code",
   "execution_count": 6,
   "metadata": {},
   "outputs": [
    {
     "data": {
      "text/plain": [
       "<GSForge.AnnotatedGEM>\n",
       "Name: Rice\n",
       "Selected GEM Variable: 'counts'\n",
       "    Gene   55986\n",
       "    Sample 475"
      ]
     },
     "execution_count": 6,
     "metadata": {},
     "output_type": "execute_result"
    }
   ],
   "source": [
    "agem = gsf.AnnotatedGEM(AGEM_PATH)\n",
    "agem"
   ]
  },
  {
   "cell_type": "markdown",
   "metadata": {},
   "source": [
    "***Load Differential Gene Expression Analysis Results into a `GeneSetCollection`***"
   ]
  },
  {
   "cell_type": "code",
   "execution_count": null,
   "metadata": {},
   "outputs": [],
   "source": [
    "# deg_gsc = gsf.GeneSetCollection.from_folder(gem=agem, target_dir=DEG_COLL_PATH, name=\"DEG Results\")\n",
    "# deg_gsc"
   ]
  },
  {
   "cell_type": "code",
   "execution_count": null,
   "metadata": {},
   "outputs": [],
   "source": [
    "gsc = gsf.GeneSetCollection.from_folder(gem=agem, target_dir=BOR_COLL_PATH, \n",
    "                                        name=\"Boruta Results\")\n",
    "gsc"
   ]
  },
  {
   "cell_type": "markdown",
   "metadata": {},
   "source": [
    "***Select a particular result set of interest***"
   ]
  },
  {
   "cell_type": "code",
   "execution_count": 9,
   "metadata": {},
   "outputs": [],
   "source": [
    "# deg_gs = deg_gsc.gene_sets[\"deseq2_treatment\"]\n",
    "# deg_gs"
   ]
  },
  {
   "cell_type": "code",
   "execution_count": 10,
   "metadata": {},
   "outputs": [],
   "source": [
    "# deg_gs.data"
   ]
  },
  {
   "cell_type": "code",
   "execution_count": 8,
   "metadata": {},
   "outputs": [],
   "source": [
    "import xarray as xr\n",
    "import functools\n",
    "import param"
   ]
  },
  {
   "cell_type": "code",
   "execution_count": 9,
   "metadata": {},
   "outputs": [
    {
     "data": {
      "text/plain": [
       "False"
      ]
     },
     "execution_count": 9,
     "metadata": {},
     "output_type": "execute_result"
    }
   ],
   "source": [
    "tuple() == True"
   ]
  },
  {
   "cell_type": "code",
   "execution_count": 18,
   "metadata": {},
   "outputs": [
    {
     "name": "stdout",
     "output_type": "stream",
     "text": [
      "enter __init__\n",
      "enter parse str\n"
     ]
    },
    {
     "data": {
      "text/plain": [
       "Alpha(ace='test', name='Alpha00094')"
      ]
     },
     "execution_count": 18,
     "metadata": {},
     "output_type": "execute_result"
    }
   ],
   "source": [
    "class Alpha(param.Parameterized):\n",
    "    \n",
    "    ace = param.Parameter(default=1)\n",
    "    \n",
    "    def __init__(self, *args, **params):\n",
    "        print(\"enter __init__\")\n",
    "        if args:\n",
    "            params = {**self.__args_to_params(*args, **params)}\n",
    "        super().__init__(**params)\n",
    "    \n",
    "    @functools.singledispatchmethod\n",
    "#     @classmethod\n",
    "    def __args_to_params(cls, *args, **params):\n",
    "        raise NotImplementedError\n",
    "    \n",
    "    @__args_to_params.register(str)\n",
    "    @staticmethod\n",
    "    def __arg_parse_str(*args, **params):\n",
    "        print(\"enter parse str\")\n",
    "        return {\"ace\": args[0]}\n",
    "    \n",
    "    \n",
    "# class Beta(Alpha, param.ParameterizedFunction):\n",
    "    \n",
    "#     beta = param.Parameter(default=\"two\")\n",
    "    \n",
    "#     def __new__(class_, *args, **params):\n",
    "#         instance = Beta.__new__(class_)\n",
    "# #         instance.__init__(**params)\n",
    "#         Beta.__init__(instance, **params)\n",
    "#         return instance.__call__(*args, **params)\n",
    "        \n",
    "#     def __call__(self, *args):\n",
    "#         print(self)\n",
    "#         print('test')\n",
    "    \n",
    "Alpha(\"test\")\n",
    "# Beta(\"test\")"
   ]
  },
  {
   "cell_type": "code",
   "execution_count": 38,
   "metadata": {},
   "outputs": [
    {
     "name": "stdout",
     "output_type": "stream",
     "text": [
      "beta init\n",
      "enter __init__\n",
      "self.ace='test' two\n"
     ]
    }
   ],
   "source": [
    "class Alpha(param.Parameterized):\n",
    "    \n",
    "    ace = param.Parameter(default=1)\n",
    "    \n",
    "    def __new__(cls, *args, **params):\n",
    "        print(\"enter __new__\")\n",
    "        if args:\n",
    "            params = cls.__args_to_params(*args, **params)\n",
    "        instance = super().__new__(cls)\n",
    "        instance.__init__(**params)\n",
    "        return instance\n",
    "        \n",
    "    def instantiate(cls, *args, **kwargs):\n",
    "        obj = cls.__new__(cls, *args, **kwargs)\n",
    "        if isinstance(obj,cls):\n",
    "            cls.__init__(obj, *args, **kwargs)\n",
    "        return obj\n",
    "    \n",
    "    def __init__(self, *args, **params):\n",
    "        print(\"enter __init__\")\n",
    "        super().__init__(**params)\n",
    "    \n",
    "    @functools.singledispatchmethod\n",
    "    @classmethod\n",
    "    def __args_to_params(cls, *args, **params):\n",
    "        raise NotImplementedError\n",
    "    \n",
    "    @__args_to_params.register(str)\n",
    "    @staticmethod\n",
    "    def __arg_parse_str(*args, **params):\n",
    "        print(\"enter parse str\")\n",
    "        return {\"ace\": args[0], **params}\n",
    "    \n",
    "    @classmethod\n",
    "    def from_string(cls, *args, **params):\n",
    "        return cls(ace=args[0], **params)\n",
    "    \n",
    "\n",
    "class Echo(param.ParameterizedFunction):\n",
    "    \n",
    "    @staticmethod\n",
    "    def bokeh_opts():\n",
    "        return\n",
    "    \n",
    "    @staticmethod\n",
    "    def matplotlib_opts()\n",
    "    \n",
    "    def __call__(self, *args, **params):\n",
    "        pass\n",
    "        \n",
    "    \n",
    "    \n",
    "class Beta(Alpha, param.ParameterizedFunction):\n",
    "    \n",
    "    beta = param.Parameter(default=\"two\")\n",
    "    \n",
    "    def __new__(cls, *args, **params):\n",
    "        print(\"beta init\")\n",
    "        inst = cls.instance()\n",
    "        if args:\n",
    "            params = Alpha.__args_to_params(*args, **params)\n",
    "        inst.__init__(**params)\n",
    "        return inst.__call__(*args, **params)\n",
    "    \n",
    "    def __call__(self, *args, **params):\n",
    "        print(f\"{self.ace=}\", f\"{self.beta}\")\n",
    "    \n",
    "# Alpha(\"test\")\n",
    "Beta(ace=\"test\")"
   ]
  },
  {
   "cell_type": "code",
   "execution_count": null,
   "metadata": {},
   "outputs": [],
   "source": []
  },
  {
   "cell_type": "code",
   "execution_count": null,
   "metadata": {},
   "outputs": [],
   "source": []
  },
  {
   "cell_type": "code",
   "execution_count": null,
   "metadata": {},
   "outputs": [],
   "source": []
  },
  {
   "cell_type": "code",
   "execution_count": null,
   "metadata": {},
   "outputs": [],
   "source": []
  }
 ],
 "metadata": {
  "kernelspec": {
   "display_name": "py38",
   "language": "python",
   "name": "py38"
  },
  "language_info": {
   "codemirror_mode": {
    "name": "ipython",
    "version": 3
   },
   "file_extension": ".py",
   "mimetype": "text/x-python",
   "name": "python",
   "nbconvert_exporter": "python",
   "pygments_lexer": "ipython3",
   "version": "3.8.1"
  }
 },
 "nbformat": 4,
 "nbformat_minor": 4
}
