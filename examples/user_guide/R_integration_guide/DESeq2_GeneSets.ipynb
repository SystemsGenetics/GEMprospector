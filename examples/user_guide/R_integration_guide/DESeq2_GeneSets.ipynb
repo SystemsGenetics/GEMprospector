{
 "cells": [
  {
   "cell_type": "markdown",
   "metadata": {},
   "source": [
    "*This notebook covers how to run and load a basic `DESeq2` DEG result as a `GSForge.GeneSet`.*\n",
    "\n",
    "---"
   ]
  },
  {
   "cell_type": "markdown",
   "metadata": {},
   "source": [
    "#### Notebook Preparation"
   ]
  },
  {
   "cell_type": "markdown",
   "metadata": {},
   "source": [
    "***Declare used paths***"
   ]
  },
  {
   "cell_type": "code",
   "execution_count": 1,
   "metadata": {
    "collapsed": false,
    "jupyter": {
     "outputs_hidden": false
    },
    "pycharm": {
     "is_executing": false,
     "name": "#%%\n"
    }
   },
   "outputs": [],
   "source": [
    "# OS-independent path management.\n",
    "from os import fspath, environ\n",
    "from pathlib import Path"
   ]
  },
  {
   "cell_type": "code",
   "execution_count": 2,
   "metadata": {},
   "outputs": [],
   "source": [
    "OSF_PATH = Path(environ.get(\"GSFORGE_DEMO_DATA\", default=\"~/GSForge_demo_data\")).expanduser()\n",
    "AGEM_PATH = OSF_PATH.joinpath(\"osfstorage\", \"rice.nc\")\n",
    "DEG_COLL_PATH = OSF_PATH.joinpath(\"osfstorage\", \"DEG_gene_sets\")\n",
    "assert AGEM_PATH.exists()"
   ]
  },
  {
   "cell_type": "markdown",
   "metadata": {},
   "source": [
    "***Import Python packages***"
   ]
  },
  {
   "cell_type": "code",
   "execution_count": 3,
   "metadata": {},
   "outputs": [],
   "source": [
    "import GSForge as gsf"
   ]
  },
  {
   "cell_type": "markdown",
   "metadata": {},
   "source": [
    "***R integration setup***"
   ]
  },
  {
   "cell_type": "code",
   "execution_count": 5,
   "metadata": {},
   "outputs": [
    {
     "name": "stderr",
     "output_type": "stream",
     "text": [
      "/home/tyler/anaconda3/envs/py38/lib/python3.8/site-packages/rpy2/robjects/pandas2ri.py:14: FutureWarning: pandas.core.index is deprecated and will be removed in a future version.  The public classes are available in the top-level namespace.\n",
      "  from pandas.core.index import Index as PandasIndex\n"
     ]
    }
   ],
   "source": [
    "import rpy2.rinterface_lib.callbacks\n",
    "import logging\n",
    "from rpy2.robjects import pandas2ri\n",
    "%load_ext rpy2.ipython\n",
    "pandas2ri.activate()\n",
    "rpy2.rinterface_lib.callbacks.logger.setLevel(logging.ERROR)"
   ]
  },
  {
   "cell_type": "markdown",
   "metadata": {},
   "source": [
    "***Import R Packages***"
   ]
  },
  {
   "cell_type": "code",
   "execution_count": 8,
   "metadata": {},
   "outputs": [],
   "source": [
    "%%R\n",
    "library(\"DESeq2\")"
   ]
  },
  {
   "cell_type": "markdown",
   "metadata": {},
   "source": [
    "***Loading an AnnotatedGEM***"
   ]
  },
  {
   "cell_type": "code",
   "execution_count": 9,
   "metadata": {},
   "outputs": [
    {
     "data": {
      "text/plain": [
       "<GSForge.AnnotatedGEM>\n",
       "Name: Rice\n",
       "Selected GEM Variable: 'counts'\n",
       "    Gene   55986\n",
       "    Sample 475"
      ]
     },
     "execution_count": 9,
     "metadata": {},
     "output_type": "execute_result"
    }
   ],
   "source": [
    "agem = gsf.AnnotatedGEM(AGEM_PATH)\n",
    "agem"
   ]
  },
  {
   "cell_type": "markdown",
   "metadata": {},
   "source": [
    "### Prepare input data for DESeq2\n",
    "\n",
    "This requires us to drop genes that have counts of zero."
   ]
  },
  {
   "cell_type": "code",
   "execution_count": 10,
   "metadata": {},
   "outputs": [],
   "source": [
    "dropped_counts, labels = gsf.get_data(agem, \n",
    "                                      count_mask=\"dropped\",\n",
    "                                      annotation_variables=[\"Treatment\"])"
   ]
  },
  {
   "cell_type": "markdown",
   "metadata": {},
   "source": [
    "These counts were made with Kallisto, so we must round them for use in `DEseq2`."
   ]
  },
  {
   "cell_type": "code",
   "execution_count": 11,
   "metadata": {},
   "outputs": [
    {
     "data": {
      "text/html": [
       "<pre>&lt;xarray.DataArray &#x27;counts&#x27; (Sample: 475, Gene: 10593)&gt;\n",
       "array([[200., 102., 118., ...,  24., 342., 637.],\n",
       "       [ 41.,  55.,  29., ...,  10., 152., 186.],\n",
       "       [197., 104.,  78., ...,  21., 336., 545.],\n",
       "       ...,\n",
       "       [158., 113., 225., ...,   9., 424., 411.],\n",
       "       [151.,  98., 151., ...,  15., 274., 311.],\n",
       "       [128., 110., 105., ...,  19., 335., 666.]])\n",
       "Coordinates:\n",
       "  * Gene     (Gene) object &#x27;LOC_Os01g55490&#x27; ... &#x27;LOC_Os03g20020&#x27;\n",
       "  * Sample   (Sample) object &#x27;SRX1423934&#x27; &#x27;SRX1423935&#x27; ... &#x27;SRX1424408&#x27;</pre>"
      ],
      "text/plain": [
       "<xarray.DataArray 'counts' (Sample: 475, Gene: 10593)>\n",
       "array([[200., 102., 118., ...,  24., 342., 637.],\n",
       "       [ 41.,  55.,  29., ...,  10., 152., 186.],\n",
       "       [197., 104.,  78., ...,  21., 336., 545.],\n",
       "       ...,\n",
       "       [158., 113., 225., ...,   9., 424., 411.],\n",
       "       [151.,  98., 151., ...,  15., 274., 311.],\n",
       "       [128., 110., 105., ...,  19., 335., 666.]])\n",
       "Coordinates:\n",
       "  * Gene     (Gene) object 'LOC_Os01g55490' ... 'LOC_Os03g20020'\n",
       "  * Sample   (Sample) object 'SRX1423934' 'SRX1423935' ... 'SRX1424408'"
      ]
     },
     "execution_count": 11,
     "metadata": {},
     "output_type": "execute_result"
    }
   ],
   "source": [
    "dropped_counts"
   ]
  },
  {
   "cell_type": "markdown",
   "metadata": {},
   "source": [
    "***Round counts to intergers***"
   ]
  },
  {
   "cell_type": "code",
   "execution_count": 12,
   "metadata": {},
   "outputs": [],
   "source": [
    "ri_dropped_counts = gsf.utils.R_interface.Py_counts_to_R(dropped_counts)\n",
    "ri_dropped_counts = ri_dropped_counts.round()\n",
    "\n",
    "ri_labels = labels.to_dataframe()"
   ]
  },
  {
   "cell_type": "code",
   "execution_count": 13,
   "metadata": {},
   "outputs": [
    {
     "data": {
      "text/html": [
       "<div>\n",
       "<style scoped>\n",
       "    .dataframe tbody tr th:only-of-type {\n",
       "        vertical-align: middle;\n",
       "    }\n",
       "\n",
       "    .dataframe tbody tr th {\n",
       "        vertical-align: top;\n",
       "    }\n",
       "\n",
       "    .dataframe thead th {\n",
       "        text-align: right;\n",
       "    }\n",
       "</style>\n",
       "<table border=\"1\" class=\"dataframe\">\n",
       "  <thead>\n",
       "    <tr style=\"text-align: right;\">\n",
       "      <th>Sample</th>\n",
       "      <th>SRX1423934</th>\n",
       "      <th>SRX1423935</th>\n",
       "      <th>SRX1423936</th>\n",
       "      <th>SRX1423937</th>\n",
       "      <th>SRX1423938</th>\n",
       "      <th>SRX1423939</th>\n",
       "      <th>SRX1423940</th>\n",
       "      <th>SRX1423941</th>\n",
       "      <th>SRX1423942</th>\n",
       "      <th>SRX1423943</th>\n",
       "      <th>...</th>\n",
       "      <th>SRX1424399</th>\n",
       "      <th>SRX1424400</th>\n",
       "      <th>SRX1424401</th>\n",
       "      <th>SRX1424402</th>\n",
       "      <th>SRX1424403</th>\n",
       "      <th>SRX1424404</th>\n",
       "      <th>SRX1424405</th>\n",
       "      <th>SRX1424406</th>\n",
       "      <th>SRX1424407</th>\n",
       "      <th>SRX1424408</th>\n",
       "    </tr>\n",
       "    <tr>\n",
       "      <th>Gene</th>\n",
       "      <th></th>\n",
       "      <th></th>\n",
       "      <th></th>\n",
       "      <th></th>\n",
       "      <th></th>\n",
       "      <th></th>\n",
       "      <th></th>\n",
       "      <th></th>\n",
       "      <th></th>\n",
       "      <th></th>\n",
       "      <th></th>\n",
       "      <th></th>\n",
       "      <th></th>\n",
       "      <th></th>\n",
       "      <th></th>\n",
       "      <th></th>\n",
       "      <th></th>\n",
       "      <th></th>\n",
       "      <th></th>\n",
       "      <th></th>\n",
       "      <th></th>\n",
       "    </tr>\n",
       "  </thead>\n",
       "  <tbody>\n",
       "    <tr>\n",
       "      <th>ChrSy.fgenesh.gene.37</th>\n",
       "      <td>547.0</td>\n",
       "      <td>173.0</td>\n",
       "      <td>626.0</td>\n",
       "      <td>161.0</td>\n",
       "      <td>404.0</td>\n",
       "      <td>728.0</td>\n",
       "      <td>439.0</td>\n",
       "      <td>1011.0</td>\n",
       "      <td>532.0</td>\n",
       "      <td>705.0</td>\n",
       "      <td>...</td>\n",
       "      <td>543.0</td>\n",
       "      <td>695.0</td>\n",
       "      <td>601.0</td>\n",
       "      <td>501.0</td>\n",
       "      <td>463.0</td>\n",
       "      <td>611.0</td>\n",
       "      <td>336.0</td>\n",
       "      <td>326.0</td>\n",
       "      <td>387.0</td>\n",
       "      <td>596.0</td>\n",
       "    </tr>\n",
       "    <tr>\n",
       "      <th>ChrSy.fgenesh.gene.49</th>\n",
       "      <td>136.0</td>\n",
       "      <td>34.0</td>\n",
       "      <td>149.0</td>\n",
       "      <td>30.0</td>\n",
       "      <td>134.0</td>\n",
       "      <td>275.0</td>\n",
       "      <td>134.0</td>\n",
       "      <td>301.0</td>\n",
       "      <td>147.0</td>\n",
       "      <td>134.0</td>\n",
       "      <td>...</td>\n",
       "      <td>179.0</td>\n",
       "      <td>116.0</td>\n",
       "      <td>125.0</td>\n",
       "      <td>191.0</td>\n",
       "      <td>261.0</td>\n",
       "      <td>154.0</td>\n",
       "      <td>220.0</td>\n",
       "      <td>168.0</td>\n",
       "      <td>152.0</td>\n",
       "      <td>123.0</td>\n",
       "    </tr>\n",
       "  </tbody>\n",
       "</table>\n",
       "<p>2 rows × 475 columns</p>\n",
       "</div>"
      ],
      "text/plain": [
       "Sample                 SRX1423934  SRX1423935  SRX1423936  SRX1423937  \\\n",
       "Gene                                                                    \n",
       "ChrSy.fgenesh.gene.37       547.0       173.0       626.0       161.0   \n",
       "ChrSy.fgenesh.gene.49       136.0        34.0       149.0        30.0   \n",
       "\n",
       "Sample                 SRX1423938  SRX1423939  SRX1423940  SRX1423941  \\\n",
       "Gene                                                                    \n",
       "ChrSy.fgenesh.gene.37       404.0       728.0       439.0      1011.0   \n",
       "ChrSy.fgenesh.gene.49       134.0       275.0       134.0       301.0   \n",
       "\n",
       "Sample                 SRX1423942  SRX1423943  ...  SRX1424399  SRX1424400  \\\n",
       "Gene                                           ...                           \n",
       "ChrSy.fgenesh.gene.37       532.0       705.0  ...       543.0       695.0   \n",
       "ChrSy.fgenesh.gene.49       147.0       134.0  ...       179.0       116.0   \n",
       "\n",
       "Sample                 SRX1424401  SRX1424402  SRX1424403  SRX1424404  \\\n",
       "Gene                                                                    \n",
       "ChrSy.fgenesh.gene.37       601.0       501.0       463.0       611.0   \n",
       "ChrSy.fgenesh.gene.49       125.0       191.0       261.0       154.0   \n",
       "\n",
       "Sample                 SRX1424405  SRX1424406  SRX1424407  SRX1424408  \n",
       "Gene                                                                   \n",
       "ChrSy.fgenesh.gene.37       336.0       326.0       387.0       596.0  \n",
       "ChrSy.fgenesh.gene.49       220.0       168.0       152.0       123.0  \n",
       "\n",
       "[2 rows x 475 columns]"
      ]
     },
     "execution_count": 13,
     "metadata": {},
     "output_type": "execute_result"
    }
   ],
   "source": [
    "ri_dropped_counts.head(2)"
   ]
  },
  {
   "cell_type": "code",
   "execution_count": 14,
   "metadata": {},
   "outputs": [
    {
     "data": {
      "text/html": [
       "<div>\n",
       "<style scoped>\n",
       "    .dataframe tbody tr th:only-of-type {\n",
       "        vertical-align: middle;\n",
       "    }\n",
       "\n",
       "    .dataframe tbody tr th {\n",
       "        vertical-align: top;\n",
       "    }\n",
       "\n",
       "    .dataframe thead th {\n",
       "        text-align: right;\n",
       "    }\n",
       "</style>\n",
       "<table border=\"1\" class=\"dataframe\">\n",
       "  <thead>\n",
       "    <tr style=\"text-align: right;\">\n",
       "      <th></th>\n",
       "      <th>Treatment</th>\n",
       "    </tr>\n",
       "    <tr>\n",
       "      <th>Sample</th>\n",
       "      <th></th>\n",
       "    </tr>\n",
       "  </thead>\n",
       "  <tbody>\n",
       "    <tr>\n",
       "      <th>SRX1423934</th>\n",
       "      <td>CONTROL</td>\n",
       "    </tr>\n",
       "    <tr>\n",
       "      <th>SRX1423935</th>\n",
       "      <td>CONTROL</td>\n",
       "    </tr>\n",
       "  </tbody>\n",
       "</table>\n",
       "</div>"
      ],
      "text/plain": [
       "           Treatment\n",
       "Sample              \n",
       "SRX1423934   CONTROL\n",
       "SRX1423935   CONTROL"
      ]
     },
     "execution_count": 14,
     "metadata": {},
     "output_type": "execute_result"
    }
   ],
   "source": [
    "ri_labels.head(2)"
   ]
  },
  {
   "cell_type": "markdown",
   "metadata": {},
   "source": [
    "### `DESeq2` Runs"
   ]
  },
  {
   "cell_type": "code",
   "execution_count": 17,
   "metadata": {},
   "outputs": [],
   "source": [
    "%%R -i ri_dropped_counts -i ri_labels -o deseq_df\n",
    "\n",
    "dds <- DESeqDataSetFromMatrix(countData = ri_dropped_counts,\n",
    "                              colData = ri_labels,\n",
    "                              design= ~ Treatment)\n",
    "dds <- DESeq(dds)\n",
    "deseq_results <- results(dds)\n",
    "deseq_df = data.frame(deseq_results)"
   ]
  },
  {
   "cell_type": "code",
   "execution_count": 18,
   "metadata": {},
   "outputs": [
    {
     "data": {
      "text/html": [
       "<div>\n",
       "<style scoped>\n",
       "    .dataframe tbody tr th:only-of-type {\n",
       "        vertical-align: middle;\n",
       "    }\n",
       "\n",
       "    .dataframe tbody tr th {\n",
       "        vertical-align: top;\n",
       "    }\n",
       "\n",
       "    .dataframe thead th {\n",
       "        text-align: right;\n",
       "    }\n",
       "</style>\n",
       "<table border=\"1\" class=\"dataframe\">\n",
       "  <thead>\n",
       "    <tr style=\"text-align: right;\">\n",
       "      <th></th>\n",
       "      <th>baseMean</th>\n",
       "      <th>log2FoldChange</th>\n",
       "      <th>lfcSE</th>\n",
       "      <th>stat</th>\n",
       "      <th>pvalue</th>\n",
       "      <th>padj</th>\n",
       "    </tr>\n",
       "  </thead>\n",
       "  <tbody>\n",
       "    <tr>\n",
       "      <th>ChrSy.fgenesh.gene.37</th>\n",
       "      <td>568.392376</td>\n",
       "      <td>-0.226739</td>\n",
       "      <td>0.091348</td>\n",
       "      <td>-2.482149</td>\n",
       "      <td>1.305927e-02</td>\n",
       "      <td>2.269306e-02</td>\n",
       "    </tr>\n",
       "    <tr>\n",
       "      <th>ChrSy.fgenesh.gene.49</th>\n",
       "      <td>114.847307</td>\n",
       "      <td>0.129674</td>\n",
       "      <td>0.048751</td>\n",
       "      <td>2.659933</td>\n",
       "      <td>7.815617e-03</td>\n",
       "      <td>1.425953e-02</td>\n",
       "    </tr>\n",
       "    <tr>\n",
       "      <th>ChrSy.fgenesh.gene.74</th>\n",
       "      <td>89.416241</td>\n",
       "      <td>-0.265554</td>\n",
       "      <td>0.051419</td>\n",
       "      <td>-5.164514</td>\n",
       "      <td>2.410650e-07</td>\n",
       "      <td>9.272336e-07</td>\n",
       "    </tr>\n",
       "    <tr>\n",
       "      <th>ChrSy.fgenesh.gene.86</th>\n",
       "      <td>979.544110</td>\n",
       "      <td>0.108172</td>\n",
       "      <td>0.094211</td>\n",
       "      <td>1.148190</td>\n",
       "      <td>2.508903e-01</td>\n",
       "      <td>3.177904e-01</td>\n",
       "    </tr>\n",
       "    <tr>\n",
       "      <th>ChrUn.fgenesh.gene.94</th>\n",
       "      <td>95.108651</td>\n",
       "      <td>-0.735490</td>\n",
       "      <td>0.079190</td>\n",
       "      <td>-9.287674</td>\n",
       "      <td>1.576965e-20</td>\n",
       "      <td>2.956600e-19</td>\n",
       "    </tr>\n",
       "  </tbody>\n",
       "</table>\n",
       "</div>"
      ],
      "text/plain": [
       "                         baseMean  log2FoldChange     lfcSE      stat  \\\n",
       "ChrSy.fgenesh.gene.37  568.392376       -0.226739  0.091348 -2.482149   \n",
       "ChrSy.fgenesh.gene.49  114.847307        0.129674  0.048751  2.659933   \n",
       "ChrSy.fgenesh.gene.74   89.416241       -0.265554  0.051419 -5.164514   \n",
       "ChrSy.fgenesh.gene.86  979.544110        0.108172  0.094211  1.148190   \n",
       "ChrUn.fgenesh.gene.94   95.108651       -0.735490  0.079190 -9.287674   \n",
       "\n",
       "                             pvalue          padj  \n",
       "ChrSy.fgenesh.gene.37  1.305927e-02  2.269306e-02  \n",
       "ChrSy.fgenesh.gene.49  7.815617e-03  1.425953e-02  \n",
       "ChrSy.fgenesh.gene.74  2.410650e-07  9.272336e-07  \n",
       "ChrSy.fgenesh.gene.86  2.508903e-01  3.177904e-01  \n",
       "ChrUn.fgenesh.gene.94  1.576965e-20  2.956600e-19  "
      ]
     },
     "execution_count": 18,
     "metadata": {},
     "output_type": "execute_result"
    }
   ],
   "source": [
    "deseq_df.head()"
   ]
  },
  {
   "cell_type": "code",
   "execution_count": 19,
   "metadata": {},
   "outputs": [
    {
     "data": {
      "text/plain": [
       "<GSForge.GeneSet>\n",
       "Name: deseq2_treatment\n",
       "    Supported Genes:  10593, 100.00% of 10593"
      ]
     },
     "execution_count": 19,
     "metadata": {},
     "output_type": "execute_result"
    }
   ],
   "source": [
    "deseq2_treatment = gsf.GeneSet(deseq_df, \n",
    "                               name=\"deseq2_treatment\", \n",
    "                               attrs={\"DESeq2_formula\": \"~ Treatment\"})\n",
    "deseq2_treatment"
   ]
  },
  {
   "cell_type": "markdown",
   "metadata": {},
   "source": [
    "### Define Helper Functions\n",
    "\n",
    "Some functions to help assign support to this `GeneSet`."
   ]
  },
  {
   "cell_type": "code",
   "execution_count": 20,
   "metadata": {},
   "outputs": [],
   "source": [
    "def pvalue_filter(deseq_result_df, cutoff=0.05):\n",
    "    \"\"\"Returns a array of genes which have p-values above the specified cutoff.\"\"\"\n",
    "    return deseq_result_df[deseq_result_df[\"padj\"] < cutoff].index\n",
    "\n",
    "def top_n_abs(dataframe, n=10, col=\"log2FoldChange\", padj_cuttoff=0.05):\n",
    "    \"\"\"Returns the top n most (absolutely) differentially expressed genes from a deseq2 result.\n",
    "    This also filters by p-values.\"\"\"\n",
    "    filtered_df = dataframe[dataframe[\"padj\"] < padj_cuttof]\n",
    "    filtered_df = filtered_df.reindex(filtered_df[\"log2FoldChange\"].abs().sort_values().index)\n",
    "    return filtered_df.tail(n).index"
   ]
  },
  {
   "cell_type": "code",
   "execution_count": 21,
   "metadata": {},
   "outputs": [
    {
     "name": "stdout",
     "output_type": "stream",
     "text": [
      "6659 genes below P-value threshold of: 0.05\n"
     ]
    }
   ],
   "source": [
    "cutoff = 0.05\n",
    "gene_count = len(pvalue_filter(deseq_df, cutoff=cutoff))\n",
    "\n",
    "print(f\"{gene_count} genes below P-value threshold of: {cutoff}\")"
   ]
  },
  {
   "cell_type": "code",
   "execution_count": 22,
   "metadata": {},
   "outputs": [
    {
     "data": {
      "text/plain": [
       "<GSForge.GeneSet>\n",
       "Name: deseq2_treatment\n",
       "    Supported Genes:  6659, 62.86% of 10593"
      ]
     },
     "execution_count": 22,
     "metadata": {},
     "output_type": "execute_result"
    }
   ],
   "source": [
    "deseq2_treatment.set_support_by_genes(pvalue_filter(deseq_df, cutoff=cutoff))\n",
    "deseq2_treatment"
   ]
  },
  {
   "cell_type": "code",
   "execution_count": 23,
   "metadata": {},
   "outputs": [
    {
     "data": {
      "text/plain": [
       "'/home/tyler/GSForge_demo_data/osfstorage/DEG_gene_sets/deseq2_treatment.nc'"
      ]
     },
     "execution_count": 23,
     "metadata": {},
     "output_type": "execute_result"
    }
   ],
   "source": [
    "deseq2_treatment.save_as_netcdf(DEG_COLL_PATH)"
   ]
  },
  {
   "cell_type": "markdown",
   "metadata": {},
   "source": [
    "---"
   ]
  }
 ],
 "metadata": {
  "kernelspec": {
   "display_name": "py38",
   "language": "python",
   "name": "py38"
  },
  "language_info": {
   "codemirror_mode": {
    "name": "ipython",
    "version": 3
   },
   "file_extension": ".py",
   "mimetype": "text/x-python",
   "name": "python",
   "nbconvert_exporter": "python",
   "pygments_lexer": "ipython3",
   "version": "3.8.1"
  },
  "pycharm": {
   "stem_cell": {
    "cell_type": "raw",
    "metadata": {
     "collapsed": false
    },
    "source": []
   }
  }
 },
 "nbformat": 4,
 "nbformat_minor": 4
}
