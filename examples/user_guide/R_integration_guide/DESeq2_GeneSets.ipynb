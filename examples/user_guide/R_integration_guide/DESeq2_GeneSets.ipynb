{
 "cells": [
  {
   "cell_type": "markdown",
   "metadata": {},
   "source": [
    "*This notebook covers how to run and load a basic `DESeq2` DEG result as a `GSForge.GeneSet`.*\n",
    "\n",
    "---"
   ]
  },
  {
   "cell_type": "markdown",
   "metadata": {},
   "source": [
    "#### Notebook Preparation"
   ]
  },
  {
   "cell_type": "markdown",
   "metadata": {},
   "source": [
    "***Declare used paths***"
   ]
  },
  {
   "cell_type": "code",
   "execution_count": 1,
   "metadata": {
    "collapsed": false,
    "jupyter": {
     "outputs_hidden": false
    },
    "pycharm": {
     "is_executing": false,
     "name": "#%%\n"
    }
   },
   "outputs": [],
   "source": [
    "# OS-independent path management.\n",
    "from os import fspath, environ\n",
    "from pathlib import Path"
   ]
  },
  {
   "cell_type": "code",
   "execution_count": 2,
   "metadata": {},
   "outputs": [],
   "source": [
    "OSF_PATH = Path(environ.get(\"GSFORGE_DEMO_DATA\", default=\"~/GSForge_demo_data\")).expanduser()\n",
    "AGEM_PATH = OSF_PATH.joinpath(\"osfstorage\", \"rice.nc\")\n",
    "DEG_COLL_PATH = OSF_PATH.joinpath(\"osfstorage\", \"DEG_gene_sets\")\n",
    "assert AGEM_PATH.exists()"
   ]
  },
  {
   "cell_type": "markdown",
   "metadata": {},
   "source": [
    "***Import Python packages***"
   ]
  },
  {
   "cell_type": "code",
   "execution_count": 3,
   "metadata": {},
   "outputs": [],
   "source": [
    "import GSForge as gsf"
   ]
  },
  {
   "cell_type": "markdown",
   "metadata": {},
   "source": [
    "***R integration setup***"
   ]
  },
  {
   "cell_type": "code",
   "execution_count": 4,
   "metadata": {},
   "outputs": [],
   "source": [
    "import rpy2.rinterface_lib.callbacks\n",
    "import logging\n",
    "from rpy2.robjects import pandas2ri\n",
    "%load_ext rpy2.ipython\n",
    "pandas2ri.activate()\n",
    "rpy2.rinterface_lib.callbacks.logger.setLevel(logging.ERROR)"
   ]
  },
  {
   "cell_type": "markdown",
   "metadata": {},
   "source": [
    "***Import R Packages***"
   ]
  },
  {
   "cell_type": "code",
   "execution_count": 5,
   "metadata": {},
   "outputs": [],
   "source": [
    "%%R\n",
    "library(\"DESeq2\")"
   ]
  },
  {
   "cell_type": "markdown",
   "metadata": {},
   "source": [
    "***Loading an AnnotatedGEM***"
   ]
  },
  {
   "cell_type": "code",
   "execution_count": 6,
   "metadata": {},
   "outputs": [
    {
     "data": {
      "text/plain": [
       "<GSForge.AnnotatedGEM>\n",
       "Name: Rice\n",
       "Selected GEM Variable: 'counts'\n",
       "    Gene   55986\n",
       "    Sample 475"
      ]
     },
     "execution_count": 6,
     "metadata": {},
     "output_type": "execute_result"
    }
   ],
   "source": [
    "agem = gsf.AnnotatedGEM(AGEM_PATH)\n",
    "agem"
   ]
  },
  {
   "cell_type": "markdown",
   "metadata": {},
   "source": [
    "### Prepare input data for DESeq2\n",
    "\n",
    "This requires us to drop genes that have counts of zero."
   ]
  },
  {
   "cell_type": "code",
   "execution_count": 7,
   "metadata": {},
   "outputs": [],
   "source": [
    "dropped_counts, labels = gsf.get_data(agem, \n",
    "                                      count_mask=\"dropped\",\n",
    "                                      annotation_variables=[\"Treatment\"])"
   ]
  },
  {
   "cell_type": "markdown",
   "metadata": {},
   "source": [
    "These counts were made with Kallisto, so we must round them for use in `DEseq2`."
   ]
  },
  {
   "cell_type": "code",
   "execution_count": 8,
   "metadata": {},
   "outputs": [
    {
     "data": {
      "text/plain": [
       "<xarray.DataArray 'counts' (Sample: 475, Gene: 10593)>\n",
       "array([[200., 102., 118., ...,  24., 342., 637.],\n",
       "       [ 41.,  55.,  29., ...,  10., 152., 186.],\n",
       "       [197., 104.,  78., ...,  21., 336., 545.],\n",
       "       ...,\n",
       "       [158., 113., 225., ...,   9., 424., 411.],\n",
       "       [151.,  98., 151., ...,  15., 274., 311.],\n",
       "       [128., 110., 105., ...,  19., 335., 666.]])\n",
       "Coordinates:\n",
       "  * Gene      (Gene) object 'LOC_Os01g55490' ... 'LOC_Os03g20020'\n",
       "  * Sample    (Sample) object 'SRX1423934' 'SRX1423935' ... 'SRX1424408'\n",
       "    quantile  float64 0.75"
      ]
     },
     "execution_count": 8,
     "metadata": {},
     "output_type": "execute_result"
    }
   ],
   "source": [
    "dropped_counts"
   ]
  },
  {
   "cell_type": "markdown",
   "metadata": {},
   "source": [
    "***Round counts to intergers***"
   ]
  },
  {
   "cell_type": "code",
   "execution_count": 9,
   "metadata": {},
   "outputs": [],
   "source": [
    "ri_dropped_counts = gsf.utils.R_interface.Py_counts_to_R(dropped_counts)\n",
    "ri_dropped_counts = ri_dropped_counts.round()\n",
    "\n",
    "ri_labels = labels.to_dataframe()"
   ]
  },
  {
   "cell_type": "markdown",
   "metadata": {},
   "source": [
    "### `DESeq2` Runs"
   ]
  },
  {
   "cell_type": "code",
   "execution_count": 10,
   "metadata": {},
   "outputs": [
    {
     "name": "stdout",
     "output_type": "stream",
     "text": [
      "\n",
      "Error in DESeqDataSet(se, design = design, ignoreRank) : \n",
      "  all variables in design formula must be columns in colData\n",
      "Calls: <Anonymous> ... withVisible -> DESeqDataSetFromMatrix -> DESeqDataSet\n"
     ]
    }
   ],
   "source": [
    "%%R -i ri_dropped_counts -i ri_labels -o deseq_df\n",
    "\n",
    "dds <- DESeqDataSetFromMatrix(countData = ri_dropped_counts,\n",
    "                              colData = ri_labels,\n",
    "                              design= ~ treatment)\n",
    "dds <- DESeq(dds)\n",
    "deseq_results <- results(dds)\n",
    "deseq_df = data.frame(deseq_results)"
   ]
  },
  {
   "cell_type": "code",
   "execution_count": 11,
   "metadata": {},
   "outputs": [
    {
     "ename": "NameError",
     "evalue": "name 'deseq_df' is not defined",
     "output_type": "error",
     "traceback": [
      "\u001b[0;31m---------------------------------------------------------------------------\u001b[0m",
      "\u001b[0;31mNameError\u001b[0m                                 Traceback (most recent call last)",
      "\u001b[0;32m<ipython-input-11-09626099362f>\u001b[0m in \u001b[0;36m<module>\u001b[0;34m\u001b[0m\n\u001b[0;32m----> 1\u001b[0;31m deseq2_treatment = gsf.GeneSet(deseq_df, \n\u001b[0m\u001b[1;32m      2\u001b[0m                                \u001b[0mname\u001b[0m\u001b[0;34m=\u001b[0m\u001b[0;34m\"deseq2_treatment\"\u001b[0m\u001b[0;34m,\u001b[0m\u001b[0;34m\u001b[0m\u001b[0;34m\u001b[0m\u001b[0m\n\u001b[1;32m      3\u001b[0m                                attrs={\"DESeq2_formula\": \"~ Treatment\"})\n\u001b[1;32m      4\u001b[0m \u001b[0mdeseq2_treatment\u001b[0m\u001b[0;34m\u001b[0m\u001b[0;34m\u001b[0m\u001b[0m\n",
      "\u001b[0;31mNameError\u001b[0m: name 'deseq_df' is not defined"
     ]
    }
   ],
   "source": [
    "deseq2_treatment = gsf.GeneSet(deseq_df, \n",
    "                               name=\"deseq2_treatment\", \n",
    "                               attrs={\"DESeq2_formula\": \"~ Treatment\"})\n",
    "deseq2_treatment"
   ]
  },
  {
   "cell_type": "markdown",
   "metadata": {},
   "source": [
    "### Define Helper Functions\n",
    "\n",
    "Some functions to help assign support to this `GeneSet`."
   ]
  },
  {
   "cell_type": "code",
   "execution_count": 13,
   "metadata": {},
   "outputs": [],
   "source": [
    "def pvalue_filter(deseq_result_df, cutoff=0.05):\n",
    "    \"\"\"Returns a array of genes which have p-values above the specified cutoff.\"\"\"\n",
    "    return deseq_result_df[deseq_result_df[\"padj\"] < cutoff].index\n",
    "\n",
    "def top_n_abs(dataframe, n=10, col=\"log2FoldChange\", padj_cuttoff=0.05):\n",
    "    \"\"\"Returns the top n most (absolutely) differentially expressed genes from a deseq2 result.\n",
    "    This also filters by p-values.\"\"\"\n",
    "    filtered_df = dataframe[dataframe[\"padj\"] < padj_cuttof]\n",
    "    filtered_df = filtered_df.reindex(filtered_df[\"log2FoldChange\"].abs().sort_values().index)\n",
    "    return filtered_df.tail(n).index"
   ]
  },
  {
   "cell_type": "code",
   "execution_count": 14,
   "metadata": {},
   "outputs": [
    {
     "name": "stdout",
     "output_type": "stream",
     "text": [
      "117 genes below P-value threshold of: 0.05\n"
     ]
    }
   ],
   "source": [
    "cutoff = 0.05\n",
    "gene_count = len(pvalue_filter(deseq_df, cutoff=cutoff))\n",
    "\n",
    "print(f\"{gene_count} genes below P-value threshold of: {cutoff}\")"
   ]
  },
  {
   "cell_type": "code",
   "execution_count": 15,
   "metadata": {},
   "outputs": [
    {
     "data": {
      "text/plain": [
       "<GSForge.GeneSet>\n",
       "Name: deseq2_treatment\n",
       "    Supported Genes:  117, 0.75% of 15591"
      ]
     },
     "execution_count": 15,
     "metadata": {},
     "output_type": "execute_result"
    }
   ],
   "source": [
    "deseq2_treatment.set_gene_support(pvalue_filter(deseq_df, cutoff=cutoff))\n",
    "deseq2_treatment"
   ]
  },
  {
   "cell_type": "code",
   "execution_count": 17,
   "metadata": {},
   "outputs": [
    {
     "data": {
      "text/plain": [
       "'/home/tyler/GSForge_demo_data/osfstorage/DEG_gene_sets/deseq2_treatment.nc'"
      ]
     },
     "execution_count": 17,
     "metadata": {},
     "output_type": "execute_result"
    }
   ],
   "source": [
    "deseq2_treatment.save_as_netcdf(DEG_COLL_PATH)"
   ]
  },
  {
   "cell_type": "markdown",
   "metadata": {},
   "source": [
    "---"
   ]
  }
 ],
 "metadata": {
  "kernelspec": {
   "display_name": "Python (base)",
   "language": "python",
   "name": "python3"
  },
  "language_info": {
   "codemirror_mode": {
    "name": "ipython",
    "version": 3
   },
   "file_extension": ".py",
   "mimetype": "text/x-python",
   "name": "python",
   "nbconvert_exporter": "python",
   "pygments_lexer": "ipython3",
   "version": "3.7.6"
  },
  "pycharm": {
   "stem_cell": {
    "cell_type": "raw",
    "metadata": {
     "collapsed": false
    },
    "source": []
   }
  }
 },
 "nbformat": 4,
 "nbformat_minor": 4
}
