{
 "cells": [
  {
   "cell_type": "markdown",
   "metadata": {
    "pycharm": {
     "name": "#%% md\n"
    }
   },
   "source": [
    "*Note:* This project is under active development.\n",
    "\n",
    "## Installation\n",
    "\n",
    "`GSForge` works with Python 3.6+.\n",
    "It is currently only tested on Linux.\n",
    "\n",
    "### From Github\n",
    "\n",
    "***Clone the repository.***\n",
    "\n",
    "```bash\n",
    "git clone git@github.com:SystemsGenetics/GSForge.git\n",
    "```\n",
    "\n",
    "***Install via local pip:***\n",
    "\n",
    "```bash\n",
    "pip install ./gsforge/\n",
    "```\n",
    "\n",
    "### Using Docker\n",
    "\n",
    "***Update the image***\n",
    "```bash\n",
    "docker pull systemsgenetics/gsforge_interactive:latest\n",
    "```\n",
    "\n",
    "To run `GSForge` using a jupyter notebook from a docker image:\n",
    "\n",
    "***Jupyter Lab***\n",
    "\n",
    "```bash\n",
    "docker run --rm -p 10000:8888 -e JUPYTER_ENABLE_LAB=yes -v \"$PWD\":/home/jovyan/work systemsgenetics/gsforge_interactive:latest\n",
    "```\n",
    "\n",
    "***Jupyter Notebook***\n",
    "\n",
    "```bash\n",
    "docker run -p 8888:8888 -v \"$PWD\":/home/jovyan/work systemsgenetics/gsforge_interactive:latest\n",
    "```\n",
    "\n",
    "Both of the above commands mount the local directory to the `\"/home/jovyan/work\"` within the docker image.\n",
    "(\"jovyan\" is the default user name within the jupyter docker stack container.)"
   ]
  },
  {
   "cell_type": "markdown",
   "metadata": {},
   "source": [
    "---"
   ]
  }
 ],
 "metadata": {
  "kernelspec": {
   "display_name": "Python (base)",
   "language": "python",
   "name": "python3"
  },
  "language_info": {
   "codemirror_mode": {
    "name": "ipython",
    "version": 3
   },
   "file_extension": ".py",
   "mimetype": "text/x-python",
   "name": "python",
   "nbconvert_exporter": "python",
   "pygments_lexer": "ipython3",
   "version": "3.7.3"
  },
  "pycharm": {
   "stem_cell": {
    "cell_type": "raw",
    "source": [],
    "metadata": {
     "collapsed": false
    }
   }
  }
 },
 "nbformat": 4,
 "nbformat_minor": 4
}