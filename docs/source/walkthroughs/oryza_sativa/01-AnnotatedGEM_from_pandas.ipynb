{
 "cells": [
  {
   "cell_type": "markdown",
   "id": "08631867",
   "metadata": {},
   "source": [
    "# 01 Loading data into an AnnotatedGEM\n",
    "\n",
    "This notebook describes how to create and save an `AnnotatedGEM` object from separate count and label text files.\n",
    "\n",
    "\n",
    "***Download the demo data***\n",
    "\n",
    "A demo gene expression matrix and accompanying annotation text files are stored in a public [OSF](https://osf.io) project.\n",
    "You can download them by:\n",
    "+ Navigating to the [data repository on osf](https://osf.io/t3xpw/) and manually download them.\n",
    "\n",
    "or\n",
    "\n",
    "+ Installing the [OSF CLI utility](https://osfclient.readthedocs.io/en/latest/index.html) and clone to a directory:\n",
    "    \n",
    "    **Linux**\n",
    "    ```bash\n",
    "    # Install the osfclient.\n",
    "    pip install osfclient\n",
    "  \n",
    "    # To clone the entire osf project:\n",
    "    osf -p rbhfz clone ~/GSForge_demo_data\n",
    "    \n",
    "    # To pull the minimum number of files to complete the examples:\n",
    "    osf \n",
    "    ```\n",
    "  \n",
    "    \n",
    "The paths used in this example assume the second method was used.\n",
    "\n",
    "***Set up the notebook***"
   ]
  },
  {
   "cell_type": "code",
   "execution_count": null,
   "id": "013c3b81",
   "metadata": {},
   "outputs": [],
   "source": [
    "# OS-independent path management.\n",
    "from os import  environ\n",
    "from pathlib import Path\n",
    "import pandas as pd\n",
    "import GSForge as gsf"
   ]
  },
  {
   "cell_type": "markdown",
   "id": "8dc4c712",
   "metadata": {},
   "source": [
    "***Declare used paths***\n",
    "\n",
    "Declare the OSF project directory path. This is the root directory of the data files used in this notebook."
   ]
  },
  {
   "cell_type": "code",
   "execution_count": null,
   "id": "a204dd0b",
   "metadata": {},
   "outputs": [],
   "source": [
    "OSF_PATH = Path(environ.get(\"GSFORGE_DEMO_DATA\", default=\"~/GSForge_demo_data/osfstorage/oryza_sativa\")).expanduser()\n",
    "RAW_COUNT_PATH = OSF_PATH.joinpath(\"GEMmakerGEMs\", \"rice_heat_drought.GEM.raw.txt\")\n",
    "HYDRO_LABEL_PATH = OSF_PATH.joinpath(\"GEMmakerGEMs\", \"raw_annotation_data\", \"PRJNA301554.hydroponic.annotations.txt\")\n",
    "MULTIQC_DIR = OSF_PATH.joinpath(\"GEMmakerGEMs\", \"multiqc_data\")"
   ]
  },
  {
   "cell_type": "markdown",
   "id": "3aa0f927",
   "metadata": {},
   "source": [
    "Ensure these files exist."
   ]
  },
  {
   "cell_type": "code",
   "execution_count": null,
   "id": "06ea372d",
   "metadata": {},
   "outputs": [],
   "source": [
    "assert RAW_COUNT_PATH.exists()\n",
    "assert HYDRO_LABEL_PATH.exists()"
   ]
  },
  {
   "cell_type": "markdown",
   "id": "74af1f6b",
   "metadata": {},
   "source": [
    "Finally, declare an path to which the created `.nc` file will saved."
   ]
  },
  {
   "cell_type": "code",
   "execution_count": null,
   "id": "e8671a53",
   "metadata": {},
   "outputs": [],
   "source": [
    "HYDRO_GEM_PATH = OSF_PATH.joinpath(\"AnnotatedGEMs\", \"oryza_sativa_hisat2_hydro_raw.nc\")"
   ]
  },
  {
   "cell_type": "markdown",
   "id": "c7710e56",
   "metadata": {},
   "source": [
    "## Loading data with `pandas`\n",
    "\n",
    "***Loading the count matrix***"
   ]
  },
  {
   "cell_type": "code",
   "execution_count": null,
   "id": "ad9a8010",
   "metadata": {},
   "outputs": [],
   "source": [
    "%%time\n",
    "count_df = pd.read_csv(RAW_COUNT_PATH, sep=\"\\t\", index_col=0)"
   ]
  },
  {
   "cell_type": "code",
   "execution_count": null,
   "id": "f0926b5e",
   "metadata": {},
   "outputs": [],
   "source": [
    "print(count_df.shape)\n",
    "count_df.head()"
   ]
  },
  {
   "cell_type": "markdown",
   "id": "965321ab",
   "metadata": {},
   "source": [
    "***Loading the annotation table***"
   ]
  },
  {
   "cell_type": "code",
   "execution_count": null,
   "id": "29195143",
   "metadata": {},
   "outputs": [],
   "source": [
    "%%time\n",
    "label_df = pd.read_csv(HYDRO_LABEL_PATH, index_col=1, sep=\"\\t\")\n",
    "label_df['genotype'] = label_df['genotype'].str.split(\" \", expand=True).iloc[:, 0]\n",
    "label_df['time'] = label_df['time'].str.split(' ', expand=True).iloc[:, 0].astype(int)"
   ]
  },
  {
   "cell_type": "code",
   "execution_count": null,
   "id": "20e5393c",
   "metadata": {},
   "outputs": [],
   "source": [
    "label_df.head(2)"
   ]
  },
  {
   "cell_type": "markdown",
   "id": "e271b5da",
   "metadata": {},
   "source": [
    "## Combine the dataframes into an AnnotatedGEM:\n",
    "\n",
    "`AnnotatedGEM.from_pandas` does a bit of data wrangling, and loads the data into a single `xarray.Dataset`."
   ]
  },
  {
   "cell_type": "code",
   "execution_count": null,
   "id": "d87ae56f",
   "metadata": {},
   "outputs": [],
   "source": [
    "agem = gsf.AnnotatedGEM.from_pandas(count_df=count_df, label_df=label_df, name=\"Oryza sativa\")\n",
    "agem"
   ]
  },
  {
   "cell_type": "markdown",
   "id": "e659415e",
   "metadata": {},
   "source": [
    "***Examine the data***"
   ]
  },
  {
   "cell_type": "code",
   "execution_count": null,
   "id": "2548970a",
   "metadata": {},
   "outputs": [],
   "source": [
    "agem.data"
   ]
  },
  {
   "cell_type": "markdown",
   "id": "2fa8104b",
   "metadata": {},
   "source": [
    "## Save the `AnnotatedGEM`"
   ]
  },
  {
   "cell_type": "code",
   "execution_count": null,
   "id": "7a33fc57",
   "metadata": {},
   "outputs": [],
   "source": [
    "if not HYDRO_GEM_PATH.exists():\n",
    "    agem.save(HYDRO_GEM_PATH)"
   ]
  },
  {
   "cell_type": "markdown",
   "id": "339a50f6",
   "metadata": {},
   "source": [
    "## Creating an AnnotatedGEM from files\n",
    "\n",
    "If you are fortunate enough to have consistently formatted data (like the above example) you can directly\n",
    "load your data into an AnnotatedGEM.\n",
    "\n",
    "If you do not provide a sep argument in the count_kwargs or label_kwargs dictionaries, `GSForge`\n",
    "will attempt to infer it by reading the first line of each file."
   ]
  },
  {
   "cell_type": "code",
   "execution_count": null,
   "id": "cec06ef3",
   "metadata": {},
   "outputs": [],
   "source": [
    "del agem\n",
    "\n",
    "agem = gsf.AnnotatedGEM.from_files(\n",
    "    count_path=RAW_COUNT_PATH,\n",
    "    label_path=HYDRO_LABEL_PATH,\n",
    "    # These are the default arguments passed to from_files,\n",
    "    # to the individual calls to `pandas.read_csv`.\n",
    "    count_kwargs=dict(index_col=0, sep=\"\\t\"),\n",
    "    label_kwargs=dict(index_col=1, sep=\"\\t\"),\n",
    ")\n",
    "agem"
   ]
  }
 ],
 "metadata": {
  "kernelspec": {
   "display_name": "gsfenv",
   "language": "python",
   "name": "gsfenv"
  }
 },
 "nbformat": 4,
 "nbformat_minor": 5
}
