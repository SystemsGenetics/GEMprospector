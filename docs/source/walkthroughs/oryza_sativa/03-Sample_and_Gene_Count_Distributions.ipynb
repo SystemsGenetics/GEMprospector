{
 "cells": [
  {
   "cell_type": "markdown",
   "id": "88bb72c1",
   "metadata": {},
   "source": [
    "# Viewing Gene Expression Distributions\n",
    "\n",
    "A great deal of quality-control information comes from the alignment step itself.\n",
    "Here we are concerned with how the data looks as an ensemble.\n",
    "Many methods are particularly concerned with the dispersion of genes.\n",
    "\n",
    "In this notebook we demonstrate the plotting utilities provided by `gsforge` to examine such distributions.\n",
    "\n",
    "***Set up the notebook***"
   ]
  },
  {
   "cell_type": "code",
   "execution_count": null,
   "id": "91f6f9d8",
   "metadata": {},
   "outputs": [],
   "source": [
    "import itertools\n",
    "import holoviews as hv\n",
    "import numpy as np\n",
    "import xarray as xr\n",
    "import GSForge as gsf\n",
    "hv.extension('bokeh')\n",
    "\n",
    "import matplotlib.pyplot as plt\n",
    "import colorcet as cc\n",
    "from datashader.mpl_ext import dsshow, alpha_colormap\n",
    "import datashader\n",
    "from functools import partial\n",
    "import seaborn as sns\n",
    "from mpl_toolkits.axes_grid1 import make_axes_locatable"
   ]
  },
  {
   "cell_type": "markdown",
   "id": "ce78a941",
   "metadata": {},
   "source": [
    "***Declare used paths***"
   ]
  },
  {
   "cell_type": "code",
   "execution_count": null,
   "id": "d9429ae4",
   "metadata": {},
   "outputs": [],
   "source": [
    "# OS-independent path management.\n",
    "from os import  environ\n",
    "from pathlib import Path"
   ]
  },
  {
   "cell_type": "code",
   "execution_count": null,
   "id": "d747caf1",
   "metadata": {},
   "outputs": [],
   "source": [
    "OSF_PATH = Path(environ.get(\"GSFORGE_DEMO_DATA\", default=\"~/GSForge_demo_data/osfstorage/oryza_sativa\")).expanduser()\n",
    "NORMED_GEM_PATH = OSF_PATH.joinpath(\"AnnotatedGEMs\", \"oryza_sativa_hisat2_normed.nc\")"
   ]
  },
  {
   "cell_type": "markdown",
   "id": "a37f3acc",
   "metadata": {},
   "source": [
    "***Load an AnnotatedGEM***"
   ]
  },
  {
   "cell_type": "code",
   "execution_count": null,
   "id": "9588d5db",
   "metadata": {},
   "outputs": [],
   "source": [
    "agem = gsf.AnnotatedGEM(NORMED_GEM_PATH)\n",
    "agem"
   ]
  },
  {
   "cell_type": "markdown",
   "id": "f5cabe32",
   "metadata": {},
   "source": [
    "***View available count arrays***"
   ]
  },
  {
   "cell_type": "code",
   "execution_count": null,
   "id": "15e423c6",
   "metadata": {},
   "outputs": [],
   "source": [
    "agem.count_array_names"
   ]
  },
  {
   "cell_type": "code",
   "execution_count": null,
   "id": "4d80b290",
   "metadata": {
    "tags": []
   },
   "outputs": [],
   "source": [
    "gsf.plots.gem.GenewiseAggregateScatter(\n",
    "    agem,\n",
    "    count_variable='counts',\n",
    "    x_axis_selector='mean',\n",
    "    y_axis_selector='variance',\n",
    "    count_transform=lambda c: np.log2(c + 1),\n",
    "    datashade=True,\n",
    "    dynspread=True,\n",
    ")"
   ]
  },
  {
   "cell_type": "markdown",
   "id": "10dd3060",
   "metadata": {},
   "source": [
    "Recall that all `gsforge` plotting operations allow use of the `Interface` data selection pipeline.\n",
    "\n",
    "In this case we can select another count array and view the normalized distributions."
   ]
  },
  {
   "cell_type": "code",
   "execution_count": null,
   "id": "0eb3d137",
   "metadata": {},
   "outputs": [],
   "source": [
    "gsf.plots.gem.GenewiseAggregateScatter(\n",
    "    agem,\n",
    "    count_variable='TPM_counts',\n",
    "    x_axis_selector='mean',\n",
    "    y_axis_selector='variance',\n",
    "    count_transform=lambda c: np.log2(c + 1),\n",
    "    datashade=True,\n",
    "    dynspread=True,\n",
    ")"
   ]
  },
  {
   "cell_type": "code",
   "execution_count": null,
   "id": "0a68468d",
   "metadata": {},
   "outputs": [],
   "source": [
    "# for count_var, y_axis in itertools.product(agem.count_array_names, ['variance', 'fano', 'cv_squared']):\n",
    "\n",
    "#     plot = gsf.plots.gem.GenewiseAggregateScatter(\n",
    "#         agem,\n",
    "#         count_variable=count_var,\n",
    "#         x_axis_selector='mean',\n",
    "#         y_axis_selector=y_axis,\n",
    "#         axis_transform=('log 2', lambda ds: np.log2(ds.where(ds > 0))),\n",
    "#         datashade=True,\n",
    "#         dynspread=True,\n",
    "#     )\n",
    "\n",
    "    # hv.save(plot, f'figures/genewise_aggs/gw_agg_{count_var}_log2_mean_vs_log2_{y_axis}.png', dpi=300, toolbar=None)"
   ]
  },
  {
   "cell_type": "markdown",
   "id": "20a81635",
   "metadata": {},
   "source": [
    "For some reason the adjoint png files produced have extra white space.\n",
    "We can remove that with a solution from [github](https://gist.github.com/thomastweets/c7680e41ed88452d3c63401bb35116ed)"
   ]
  },
  {
   "cell_type": "code",
   "execution_count": null,
   "id": "f93bbe8f",
   "metadata": {},
   "outputs": [],
   "source": [
    "# from PIL import Image\n",
    "# from PIL import ImageOps\n",
    "\n",
    "# padding = 5\n",
    "# padding = np.asarray([-1*padding, -1*padding, padding, padding])\n",
    "\n",
    "# for figure in Path('figures/genewise_aggs').glob('gw_agg_*.png'):\n",
    "    \n",
    "#     image = Image.open(figure)\n",
    "#     image.load()\n",
    "#     imageSize = image.size\n",
    "\n",
    "#     # remove alpha channel\n",
    "#     invert_im = image.convert(\"RGB\")\n",
    "\n",
    "#     # invert image (so that white is 0)\n",
    "#     invert_im = ImageOps.invert(invert_im)\n",
    "#     imageBox = invert_im.getbbox()\n",
    "#     imageBox = tuple(np.asarray(imageBox)+padding)\n",
    "\n",
    "#     cropped = image.crop(imageBox)\n",
    "#     cropped.save(figure)"
   ]
  },
  {
   "cell_type": "markdown",
   "id": "434f2bad",
   "metadata": {},
   "source": [
    "## Grouped-Sample Covariance\n",
    "\n",
    "These plotting functions can take a few minutes to complete."
   ]
  },
  {
   "cell_type": "code",
   "execution_count": null,
   "id": "2fa334b1",
   "metadata": {},
   "outputs": [],
   "source": [
    "treatment_labels = agem.data['treatment'].to_series().unique()\n",
    "treatment_labels"
   ]
  },
  {
   "cell_type": "code",
   "execution_count": null,
   "id": "a330bd28",
   "metadata": {},
   "outputs": [],
   "source": [
    "# %%time\n",
    "# for group_a, group_b in itertools.combinations(treatment_labels, 2):\n",
    "#     plot =  gsf.plots.gem.GroupedGeneCovariance(agem, group_variable='treatment', \n",
    "#                                                 x_group_label=group_a, y_group_label=group_b,\n",
    "#                                                 count_transform=lambda c: np.log(c + 0.25)\n",
    "#                                                ).opts(size=0.75, width=300, height=300)\n",
    "#     hv.save(plot, f'figures/grouped_covariance/covariance_{group_a}_vs_{group_b}.png', 'png')"
   ]
  },
  {
   "cell_type": "markdown",
   "id": "42ac3aa1",
   "metadata": {},
   "source": [
    "## Sample-wise Distributions\n",
    "\n",
    "These plotting func\n",
    "tions can take a few minutes to complete."
   ]
  },
  {
   "cell_type": "markdown",
   "id": "104862ea",
   "metadata": {},
   "source": [
    "### Kernel Density Estimates"
   ]
  },
  {
   "cell_type": "code",
   "execution_count": null,
   "id": "c77843e0",
   "metadata": {},
   "outputs": [],
   "source": [
    "# %%time\n",
    "# for count_var, hue in itertools.product(['counts'], [None]):\n",
    "#     plot = gsf.plots.gem.SamplewiseDistributions(agem, count_variable=count_var, hue_key=hue, \n",
    "#                                                  datashade=False)#.opts(width=300, height=300)\n",
    "#     hv.save(plot, f'figures/kde/samplewise_kde_{count_var}_{hue}.png', toolbar=None)"
   ]
  },
  {
   "cell_type": "markdown",
   "id": "b632d4f0",
   "metadata": {},
   "source": [
    "### Empirical Cumulative Distribution"
   ]
  },
  {
   "cell_type": "code",
   "execution_count": null,
   "id": "87f2262f",
   "metadata": {},
   "outputs": [],
   "source": [
    "# %%time\n",
    "# for count_var, hue in itertools.product(agem.count_array_names[:-1], [None, 'treatment', 'genotype']):\n",
    "#     plot = gsf.plots.gem.EmpiricalCumulativeDistribution(agem, hue_key=hue, count_variable=count_var, datashade=True)\n",
    "#     hv.save(plot, f'figures/ecdf/ECDF_{count_var}_{hue}.png', dpi=300, toolbar=None)"
   ]
  },
  {
   "cell_type": "code",
   "execution_count": null,
   "id": "7031e8e7",
   "metadata": {},
   "outputs": [],
   "source": []
  },
  {
   "cell_type": "code",
   "execution_count": null,
   "id": "1d40d811",
   "metadata": {},
   "outputs": [],
   "source": [
    "plt.style.use('default')\n",
    "plt.rcParams.update({'font.size': 11, 'font.family': 'serif'})"
   ]
  },
  {
   "cell_type": "code",
   "execution_count": null,
   "id": "b3664788",
   "metadata": {},
   "outputs": [],
   "source": [
    "log_counts, _ = gsf.get_gem_data(agem, count_transform=lambda c: np.log2(c + 1), count_variable='TPM_counts')\n",
    "data = xr.Dataset({\n",
    "    \"mean\": np.mean(log_counts, axis=0),\n",
    "    \"variance\": np.sqrt(np.var(log_counts, axis=0)),\n",
    "})\n",
    "data = data.set_coords(['mean', 'variance'])\n",
    "hv.operation.datashader.datashade(\n",
    "    hv.Points(data, kdims=['mean', 'variance']),\n",
    "    cmap='inferno', cnorm='log',\n",
    ").opts(bgcolor='lightgrey', padding=0.05, width=600, height=400, show_grid=True)"
   ]
  },
  {
   "cell_type": "code",
   "execution_count": null,
   "id": "d21e7af8",
   "metadata": {},
   "outputs": [],
   "source": [
    "log_counts, _ = gsf.get_gem_data(agem, count_transform=lambda c: np.log2(c + 1))\n",
    "data = xr.Dataset({\n",
    "    \"mean\": np.mean(log_counts, axis=0),\n",
    "    \"variance\": np.sqrt(np.var(log_counts, axis=0)),\n",
    "})\n",
    "data = data.set_coords(['mean', 'variance'])\n",
    "hv.operation.datashader.datashade(\n",
    "    hv.Points(data, kdims=['mean', 'variance']),\n",
    "    cmap='inferno', cnorm='log',\n",
    ").opts(bgcolor='lightgrey', padding=0.05, width=600, height=400, show_grid=True)"
   ]
  },
  {
   "cell_type": "code",
   "execution_count": null,
   "id": "0b34ff40",
   "metadata": {},
   "outputs": [],
   "source": [
    "log_counts, _ = gsf.get_gem_data(agem, count_transform=lambda c: np.log2(c + 1), count_variable='quantile_counts')\n",
    "data = xr.Dataset({\n",
    "    \"mean\": np.mean(log_counts, axis=0),\n",
    "    \"variance\": np.sqrt(np.var(log_counts, axis=0)),\n",
    "})\n",
    "data = data.set_coords(['mean', 'variance'])\n",
    "hv.operation.datashader.datashade(\n",
    "    hv.Points(data, kdims=['mean', 'variance']),\n",
    "    cmap='inferno', cnorm='log',\n",
    ").opts(bgcolor='lightgrey', padding=0.05, width=600, height=400, show_grid=True)"
   ]
  },
  {
   "cell_type": "code",
   "execution_count": null,
   "id": "fda97111",
   "metadata": {},
   "outputs": [],
   "source": [
    "log_counts, _ = gsf.get_gem_data(agem, count_transform=lambda c: np.log2(c + 1), count_variable='TPM_counts')\n",
    "data = xr.Dataset({\n",
    "    \"mean log2 counts\": np.mean(log_counts, axis=0),\n",
    "    \"sqrt log2 variance\": np.sqrt(np.var(log_counts, axis=0)),\n",
    "})\n",
    "data = data.set_coords(['mean log2 counts', 'sqrt log2 variance'])\n",
    "x_min = data['mean log2 counts'].values.min()\n",
    "x_max = data['mean log2 counts'].values.max()\n",
    "\n",
    "y_min = data['sqrt log2 variance'].values.min()\n",
    "y_max = data['sqrt log2 variance'].values.max()\n",
    "\n",
    "padding = 0.05\n",
    "x_pad = (x_max - x_min) * padding\n",
    "y_pad = (y_max - y_min) * padding\n",
    "\n",
    "x_min -= x_pad\n",
    "# x_max += x_pad\n",
    "x_max = 11.5\n",
    "\n",
    "y_min -= y_pad\n",
    "# y_max += y_pad\n",
    "y_max = 2\n",
    "\n",
    "\n",
    "fig_inches = 3.5\n",
    "fig_dpi = 300\n",
    "fig_pixels = int(fig_inches * fig_dpi)\n",
    "\n",
    "fig, axScatter = plt.subplots(figsize=(fig_inches, fig_inches), constrained_layout=True, dpi=fig_dpi)\n",
    "\n",
    "axScatter.scatter(\n",
    "    data['mean log2 counts'].values,\n",
    "    data['sqrt log2 variance'].values,\n",
    "    s=0.5,\n",
    "    alpha=0.5, \n",
    "    marker='.', \n",
    "    edgecolors='none', \n",
    ")\n",
    "# dsshow(\n",
    "#     data, \n",
    "#     datashader.Point('mean log2 counts', 'sqrt log2 variance'), \n",
    "#     shade_hook=datashader.transfer_functions.dynspread,\n",
    "#     norm='eq_hist', cmap=\"Blues\", ax=axScatter, \n",
    "#     aspect='auto',\n",
    "#     x_range=(x_min, x_max),\n",
    "#     y_range=(y_min, y_max),\n",
    "#     plot_width=fig_pixels,\n",
    "#     plot_height=fig_pixels,\n",
    "# );\n",
    "\n",
    "divider = make_axes_locatable(axScatter)\n",
    "axHistx = divider.append_axes(\"top\", 0.2*fig_inches, pad=0.15)\n",
    "axHisty = divider.append_axes(\"right\", 0.2*fig_inches, pad=0.15)\n",
    "\n",
    "axHistx.xaxis.set_tick_params(labelbottom=False)\n",
    "axHisty.yaxis.set_tick_params(labelleft=False)\n",
    "\n",
    "axHistx.set_xlim(x_min, x_max)\n",
    "axHisty.set_ylim(y_min, y_max)\n",
    "\n",
    "sns.kdeplot(data[\"mean log2 counts\"].values, ax=axHistx, linewidth=0.5, shade=True, bw_adjust=0.05)\n",
    "sns.kdeplot(y=data[\"sqrt log2 variance\"].values, ax=axHisty, linewidth=0.5, shade=True, bw_adjust=0.05)\n",
    "\n",
    "axScatter.set(xlabel='mean $log_2$(TPM + 1)', ylabel='$\\sqrt{\\sigma}$');"
   ]
  },
  {
   "cell_type": "code",
   "execution_count": null,
   "id": "a9b19c8c",
   "metadata": {},
   "outputs": [],
   "source": []
  }
 ],
 "metadata": {
  "kernelspec": {
   "display_name": "gsfenv",
   "language": "python",
   "name": "gsfenv"
  }
 },
 "nbformat": 4,
 "nbformat_minor": 5
}