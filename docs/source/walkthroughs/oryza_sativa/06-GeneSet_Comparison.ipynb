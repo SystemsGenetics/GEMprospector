{
 "cells": [
  {
   "cell_type": "markdown",
   "metadata": {},
   "source": [
    "# GeneSet Comparison"
   ]
  },
  {
   "cell_type": "markdown",
   "metadata": {},
   "source": [
    "***Setting up the notebook***"
   ]
  },
  {
   "cell_type": "code",
   "execution_count": 1,
   "metadata": {
    "pycharm": {
     "is_executing": false
    }
   },
   "outputs": [
    {
     "ename": "ModuleNotFoundError",
     "evalue": "No module named 'GSForge'",
     "output_type": "error",
     "traceback": [
      "\u001b[0;31m---------------------------------------------------------------------------\u001b[0m",
      "\u001b[0;31mModuleNotFoundError\u001b[0m                       Traceback (most recent call last)",
      "\u001b[0;32m<ipython-input-1-46ad63757dc8>\u001b[0m in \u001b[0;36m<module>\u001b[0;34m\u001b[0m\n\u001b[1;32m      3\u001b[0m \u001b[0;32mfrom\u001b[0m \u001b[0msklearn\u001b[0m\u001b[0;34m.\u001b[0m\u001b[0mensemble\u001b[0m \u001b[0;32mimport\u001b[0m \u001b[0mRandomForestClassifier\u001b[0m\u001b[0;34m\u001b[0m\u001b[0;34m\u001b[0m\u001b[0m\n\u001b[1;32m      4\u001b[0m \u001b[0;34m\u001b[0m\u001b[0m\n\u001b[0;32m----> 5\u001b[0;31m \u001b[0;32mimport\u001b[0m \u001b[0mGSForge\u001b[0m \u001b[0;32mas\u001b[0m \u001b[0mgsf\u001b[0m\u001b[0;34m\u001b[0m\u001b[0;34m\u001b[0m\u001b[0m\n\u001b[0m\u001b[1;32m      6\u001b[0m \u001b[0;34m\u001b[0m\u001b[0m\n\u001b[1;32m      7\u001b[0m \u001b[0mhv\u001b[0m\u001b[0;34m.\u001b[0m\u001b[0mextension\u001b[0m\u001b[0;34m(\u001b[0m\u001b[0;34m\"bokeh\"\u001b[0m\u001b[0;34m)\u001b[0m\u001b[0;34m\u001b[0m\u001b[0;34m\u001b[0m\u001b[0m\n",
      "\u001b[0;31mModuleNotFoundError\u001b[0m: No module named 'GSForge'"
     ]
    }
   ],
   "source": [
    "import holoviews as hv\n",
    "from sklearn import model_selection\n",
    "from sklearn.ensemble import RandomForestClassifier\n",
    "\n",
    "import GSForge as gsf\n",
    "\n",
    "hv.extension(\"bokeh\")"
   ]
  },
  {
   "cell_type": "markdown",
   "metadata": {},
   "source": [
    "***Declare paths used***"
   ]
  },
  {
   "cell_type": "code",
   "execution_count": null,
   "metadata": {
    "collapsed": false,
    "jupyter": {
     "outputs_hidden": false
    },
    "pycharm": {
     "is_executing": false,
     "name": "#%%\n"
    }
   },
   "outputs": [],
   "source": [
    "# OS-independent path management.\n",
    "from os import  environ\n",
    "from pathlib import Path"
   ]
  },
  {
   "cell_type": "code",
   "execution_count": null,
   "metadata": {},
   "outputs": [],
   "source": [
    "OSF_PATH = Path(environ.get(\"GSFORGE_DEMO_DATA\", default=\"~/GSForge_demo_data/osfstorage\")).expanduser()\n",
    "HYDRO_GEM_PATH = OSF_PATH.joinpath(\"AnnotatedGEMs\", \"oryza_sativa_hydro_raw.nc\")\n",
    "LIT_DGE_GSC_PATH = OSF_PATH.joinpath(\"Collections\", \"literature\", \"DGE\")\n",
    "LIT_TF_PATH = OSF_PATH.joinpath(\"Collections\", \"literature\", \"TF\")\n",
    "BORUTA_GSC_PATH = OSF_PATH.joinpath(\"Collections\", \"boruta\")\n",
    "NF_BORUTA = OSF_PATH.joinpath(\"Collections\", \"nf_boruta\")\n",
    "\n",
    "assert HYDRO_GEM_PATH.exists()"
   ]
  },
  {
   "cell_type": "markdown",
   "metadata": {},
   "source": [
    "***Load an AnnotatedGEM***"
   ]
  },
  {
   "cell_type": "code",
   "execution_count": null,
   "metadata": {},
   "outputs": [],
   "source": [
    "agem = gsf.AnnotatedGEM(HYDRO_GEM_PATH)\n",
    "agem"
   ]
  },
  {
   "cell_type": "markdown",
   "metadata": {},
   "source": [
    "***Load GeneSetCollections***"
   ]
  },
  {
   "cell_type": "code",
   "execution_count": null,
   "metadata": {},
   "outputs": [],
   "source": [
    "%%time\n",
    "lit_dge_coll = gsf.GeneSetCollection.from_folder(gem=agem, target_dir=LIT_DGE_GSC_PATH, name=\"Literature DGE\")\n",
    "lit_tf_coll = gsf.GeneSetCollection.from_folder(gem=agem, target_dir=LIT_TF_PATH, name=\"Literature TF\")\n",
    "boruta_gsc = gsf.GeneSetCollection.from_folder(gem=agem, target_dir=BORUTA_GSC_PATH, name=\"Boruta Results\")\n",
    "boruta_nf_gsc = gsf.GeneSetCollection.from_folder(gem=agem, target_dir=NF_BORUTA, name=\"Boruta Results\")\n",
    "tf_geneset = gsf.GeneSet.from_GeneSets(*list(lit_tf_coll.gene_sets.values()), name='transcription factors')"
   ]
  },
  {
   "cell_type": "markdown",
   "metadata": {},
   "source": [
    "### Create a Merged Collection\n",
    "\n",
    "Since there are so many sets within the transcription factor collection, we will combine them into a single set."
   ]
  },
  {
   "cell_type": "code",
   "execution_count": null,
   "metadata": {},
   "outputs": [],
   "source": [
    "tf_geneset = gsf.GeneSet.from_GeneSets(*list(lit_tf_coll.gene_sets.values()), name='transcription factors')\n",
    "tf_geneset"
   ]
  },
  {
   "cell_type": "code",
   "execution_count": null,
   "metadata": {
    "pycharm": {
     "is_executing": false
    }
   },
   "outputs": [],
   "source": [
    "combined_gsc = gsf.GeneSetCollection(gem=agem, gene_sets={**boruta_gsc.gene_sets, \n",
    "                                                          **lit_dge_coll.gene_sets,\n",
    "                                                          'transcription factors': tf_geneset})"
   ]
  },
  {
   "cell_type": "markdown",
   "metadata": {},
   "source": [
    "### View Collection Overlaps"
   ]
  },
  {
   "cell_type": "code",
   "execution_count": null,
   "metadata": {},
   "outputs": [],
   "source": [
    "gsf.plots.collections.UpsetPlotInterface(combined_gsc)"
   ]
  },
  {
   "cell_type": "code",
   "execution_count": null,
   "metadata": {},
   "outputs": [],
   "source": []
  },
  {
   "cell_type": "code",
   "execution_count": null,
   "metadata": {},
   "outputs": [],
   "source": [
    "overlap_heatmap = gsf.plots.collections.WithinCollectionOverlapHeatMap(combined_gsc)\n",
    "percent_overlap_heatmap = gsf.plots.collections.WithinCollectionOverlapHeatMap(combined_gsc, mode='percent')\n",
    "\n",
    "(overlap_heatmap + percent_overlap_heatmap).opts(hv.opts.HeatMap(width=550, height=500))"
   ]
  },
  {
   "cell_type": "markdown",
   "metadata": {},
   "source": [
    "## Compare Gene Selections using Machine-Learning Models\n",
    "\n",
    "We can estimate how well a given subset of genes 'describes' a sample (phenotype) label by comparing how well they perform using a given machine learning model.\n",
    "\n",
    "In the example below, a simple random forest is used."
   ]
  },
  {
   "cell_type": "code",
   "execution_count": null,
   "metadata": {},
   "outputs": [],
   "source": [
    "# results = {}\n",
    "\n",
    "\n",
    "# for collection in [\"Boruta_Treatment\", \"deseq2_treatment\"]:\n",
    "    \n",
    "#     counts, treatment = gsf.get_gem_data(combined_gsc, selected_gene_sets=[collection], annotation_variables=\"Treatment\")\n",
    "    \n",
    "#     x_train, x_test, y_train, y_test = model_selection.train_test_split(counts, treatment)\n",
    "    \n",
    "#     rf_cls_model = RandomForestClassifier(\n",
    "#         class_weight='balanced',\n",
    "#         n_estimators=1000, \n",
    "#         n_jobs=-1)\n",
    "\n",
    "#     rf_cls_model.fit(x_train, y_train)\n",
    "    \n",
    "#     results[collection] = rf_cls_model.score(x_test, y_test)"
   ]
  },
  {
   "cell_type": "markdown",
   "metadata": {},
   "source": [
    "Train on the complete gene set."
   ]
  },
  {
   "cell_type": "code",
   "execution_count": null,
   "metadata": {},
   "outputs": [],
   "source": [
    "# gsf.get_gem_data(combined_gsc, annotation_variables=\"Treatment\")"
   ]
  },
  {
   "cell_type": "code",
   "execution_count": null,
   "metadata": {},
   "outputs": [],
   "source": [
    "counts, treatment = gsf.get_gem_data(combined_gsc, annotation_variables=[\"Treatment\"])\n",
    "\n",
    "x_train, x_test, y_train, y_test = model_selection.train_test_split(counts, treatment)\n",
    "\n",
    "rf_cls_model = RandomForestClassifier(\n",
    "    class_weight='balanced',\n",
    "    n_estimators=1000, \n",
    "    n_jobs=-1)\n",
    "\n",
    "rf_cls_model.fit(x_train, y_train)\n",
    "\n",
    "results[\"complete\"] = rf_cls_model.score(x_test, y_test)"
   ]
  },
  {
   "cell_type": "code",
   "execution_count": null,
   "metadata": {},
   "outputs": [],
   "source": [
    "results"
   ]
  },
  {
   "cell_type": "code",
   "execution_count": null,
   "metadata": {},
   "outputs": [],
   "source": [
    "hv.Bars(results, kdims=[\"Gene Selection Group\"]\n",
    "       ).opts(xrotation=90, invert_axes=True, width=600, ylim=(0, 1.1))"
   ]
  },
  {
   "cell_type": "markdown",
   "metadata": {},
   "source": [
    "This does really mean that one set is more complete, or better than another.\n",
    "Keep in mind:\n",
    "\n",
    "+ A similar model was used to 'select' the features as was used to 'test'.\n",
    "+ This has nothing (directly) to do with biology.\n",
    "+ Model scores may not be stable.\n",
    "\n",
    "With the above (and more) considerations in mind:\n",
    "+ A 'good' selection should preform better than using the entire dataset.\n",
    "+ Our selection should be better than guessing, or a random gene set of similar size."
   ]
  }
 ],
 "metadata": {
  "kernelspec": {
   "display_name": "gsfenv",
   "language": "python",
   "name": "gsfenv"
  },
  "language_info": {
   "codemirror_mode": {
    "name": "ipython",
    "version": 3
   },
   "file_extension": ".py",
   "mimetype": "text/x-python",
   "name": "python",
   "nbconvert_exporter": "python",
   "pygments_lexer": "ipython3",
   "version": "3.7.9"
  }
 },
 "nbformat": 4,
 "nbformat_minor": 4
}
