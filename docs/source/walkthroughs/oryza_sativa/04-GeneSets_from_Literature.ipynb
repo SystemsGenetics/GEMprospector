{
 "cells": [
  {
   "cell_type": "markdown",
   "id": "64cf40b9",
   "metadata": {},
   "source": [
    "# Creating `GeneSet`s from Literature Sources"
   ]
  },
  {
   "cell_type": "markdown",
   "id": "47345f45",
   "metadata": {},
   "source": [
    "Recall that the minumum requirement for `GeneSet` creation is simply a list of genes."
   ]
  },
  {
   "cell_type": "markdown",
   "id": "66f2ce06",
   "metadata": {},
   "source": [
    "***Setting up the notebook***"
   ]
  },
  {
   "cell_type": "code",
   "execution_count": null,
   "id": "f4a789e6",
   "metadata": {},
   "outputs": [],
   "source": [
    "import holoviews as hv\n",
    "import numpy as np\n",
    "import pandas as pd\n",
    "hv.extension(\"bokeh\")\n",
    "\n",
    "import GSForge as gsf"
   ]
  },
  {
   "cell_type": "markdown",
   "id": "865a9f5a",
   "metadata": {},
   "source": [
    "***Declaring used paths***"
   ]
  },
  {
   "cell_type": "code",
   "execution_count": null,
   "id": "0d7d1be7",
   "metadata": {
    "jupyter": {
     "outputs_hidden": false
    },
    "pycharm": {
     "is_executing": false,
     "name": "#%%\n"
    }
   },
   "outputs": [],
   "source": [
    "# OS-independent path management.\n",
    "from os import  environ\n",
    "from pathlib import Path"
   ]
  },
  {
   "cell_type": "code",
   "execution_count": null,
   "id": "03351402",
   "metadata": {},
   "outputs": [],
   "source": [
    "OSF_PATH = Path(environ.get(\"GSFORGE_DEMO_DATA\", default=\"~/GSForge_demo_data/osfstorage/oryza_sativa\")).expanduser()\n",
    "SI_FILE_1_PATH = OSF_PATH.joinpath('GEMmakerGEMs', 'raw_annotation_data', 'TPC2016-00158-LSBR2_Supplemental_File_1.csv')\n",
    "SI_FILE_5_PATH = OSF_PATH.joinpath('GEMmakerGEMs', 'raw_annotation_data', 'TPC2016-00158-LSBR2_Supplemental_File_5.txt')\n",
    "GEM_PATH = OSF_PATH.joinpath(\"AnnotatedGEMs\", \"oryza_sativa_raw.nc\")\n",
    "LITERATURE_COLL_PATH = OSF_PATH.joinpath('GeneSetCollections', 'literature')"
   ]
  },
  {
   "cell_type": "markdown",
   "id": "592d0263",
   "metadata": {},
   "source": [
    "***Load an AnnotatedGEM***"
   ]
  },
  {
   "cell_type": "code",
   "execution_count": null,
   "id": "0829168d",
   "metadata": {},
   "outputs": [],
   "source": [
    "agem = gsf.AnnotatedGEM(GEM_PATH)\n",
    "agem"
   ]
  },
  {
   "cell_type": "markdown",
   "id": "034a6a87",
   "metadata": {},
   "source": [
    "## Load Data"
   ]
  },
  {
   "cell_type": "code",
   "execution_count": null,
   "id": "2daa39da",
   "metadata": {},
   "outputs": [],
   "source": [
    "with open(SI_FILE_1_PATH) as myfile:\n",
    "    head = ''.join([next(myfile) for x in range(6)])\n",
    "print(head)"
   ]
  },
  {
   "cell_type": "code",
   "execution_count": null,
   "id": "1feaede6",
   "metadata": {},
   "outputs": [],
   "source": [
    "si1_df = pd.read_csv(SI_FILE_1_PATH, skiprows=3, index_col=0)\n",
    "si1_df.head()"
   ]
  },
  {
   "cell_type": "code",
   "execution_count": null,
   "id": "a10ada99",
   "metadata": {},
   "outputs": [],
   "source": [
    "agem.data.Gene"
   ]
  },
  {
   "cell_type": "code",
   "execution_count": null,
   "id": "81359f13",
   "metadata": {},
   "outputs": [],
   "source": [
    "with open(SI_FILE_5_PATH) as myfile:\n",
    "    head = ''.join([next(myfile) for x in range(6)])\n",
    "print(head)"
   ]
  },
  {
   "cell_type": "code",
   "execution_count": null,
   "id": "66595e6f",
   "metadata": {},
   "outputs": [],
   "source": [
    "si5_df = pd.read_csv(SI_FILE_5_PATH, skiprows=2, index_col=0, sep='\\t')\n",
    "si5_df.head()"
   ]
  },
  {
   "cell_type": "markdown",
   "id": "258b9f2e",
   "metadata": {},
   "source": [
    "## Wrangle Data and Create Collections\n",
    "\n",
    "At the very least we need a name and a list of genes."
   ]
  },
  {
   "cell_type": "code",
   "execution_count": null,
   "id": "4b3f8c16",
   "metadata": {},
   "outputs": [],
   "source": [
    "# genes = agem.data.Gene.to_series()\n",
    "# genes[genes.str.contains('ChrSy.fgenesh.*.37')]  # ChrSy.fgenesh.gene.37"
   ]
  },
  {
   "cell_type": "code",
   "execution_count": null,
   "id": "a223d37e",
   "metadata": {},
   "outputs": [],
   "source": [
    "# mappings = {'ChrSy.fgenesh.gene.37': 'ChrSy.fgenesh.mRNA.37'}\n",
    "\n",
    "\n",
    "# def parse_gene_splices(gene, gene_index: pd.Series, replacement_mappings=mappings):\n",
    "#     \"\"\"Convert to an existing splice site, if possible.\"\"\"\n",
    "#     if gene in gene_index:\n",
    "#         return gene\n",
    "    \n",
    "#     for splice_site in range(1, 4):\n",
    "#         gene_splice = f'{gene}.{splice_site}'\n",
    "#         if gene_splice in gene_index:\n",
    "#             return gene_splice\n",
    "        \n",
    "#     if replacement_mappings is not None:\n",
    "#         if replacement_mappings.get(gene):\n",
    "#             return replacement_mappings.get(gene)\n",
    "        \n",
    "#     return gene"
   ]
  },
  {
   "cell_type": "code",
   "execution_count": null,
   "id": "2ff571a2",
   "metadata": {},
   "outputs": [],
   "source": [
    "lit_dge_coll = gsf.GeneSetCollection(gem=agem, name='Literature DGE')\n",
    "\n",
    "for col in si1_df.columns:\n",
    "    genes = si1_df[si1_df[col] > 0].index.values\n",
    "#     genes = np.asarray([parse_gene_splices(gene, agem.data.Gene.to_series())\n",
    "#                         for gene in genes])\n",
    "    \n",
    "    diff = np.setdiff1d(genes, agem.data.Gene.values)\n",
    "    if diff.shape[0] > 0:\n",
    "        print(diff)\n",
    "    \n",
    "    lit_dge_coll[col] = gsf.GeneSet.from_gene_array(genes, name=col)\n",
    "    \n",
    "lit_dge_coll\n",
    "# genes"
   ]
  },
  {
   "cell_type": "code",
   "execution_count": null,
   "id": "47d0ea48",
   "metadata": {},
   "outputs": [],
   "source": [
    "lit_tf_coll = gsf.GeneSetCollection(gem=agem, name='Literature Transcription Factors')\n",
    "\n",
    "for name, values in si5_df.iterrows():\n",
    "    genes = np.asarray(values.values[0].split(','))\n",
    "    genes = np.asarray([parse_gene_splices(gene, agem.data.Gene.to_series())\n",
    "                        for gene in genes])\n",
    "    lit_tf_coll[name] = gsf.GeneSet.from_gene_array(genes, name=name)\n",
    "    \n",
    "    diff = np.setdiff1d(genes, agem.data.Gene.values)\n",
    "    if diff.shape[0] > 0:\n",
    "        print(diff)\n",
    "    \n",
    "lit_tf_coll"
   ]
  },
  {
   "cell_type": "code",
   "execution_count": null,
   "id": "2c24a5d5",
   "metadata": {},
   "outputs": [],
   "source": [
    "lit_tf_coll['pred.group.8'].gene_support()"
   ]
  },
  {
   "cell_type": "code",
   "execution_count": null,
   "id": "7b97a14d",
   "metadata": {},
   "outputs": [],
   "source": [
    "lit_dge_coll.save(LITERATURE_COLL_PATH.joinpath('DGE'))"
   ]
  },
  {
   "cell_type": "code",
   "execution_count": null,
   "id": "b3f6b8be",
   "metadata": {},
   "outputs": [],
   "source": [
    "lit_tf_coll.save(LITERATURE_COLL_PATH.joinpath('TF'))"
   ]
  },
  {
   "cell_type": "code",
   "execution_count": null,
   "id": "8a94fb04",
   "metadata": {},
   "outputs": [],
   "source": []
  }
 ],
 "metadata": {
  "kernelspec": {
   "display_name": "gsfenv",
   "language": "python",
   "name": "gsfenv"
  }
 },
 "nbformat": 4,
 "nbformat_minor": 5
}
