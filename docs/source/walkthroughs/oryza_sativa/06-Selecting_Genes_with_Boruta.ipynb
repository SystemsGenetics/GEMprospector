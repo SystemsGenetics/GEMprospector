{
 "cells": [
  {
   "cell_type": "markdown",
   "id": "701474b1",
   "metadata": {},
   "source": [
    "# Selecting Genes with Boruta and Random Forests"
   ]
  },
  {
   "cell_type": "markdown",
   "id": "77b2df7e",
   "metadata": {},
   "source": [
    "*This notebook descbites howo to select genes (features) of importance using Random Forests through the Boruta algorithm.*\n",
    "\n",
    "**Background information**:\n",
    "+ Random Forests\n",
    "    + The [sklearn model used](https://scikit-learn.org/stable/modules/generated/sklearn.ensemble.RandomForestClassifier.html)\n",
    "    + [The excellent sklearn user guide](https://scikit-learn.org/stable/user_guide.html)\n",
    "+ [Python Boruta algorithm](https://github.com/scikit-learn-contrib/boruta_py)\n",
    "\n",
    "---"
   ]
  },
  {
   "cell_type": "markdown",
   "id": "fd277465",
   "metadata": {},
   "source": [
    "***Setting up the notebook***"
   ]
  },
  {
   "cell_type": "code",
   "execution_count": null,
   "id": "596d8e3e",
   "metadata": {},
   "outputs": [],
   "source": [
    "# OS-independent path management.\n",
    "from os import  environ\n",
    "from pathlib import Path\n",
    "\n",
    "import holoviews as hv\n",
    "hv.extension(\"bokeh\")\n",
    "%matplotlib inline\n",
    "\n",
    "import GSForge as gsf"
   ]
  },
  {
   "cell_type": "markdown",
   "id": "aa89eae6",
   "metadata": {},
   "source": [
    "***Declaring used paths***"
   ]
  },
  {
   "cell_type": "code",
   "execution_count": null,
   "id": "ef9667e7",
   "metadata": {},
   "outputs": [],
   "source": [
    "OSF_PATH = Path(environ.get(\"GSFORGE_DEMO_DATA\", default=\"~/GSForge_demo_data/osfstorage/oryza_sativa\")).expanduser()\n",
    "HYDRO_GEM_PATH = OSF_PATH.joinpath(\"AnnotatedGEMs\", \"oryza_sativa_hydro_raw.nc\")\n",
    "assert HYDRO_GEM_PATH.exists()"
   ]
  },
  {
   "cell_type": "markdown",
   "id": "c4089330",
   "metadata": {},
   "source": [
    "***Loading a demo AnnotatedGEM***"
   ]
  },
  {
   "cell_type": "code",
   "execution_count": null,
   "id": "0e941ca0",
   "metadata": {},
   "outputs": [],
   "source": [
    "agem = gsf.AnnotatedGEM(HYDRO_GEM_PATH)\n",
    "agem"
   ]
  },
  {
   "cell_type": "code",
   "execution_count": null,
   "id": "f6ee3b30",
   "metadata": {},
   "outputs": [],
   "source": [
    "agem.data"
   ]
  },
  {
   "cell_type": "markdown",
   "id": "e76f6d9b",
   "metadata": {},
   "source": [
    "## Finding Genes\n",
    "\n",
    "Selecting relevent genes of importance (something that requires further experimentation to confirm) is not simple.\n",
    "But we can make it appear so, by demonstrating the boruta feature selection method to construct a `GSForge.GeneSet`.\n",
    "\n",
    "First we will need a model that, when trained, can rank or infer feature importance:"
   ]
  },
  {
   "cell_type": "code",
   "execution_count": null,
   "id": "fae17166",
   "metadata": {
    "pycharm": {
     "is_executing": false
    }
   },
   "outputs": [],
   "source": [
    "from sklearn.ensemble import RandomForestClassifier"
   ]
  },
  {
   "cell_type": "code",
   "execution_count": null,
   "id": "cc48404d",
   "metadata": {
    "pycharm": {
     "is_executing": false
    }
   },
   "outputs": [],
   "source": [
    "selecting_model = RandomForestClassifier(\n",
    "    class_weight='balanced',\n",
    "    max_depth=4, \n",
    "    n_estimators=1000, \n",
    "    n_jobs=-1)"
   ]
  },
  {
   "cell_type": "markdown",
   "id": "a45b57b2",
   "metadata": {},
   "source": [
    "Now we can run the boruta feature selection method.\n",
    "The parameters selected here a set for a speedy run time only."
   ]
  },
  {
   "cell_type": "code",
   "execution_count": null,
   "id": "98b3c6ca",
   "metadata": {
    "pycharm": {
     "is_executing": false
    }
   },
   "outputs": [],
   "source": [
    "%%time\n",
    "boruta_result = gsf.operations.BorutaProspector(\n",
    "    agem, \n",
    "    estimator=selecting_model, \n",
    "    annotation_variables=\"treatment\",\n",
    "    max_iter=5,\n",
    "    perc=95)"
   ]
  },
  {
   "cell_type": "markdown",
   "id": "57881e03",
   "metadata": {},
   "source": [
    "This produces an `xarray.Dataset` object."
   ]
  },
  {
   "cell_type": "code",
   "execution_count": null,
   "id": "46d04a01",
   "metadata": {},
   "outputs": [],
   "source": [
    "boruta_result"
   ]
  },
  {
   "cell_type": "markdown",
   "id": "93a5a94e",
   "metadata": {},
   "source": [
    "You can determine if the boruta algorithm needs more iterations by checking the contents of `support_weak`; increase the `max_iter` until all features have been resolved."
   ]
  },
  {
   "cell_type": "code",
   "execution_count": null,
   "id": "1df42416",
   "metadata": {},
   "outputs": [],
   "source": [
    "boruta_result.support_weak.sum().values"
   ]
  },
  {
   "cell_type": "markdown",
   "id": "9ecfd4f8",
   "metadata": {},
   "source": [
    "### Creating a GeneSet from the result\n",
    "\n",
    "Consider any metadata that should be stored, and add that to the `xarray.Dataset` result using `assign_attrs()`\n",
    "\n",
    "```python\n",
    "attrs = {\"selection_model\": str(selecting_model)}\n",
    "boruta_result = boruta_result.assign_attrs(attrs)\n",
    "```"
   ]
  },
  {
   "cell_type": "markdown",
   "id": "99e1ce0e",
   "metadata": {},
   "source": [
    "You will need to convert nested dictionaries into json strings.\n",
    "\n",
    "After the object is created you can easily see the number and percent of genes selected:"
   ]
  },
  {
   "cell_type": "code",
   "execution_count": null,
   "id": "1f91ee69",
   "metadata": {},
   "outputs": [],
   "source": [
    "boruta_treatment_gs = gsf.GeneSet(boruta_result, name=\"Boruta Treatment\")\n",
    "boruta_treatment_gs"
   ]
  },
  {
   "cell_type": "markdown",
   "id": "9b917f47",
   "metadata": {},
   "source": [
    "## Using a `GeneSetCollection`\n",
    "\n",
    "For running more than one boruta model in the notebook, we recommend creating them in a loop, and adding them to a collection, as demonstrated below."
   ]
  },
  {
   "cell_type": "code",
   "execution_count": null,
   "id": "526ce5e6",
   "metadata": {},
   "outputs": [],
   "source": [
    "%%time\n",
    "\n",
    "boruta_gsc = gsf.GeneSetCollection(gem=agem)\n",
    "\n",
    "for target in [\"treatment\", \"genotype\"]:\n",
    "    boruta_treatment_ds = gsf.operations.BorutaProspector(\n",
    "        agem,\n",
    "        estimator=selecting_model,\n",
    "        annotation_variables=target,\n",
    "        perc=100,\n",
    "        max_iter=25)\n",
    "    \n",
    "    boruta_gsc[target] = gsf.GeneSet(boruta_treatment_ds, name=f\"Boruta_{target}\")"
   ]
  },
  {
   "cell_type": "code",
   "execution_count": null,
   "id": "52f2942a",
   "metadata": {},
   "outputs": [],
   "source": [
    "for key, geneset in boruta_gsc.gene_sets.items():\n",
    "    print(geneset.data.support_weak.sum().values)"
   ]
  }
 ],
 "metadata": {
  "kernelspec": {
   "display_name": "gsfenv",
   "language": "python",
   "name": "gsfenv"
  }
 },
 "nbformat": 4,
 "nbformat_minor": 5
}
