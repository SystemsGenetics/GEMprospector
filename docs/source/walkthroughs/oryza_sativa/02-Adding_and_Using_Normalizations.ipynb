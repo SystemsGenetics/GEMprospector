{
 "cells": [
  {
   "cell_type": "markdown",
   "id": "c3602f40",
   "metadata": {},
   "source": [
    "## 02 Saving Normalizations to AnnotatedGEMs\n",
    "\n",
    "This notebook is a *how-to* guide on normalizing gene expression matrices using GSForge.\n",
    "It does not cover considerations as to which normalization should be preformed.\n",
    "\n",
    "Recall that .netcdf files cannot be modified once written; meaning the choice to add a normalized count matrix\n",
    "should be considered carefully. Normalizations that are not 'reversible' are good candidates to save to an\n",
    "`AnnotatedGEM` object; as they may require other data (i.e. gene lengths). Many other\n",
    "normalization methods can be run 'as-needed'.\n",
    "\n",
    "\n",
    "***Set up the notebook***"
   ]
  },
  {
   "cell_type": "code",
   "execution_count": null,
   "id": "7c382f60",
   "metadata": {},
   "outputs": [],
   "source": [
    "import pandas as pd\n",
    "import xarray as xr\n",
    "import umap\n",
    "import umap.plot\n",
    "import sklearn.preprocessing\n",
    "import GSForge as gsf\n",
    "import holoviews as hv\n",
    "hv.extension(\"bokeh\")"
   ]
  },
  {
   "cell_type": "markdown",
   "id": "cac127fe",
   "metadata": {},
   "source": [
    "***Declare used paths***"
   ]
  },
  {
   "cell_type": "code",
   "execution_count": null,
   "id": "68ebaf32",
   "metadata": {},
   "outputs": [],
   "source": [
    "# OS-independent path management.\n",
    "from os import  environ\n",
    "from pathlib import Path"
   ]
  },
  {
   "cell_type": "code",
   "execution_count": null,
   "id": "30fe4218",
   "metadata": {},
   "outputs": [],
   "source": [
    "OSF_PATH = Path(environ.get(\"GSFORGE_DEMO_DATA\", default=\"~/GSForge_demo_data/osfstorage/oryza_sativa\")).expanduser()\n",
    "GEM_PATH = OSF_PATH.joinpath(\"AnnotatedGEMs\", \"oryza_sativa_raw.nc\")\n",
    "TPM_GEM_PATH = OSF_PATH.joinpath(\"GEMmakerGEMs\", \"rice_heat_drought.GEM.TPM.txt\")"
   ]
  },
  {
   "cell_type": "markdown",
   "id": "b0ea2ded",
   "metadata": {},
   "source": [
    "Declare an path to which the created `.nc` file will saved."
   ]
  },
  {
   "cell_type": "code",
   "execution_count": null,
   "id": "f8e47800",
   "metadata": {},
   "outputs": [],
   "source": [
    "NORMED_GEM_PATH = OSF_PATH.joinpath(\"AnnotatedGEMs\", \"oryza_sativa_hydro_hisat2_normed.nc\")\n",
    "NORMED_GEM_PATH"
   ]
  },
  {
   "cell_type": "markdown",
   "id": "d70b4419",
   "metadata": {},
   "source": [
    "***Load an AnnotatedGEM***"
   ]
  },
  {
   "cell_type": "code",
   "execution_count": null,
   "id": "07369ff0",
   "metadata": {},
   "outputs": [],
   "source": [
    "agem = gsf.AnnotatedGEM(GEM_PATH)\n",
    "agem"
   ]
  },
  {
   "cell_type": "markdown",
   "id": "8e9d1604",
   "metadata": {},
   "source": [
    "---"
   ]
  },
  {
   "cell_type": "markdown",
   "id": "6e4739e7",
   "metadata": {},
   "source": [
    "### Adding Normalizations to an AnnotatedGEM"
   ]
  },
  {
   "cell_type": "markdown",
   "id": "0f4271dc",
   "metadata": {},
   "source": [
    "Here we demonstrate adding an externally generated (TPM) counts to an existing `AnnotatedGEM` object."
   ]
  },
  {
   "cell_type": "code",
   "execution_count": null,
   "id": "8192212c",
   "metadata": {},
   "outputs": [],
   "source": [
    "%%time\n",
    "tpm_count_df = pd.read_csv(TPM_GEM_PATH, sep=\"\\t\", index_col=0)"
   ]
  },
  {
   "cell_type": "code",
   "execution_count": null,
   "id": "0608238a",
   "metadata": {},
   "outputs": [],
   "source": [
    "tpm_count_df.head()"
   ]
  },
  {
   "cell_type": "markdown",
   "id": "be813283",
   "metadata": {},
   "source": [
    "There is a `pandas.DataFrame.to_xarray()` function, but the coordinates are not quite what we want.\n",
    "Instead we can generate an `xarray.DataArray` quickly through the standard creation call."
   ]
  },
  {
   "cell_type": "code",
   "execution_count": null,
   "id": "7bb5a06b",
   "metadata": {},
   "outputs": [],
   "source": [
    "tpm_counts = xr.Dataset(\n",
    "    data_vars={\"TPM_counts\": ((\"Sample\", \"Gene\"), tpm_count_df.values.transpose())},\n",
    "    coords={\n",
    "        \"Sample\": tpm_count_df.columns.values,\n",
    "        \"Gene\": tpm_count_df.index.values\n",
    "    }\n",
    ")\n",
    "tpm_counts"
   ]
  },
  {
   "cell_type": "markdown",
   "id": "60f9eb07",
   "metadata": {},
   "source": [
    "Adding to the existing gem `xarray.Dataset` can be done via a call to `update()`."
   ]
  },
  {
   "cell_type": "code",
   "execution_count": null,
   "id": "fde1ade5",
   "metadata": {},
   "outputs": [],
   "source": [
    "agem.data.update(tpm_counts)"
   ]
  },
  {
   "cell_type": "code",
   "execution_count": null,
   "id": "f33392cf",
   "metadata": {},
   "outputs": [],
   "source": [
    "agem.count_array_names"
   ]
  },
  {
   "cell_type": "code",
   "execution_count": null,
   "id": "8af6b335",
   "metadata": {},
   "outputs": [],
   "source": [
    "%%time\n",
    "uq_raw_counts = gsf.operations.UpperQuartile(agem)"
   ]
  },
  {
   "cell_type": "code",
   "execution_count": null,
   "id": "98266d85",
   "metadata": {},
   "outputs": [],
   "source": [
    "%%time\n",
    "uq_tpm_counts = gsf.operations.UpperQuartile(agem, count_variable='TPM_counts')"
   ]
  },
  {
   "cell_type": "markdown",
   "id": "d882eb01",
   "metadata": {},
   "source": [
    "We can also use dictionary-like assignment."
   ]
  },
  {
   "cell_type": "code",
   "execution_count": null,
   "id": "b7d66605",
   "metadata": {},
   "outputs": [],
   "source": [
    "agem.data[\"uq_raw_counts\"] = uq_raw_counts\n",
    "agem.data[\"uq_tpm_counts\"] = uq_tpm_counts\n",
    "agem.count_array_names"
   ]
  },
  {
   "cell_type": "markdown",
   "id": "2c1fe298",
   "metadata": {},
   "source": [
    "#### Normalizations from Scikit-Learn"
   ]
  },
  {
   "cell_type": "markdown",
   "id": "182b30c5",
   "metadata": {},
   "source": [
    "***Select counts using `get_gem_data()`***"
   ]
  },
  {
   "cell_type": "code",
   "execution_count": null,
   "id": "d394e19b",
   "metadata": {},
   "outputs": [],
   "source": [
    "counts, _ = gsf.get_gem_data(agem)"
   ]
  },
  {
   "cell_type": "code",
   "execution_count": null,
   "id": "73c0f118",
   "metadata": {},
   "outputs": [],
   "source": [
    "%%time\n",
    "quantile_counts = sklearn.preprocessing.quantile_transform(counts, axis=1, output_distribution='normal', copy=True)\n",
    "quantile_counts = xr.DataArray(quantile_counts, coords=counts.coords)"
   ]
  },
  {
   "cell_type": "code",
   "execution_count": null,
   "id": "020a44cb",
   "metadata": {},
   "outputs": [],
   "source": [
    "agem.data[\"quantile_counts\"] = quantile_counts\n",
    "agem.count_array_names"
   ]
  },
  {
   "cell_type": "markdown",
   "id": "6baec786",
   "metadata": {},
   "source": [
    "### Using R to Normalize GEMs\n",
    "\n",
    "See TODO for more information and examples on interacting with R."
   ]
  },
  {
   "cell_type": "markdown",
   "id": "4e5df982",
   "metadata": {},
   "source": [
    "***R integration setup***"
   ]
  },
  {
   "cell_type": "code",
   "execution_count": null,
   "id": "869a7c61",
   "metadata": {},
   "outputs": [],
   "source": [
    "import rpy2.rinterface_lib.callbacks\n",
    "import logging\n",
    "from rpy2.robjects import pandas2ri\n",
    "%load_ext rpy2.ipython\n",
    "pandas2ri.activate()\n",
    "rpy2.rinterface_lib.callbacks.logger.setLevel(logging.ERROR) # Supresses verbose R output."
   ]
  },
  {
   "cell_type": "code",
   "execution_count": null,
   "id": "22644aca",
   "metadata": {},
   "outputs": [],
   "source": [
    "%%R\n",
    "library(\"edgeR\")"
   ]
  },
  {
   "cell_type": "markdown",
   "id": "b0e4ceb1",
   "metadata": {},
   "source": [
    "***Select counts using `get_gem_data()`***"
   ]
  },
  {
   "cell_type": "code",
   "execution_count": null,
   "id": "6c11d9c8",
   "metadata": {},
   "outputs": [],
   "source": [
    "counts, _ = gsf.get_gem_data(agem)"
   ]
  },
  {
   "cell_type": "markdown",
   "id": "c9318a10",
   "metadata": {},
   "source": [
    "***Prepare the counts for R***\n",
    "\n",
    "Notice the counts are transposed after this step to a form more common in R. (features by samples)."
   ]
  },
  {
   "cell_type": "code",
   "execution_count": null,
   "id": "00dc4bbf",
   "metadata": {},
   "outputs": [],
   "source": [
    "ri_counts = gsf.utils.R_interface.Py_counts_to_R(counts)\n",
    "ri_counts.shape"
   ]
  },
  {
   "cell_type": "markdown",
   "id": "4ace11b3",
   "metadata": {},
   "source": [
    "***Run the normalization within R***"
   ]
  },
  {
   "cell_type": "code",
   "execution_count": null,
   "id": "22736b50",
   "metadata": {},
   "outputs": [],
   "source": [
    "%%R -i ri_counts -o tmm_counts\n",
    "\n",
    "dge_list <- DGEList(counts=ri_counts)\n",
    "dge_list <- calcNormFactors(dge_list, method=\"TMM\")\n",
    "tmm_counts <- cpm(dge_list, normalized.lib.sizes=TRUE, log=FALSE)"
   ]
  },
  {
   "cell_type": "code",
   "execution_count": null,
   "id": "b8841a60",
   "metadata": {},
   "outputs": [],
   "source": [
    "tmm_counts = xr.DataArray(tmm_counts.T, coords=counts.coords, name='tmm_counts')\n",
    "tmm_counts"
   ]
  },
  {
   "cell_type": "markdown",
   "id": "201440dc",
   "metadata": {},
   "source": [
    "***Add the counts to the GEM .data attribute.***"
   ]
  },
  {
   "cell_type": "code",
   "execution_count": null,
   "id": "77cf3842",
   "metadata": {},
   "outputs": [],
   "source": [
    "agem.data['tmm_counts'] = tmm_counts"
   ]
  },
  {
   "cell_type": "markdown",
   "id": "0aa592ac",
   "metadata": {},
   "source": [
    "### Save the AnnotatedGEM as a .netcdf file\n",
    "\n",
    "Recall that `.nc` files cannot be overwritten, nor have variables added to them. \n",
    "So we either need to delete and save the file with the same name, or save as a new file."
   ]
  },
  {
   "cell_type": "code",
   "execution_count": null,
   "id": "4f7d1feb",
   "metadata": {},
   "outputs": [],
   "source": [
    "if not NORMED_GEM_PATH.exists():\n",
    "    agem.save(NORMED_GEM_PATH)"
   ]
  }
 ],
 "metadata": {
  "kernelspec": {
   "display_name": "gsfenv",
   "language": "python",
   "name": "gsfenv"
  }
 },
 "nbformat": 4,
 "nbformat_minor": 5
}